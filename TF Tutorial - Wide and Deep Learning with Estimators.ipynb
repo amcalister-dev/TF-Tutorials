{
 "cells": [
  {
   "cell_type": "code",
   "execution_count": 1,
   "metadata": {},
   "outputs": [],
   "source": [
    "# Census Income Data Set contains >48,000 samples with attributes\n",
    "# including age, occupation, education, and income (a binary\n",
    "# label, either >50K or <=50K). Dataset is split into roughly\n",
    "# 32,000 training and 16,000 testing samples."
   ]
  },
  {
   "cell_type": "code",
   "execution_count": 2,
   "metadata": {},
   "outputs": [],
   "source": [
    "# Use the wide and deep model to predict the income labels.\n",
    "# The wide model is able to memorize interactions with data \n",
    "# with a large number of features but not able to generalize\n",
    "# these learned interactions on new data.\n",
    "# The deep model generalizes well but is unable to learn\n",
    "# exceptions within the data.\n",
    "# The wide and deep model combines the two models and is able\n",
    "# to generalize while learning exceptions.\n",
    "# Note: Consider the benefits and harm a model's predictions\n",
    "# could cause. Make sure to consider ML fairness."
   ]
  },
  {
   "cell_type": "code",
   "execution_count": 3,
   "metadata": {},
   "outputs": [],
   "source": [
    "# https://github.com/tensorflow/models/tree/master/official/r1/wide_deep"
   ]
  },
  {
   "cell_type": "code",
   "execution_count": null,
   "metadata": {},
   "outputs": [],
   "source": []
  }
 ],
 "metadata": {
  "kernelspec": {
   "display_name": "Python 3",
   "language": "python",
   "name": "python3"
  },
  "language_info": {
   "codemirror_mode": {
    "name": "ipython",
    "version": 3
   },
   "file_extension": ".py",
   "mimetype": "text/x-python",
   "name": "python",
   "nbconvert_exporter": "python",
   "pygments_lexer": "ipython3",
   "version": "3.7.3"
  }
 },
 "nbformat": 4,
 "nbformat_minor": 2
}
