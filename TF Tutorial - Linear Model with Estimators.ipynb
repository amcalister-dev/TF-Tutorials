{
 "cells": [
  {
   "cell_type": "code",
   "execution_count": 1,
   "metadata": {},
   "outputs": [],
   "source": [
    "#@title Licensed under the Apache License, Version 2.0 (the \"License\");\n",
    "# you may not use this file except in compliance with the License.\n",
    "# You may obtain a copy of the License at\n",
    "#\n",
    "# https://www.apache.org/licenses/LICENSE-2.0\n",
    "#\n",
    "# Unless required by applicable law or agreed to in writing, software\n",
    "# distributed under the License is distributed on an \"AS IS\" BASIS,\n",
    "# WITHOUT WARRANTIES OR CONDITIONS OF ANY KIND, either express or implied.\n",
    "# See the License for the specific language governing permissions and\n",
    "# limitations under the License."
   ]
  },
  {
   "cell_type": "code",
   "execution_count": 2,
   "metadata": {},
   "outputs": [],
   "source": [
    "# Overview: Using census data with a person's age, education, \n",
    "# marital status, and occupation (the features), try to predict\n",
    "# whether or not the person earns more than $50000 a year.\n",
    "# Train a logistic regression to output a number between 0 and 1\n",
    "# to be interpreted as the probability that the individual has\n",
    "# as income > 50000."
   ]
  },
  {
   "cell_type": "code",
   "execution_count": 3,
   "metadata": {},
   "outputs": [],
   "source": [
    "from __future__ import absolute_import, division,\\\n",
    "    print_function, unicode_literals"
   ]
  },
  {
   "cell_type": "code",
   "execution_count": 4,
   "metadata": {},
   "outputs": [],
   "source": [
    "import tensorflow as tf\n",
    "import tensorflow.feature_column as fc"
   ]
  },
  {
   "cell_type": "code",
   "execution_count": 5,
   "metadata": {},
   "outputs": [],
   "source": [
    "import os\n",
    "import sys\n",
    "from matplotlib import pyplot as plt\n",
    "from IPython.display import clear_output"
   ]
  },
  {
   "cell_type": "code",
   "execution_count": 6,
   "metadata": {},
   "outputs": [],
   "source": [
    "tf.enable_eager_execution()"
   ]
  },
  {
   "cell_type": "code",
   "execution_count": 8,
   "metadata": {},
   "outputs": [],
   "source": [
    "#!pip install requests"
   ]
  },
  {
   "cell_type": "code",
   "execution_count": 9,
   "metadata": {},
   "outputs": [],
   "source": [
    "#!git clone --depth 1 https://github.com/tensorflow/models"
   ]
  },
  {
   "cell_type": "code",
   "execution_count": 10,
   "metadata": {},
   "outputs": [],
   "source": [
    "# Add the root directory of the repository to your Python path\n",
    "model_path = os.path.join(os.getcwd(),'models')"
   ]
  },
  {
   "cell_type": "code",
   "execution_count": 11,
   "metadata": {},
   "outputs": [],
   "source": [
    "sys.path.append(model_path)"
   ]
  },
  {
   "cell_type": "code",
   "execution_count": 12,
   "metadata": {},
   "outputs": [],
   "source": [
    "# Download the dataset\n",
    "from official.r1.wide_deep import census_dataset, census_main"
   ]
  },
  {
   "cell_type": "code",
   "execution_count": 13,
   "metadata": {},
   "outputs": [
    {
     "name": "stdout",
     "output_type": "stream",
     "text": [
      "WARNING:tensorflow:From /home/allisonrmcalister/my_tensorflow/models/official/r1/wide_deep/census_dataset.py:79: The name tf.gfile.MakeDirs is deprecated. Please use tf.io.gfile.makedirs instead.\n",
      "\n",
      "WARNING:tensorflow:From /home/allisonrmcalister/my_tensorflow/models/official/r1/wide_deep/census_dataset.py:82: The name tf.gfile.Exists is deprecated. Please use tf.io.gfile.exists instead.\n",
      "\n"
     ]
    }
   ],
   "source": [
    "census_dataset.download('/tmp/census_data')"
   ]
  },
  {
   "cell_type": "code",
   "execution_count": 14,
   "metadata": {},
   "outputs": [],
   "source": [
    "# Command line usage\n",
    "# Export PYTHONPATH=${PYTHONPATH}:\"$(pwd)/models\"\n",
    "if \"PYTHONPATH\" in os.environ:\n",
    "    os.environ['PYTHONPATH'] += os.pathsep + model_path\n",
    "else:\n",
    "    os.environ['PYTHONPATH'] = model_path"
   ]
  },
  {
   "cell_type": "code",
   "execution_count": 15,
   "metadata": {
    "collapsed": true
   },
   "outputs": [
    {
     "name": "stdout",
     "output_type": "stream",
     "text": [
      "WARNING:tensorflow:From /home/allisonrmcalister/my_tensorflow/models/official/r1/wide_deep/census_main.py:114: The name tf.logging.set_verbosity is deprecated. Please use tf.compat.v1.logging.set_verbosity instead.\n",
      "\n",
      "WARNING:tensorflow:From /home/allisonrmcalister/my_tensorflow/models/official/r1/wide_deep/census_main.py:114: The name tf.logging.INFO is deprecated. Please use tf.compat.v1.logging.INFO instead.\n",
      "\n",
      "Train DNN on census income dataset.\n",
      "flags:\n",
      "\n",
      "/home/allisonrmcalister/my_tensorflow/models/official/r1/wide_deep/census_main.py:\n",
      "  -bs,--batch_size:\n",
      "    Batch size for training and evaluation. When using multiple gpus, this is\n",
      "    the\n",
      "    global batch size for all devices. For example, if the batch size is 32 and\n",
      "    there are 4 GPUs, each GPU will get 8 examples on each step.\n",
      "    (default: '40')\n",
      "    (an integer)\n",
      "  --[no]clean:\n",
      "    If set, model_dir will be removed if it exists.\n",
      "    (default: 'false')\n",
      "  -dd,--data_dir:\n",
      "    The location of the input data.\n",
      "    (default: '/tmp/census_data')\n",
      "  --[no]download_if_missing:\n",
      "    Download data to data_dir if it is not already present.\n",
      "    (default: 'true')\n",
      "  -ebe,--epochs_between_evals:\n",
      "    The number of training epochs to run between evaluations.\n",
      "    (default: '2')\n",
      "    (an integer)\n",
      "  -ed,--export_dir:\n",
      "    If set, a SavedModel serialization of the model will be exported to this\n",
      "    directory at the end of training. See the README for more details and\n",
      "    relevant\n",
      "    links.\n",
      "  -hk,--hooks:\n",
      "    A list of (case insensitive) strings to specify the names of training hooks.\n",
      "    ﻿  Hook:\n",
      "    ﻿    loggingtensorhook\n",
      "    ﻿    profilerhook\n",
      "    ﻿    examplespersecondhook\n",
      "    ﻿    loggingmetrichook\n",
      "    ﻿    stepcounterhook\n",
      "    ﻿  Example: `--hooks ProfilerHook,ExamplesPerSecondHook`\n",
      "    See official.utils.logs.hooks_helper for details.\n",
      "    (default: 'LoggingTensorHook')\n",
      "    (a comma separated list)\n",
      "  -md,--model_dir:\n",
      "    The location of the model checkpoint files.\n",
      "    (default: '/tmp/census_model')\n",
      "  -mt,--model_type: <wide|deep|wide_deep>: Select model topology.\n",
      "    (default: 'wide_deep')\n",
      "  -te,--train_epochs:\n",
      "    The number of epochs used to train.\n",
      "    (default: '40')\n",
      "    (an integer)\n",
      "\n",
      "Try --helpfull to get a list of all flags.\n"
     ]
    }
   ],
   "source": [
    "# See what command-line options are available.\n",
    "!python -m official.r1.wide_deep.census_main --help"
   ]
  },
  {
   "cell_type": "code",
   "execution_count": 16,
   "metadata": {
    "collapsed": true
   },
   "outputs": [
    {
     "name": "stdout",
     "output_type": "stream",
     "text": [
      "WARNING:tensorflow:From /home/allisonrmcalister/my_tensorflow/models/official/r1/wide_deep/census_main.py:114: The name tf.logging.set_verbosity is deprecated. Please use tf.compat.v1.logging.set_verbosity instead.\n",
      "\n",
      "WARNING:tensorflow:From /home/allisonrmcalister/my_tensorflow/models/official/r1/wide_deep/census_main.py:114: The name tf.logging.INFO is deprecated. Please use tf.compat.v1.logging.INFO instead.\n",
      "\n",
      "WARNING:tensorflow:From /home/allisonrmcalister/my_tensorflow/models/official/r1/wide_deep/census_dataset.py:79: The name tf.gfile.MakeDirs is deprecated. Please use tf.io.gfile.makedirs instead.\n",
      "\n",
      "W1021 11:06:40.506283 133823426000256 deprecation_wrapper.py:119] From /home/allisonrmcalister/my_tensorflow/models/official/r1/wide_deep/census_dataset.py:79: The name tf.gfile.MakeDirs is deprecated. Please use tf.io.gfile.makedirs instead.\n",
      "\n",
      "WARNING:tensorflow:From /home/allisonrmcalister/my_tensorflow/models/official/r1/wide_deep/census_dataset.py:82: The name tf.gfile.Exists is deprecated. Please use tf.io.gfile.exists instead.\n",
      "\n",
      "W1021 11:06:40.507183 133823426000256 deprecation_wrapper.py:119] From /home/allisonrmcalister/my_tensorflow/models/official/r1/wide_deep/census_dataset.py:82: The name tf.gfile.Exists is deprecated. Please use tf.io.gfile.exists instead.\n",
      "\n",
      "WARNING:tensorflow:From /home/allisonrmcalister/my_tensorflow/models/official/r1/wide_deep/census_main.py:49: The name tf.ConfigProto is deprecated. Please use tf.compat.v1.ConfigProto instead.\n",
      "\n",
      "W1021 11:06:40.510316 133823426000256 deprecation_wrapper.py:119] From /home/allisonrmcalister/my_tensorflow/models/official/r1/wide_deep/census_main.py:49: The name tf.ConfigProto is deprecated. Please use tf.compat.v1.ConfigProto instead.\n",
      "\n",
      "INFO:tensorflow:Using config: {'_model_dir': '/tmp/census_model', '_tf_random_seed': None, '_save_summary_steps': 100, '_save_checkpoints_steps': None, '_save_checkpoints_secs': 600, '_session_config': device_count {\n",
      "  key: \"GPU\"\n",
      "  value: 0\n",
      "}\n",
      ", '_keep_checkpoint_max': 5, '_keep_checkpoint_every_n_hours': 10000, '_log_step_count_steps': 100, '_train_distribute': None, '_device_fn': None, '_protocol': None, '_eval_distribute': None, '_experimental_distribute': None, '_experimental_max_worker_delay_secs': None, '_service': None, '_cluster_spec': <tensorflow.python.training.server_lib.ClusterSpec object at 0x79b60818ee10>, '_task_type': 'worker', '_task_id': 0, '_global_id_in_cluster': 0, '_master': '', '_evaluation_master': '', '_is_chief': True, '_num_ps_replicas': 0, '_num_worker_replicas': 1}\n",
      "I1021 11:06:40.513373 133823426000256 estimator.py:209] Using config: {'_model_dir': '/tmp/census_model', '_tf_random_seed': None, '_save_summary_steps': 100, '_save_checkpoints_steps': None, '_save_checkpoints_secs': 600, '_session_config': device_count {\n",
      "  key: \"GPU\"\n",
      "  value: 0\n",
      "}\n",
      ", '_keep_checkpoint_max': 5, '_keep_checkpoint_every_n_hours': 10000, '_log_step_count_steps': 100, '_train_distribute': None, '_device_fn': None, '_protocol': None, '_eval_distribute': None, '_experimental_distribute': None, '_experimental_max_worker_delay_secs': None, '_service': None, '_cluster_spec': <tensorflow.python.training.server_lib.ClusterSpec object at 0x79b60818ee10>, '_task_type': 'worker', '_task_id': 0, '_global_id_in_cluster': 0, '_master': '', '_evaluation_master': '', '_is_chief': True, '_num_ps_replicas': 0, '_num_worker_replicas': 1}\n",
      "WARNING:tensorflow:'cpuinfo' not imported. CPU info will not be logged.\n",
      "W1021 11:06:40.516332 133823426000256 logger.py:387] 'cpuinfo' not imported. CPU info will not be logged.\n",
      "INFO:tensorflow:Benchmark run: {'model_name': 'wide_deep', 'dataset': {'name': 'Census Income'}, 'machine_config': {'memory_total': 2932736000, 'memory_available': 2263814144}, 'test_id': None, 'run_date': '2019-10-21T15:06:40.515056Z', 'tensorflow_version': {'version': '1.14.0', 'git_hash': 'unknown'}, 'tensorflow_environment_variables': [], 'run_parameters': [{'name': 'batch_size', 'long_value': 40}, {'name': 'model_type', 'string_value': 'wide'}, {'name': 'train_epochs', 'long_value': 2}], 'test_environment': 'GCP'}\n",
      "I1021 11:06:40.674398 133823426000256 logger.py:152] Benchmark run: {'model_name': 'wide_deep', 'dataset': {'name': 'Census Income'}, 'machine_config': {'memory_total': 2932736000, 'memory_available': 2263814144}, 'test_id': None, 'run_date': '2019-10-21T15:06:40.515056Z', 'tensorflow_version': {'version': '1.14.0', 'git_hash': 'unknown'}, 'tensorflow_environment_variables': [], 'run_parameters': [{'name': 'batch_size', 'long_value': 40}, {'name': 'model_type', 'string_value': 'wide'}, {'name': 'train_epochs', 'long_value': 2}], 'test_environment': 'GCP'}\n",
      "WARNING:tensorflow:From /home/allisonrmcalister/anaconda3/lib/python3.7/site-packages/tensorflow/python/training/training_util.py:236: Variable.initialized_value (from tensorflow.python.ops.variables) is deprecated and will be removed in a future version.\n",
      "Instructions for updating:\n",
      "Use Variable.read_value. Variables in 2.X are initialized automatically both in eager and graph (inside tf.defun) contexts.\n",
      "W1021 11:06:40.757363 133823426000256 deprecation.py:323] From /home/allisonrmcalister/anaconda3/lib/python3.7/site-packages/tensorflow/python/training/training_util.py:236: Variable.initialized_value (from tensorflow.python.ops.variables) is deprecated and will be removed in a future version.\n",
      "Instructions for updating:\n",
      "Use Variable.read_value. Variables in 2.X are initialized automatically both in eager and graph (inside tf.defun) contexts.\n",
      "WARNING:tensorflow:From /home/allisonrmcalister/my_tensorflow/models/official/r1/wide_deep/census_dataset.py:168: The name tf.logging.info is deprecated. Please use tf.compat.v1.logging.info instead.\n",
      "\n",
      "W1021 11:06:40.898175 133823426000256 deprecation_wrapper.py:119] From /home/allisonrmcalister/my_tensorflow/models/official/r1/wide_deep/census_dataset.py:168: The name tf.logging.info is deprecated. Please use tf.compat.v1.logging.info instead.\n",
      "\n",
      "INFO:tensorflow:Parsing /tmp/census_data/adult.data\n",
      "I1021 11:06:40.898786 133823426000256 census_dataset.py:168] Parsing /tmp/census_data/adult.data\n",
      "WARNING:tensorflow:From /home/allisonrmcalister/my_tensorflow/models/official/r1/wide_deep/census_dataset.py:169: The name tf.decode_csv is deprecated. Please use tf.io.decode_csv instead.\n",
      "\n",
      "W1021 11:06:40.899075 133823426000256 deprecation_wrapper.py:119] From /home/allisonrmcalister/my_tensorflow/models/official/r1/wide_deep/census_dataset.py:169: The name tf.decode_csv is deprecated. Please use tf.io.decode_csv instead.\n",
      "\n",
      "INFO:tensorflow:Calling model_fn.\n",
      "I1021 11:06:41.095707 133823426000256 estimator.py:1145] Calling model_fn.\n",
      "WARNING:tensorflow:From /home/allisonrmcalister/anaconda3/lib/python3.7/site-packages/tensorflow/python/ops/sparse_ops.py:1719: add_dispatch_support.<locals>.wrapper (from tensorflow.python.ops.array_ops) is deprecated and will be removed in a future version.\n",
      "Instructions for updating:\n",
      "Use tf.where in 2.0, which has the same broadcast rule as np.where\n",
      "W1021 11:06:42.287485 133823426000256 deprecation.py:323] From /home/allisonrmcalister/anaconda3/lib/python3.7/site-packages/tensorflow/python/ops/sparse_ops.py:1719: add_dispatch_support.<locals>.wrapper (from tensorflow.python.ops.array_ops) is deprecated and will be removed in a future version.\n",
      "Instructions for updating:\n",
      "Use tf.where in 2.0, which has the same broadcast rule as np.where\n",
      "WARNING:tensorflow:From /home/allisonrmcalister/anaconda3/lib/python3.7/site-packages/tensorflow_estimator/python/estimator/canned/linear.py:308: to_float (from tensorflow.python.ops.math_ops) is deprecated and will be removed in a future version.\n",
      "Instructions for updating:\n",
      "Use `tf.cast` instead.\n",
      "W1021 11:06:44.326451 133823426000256 deprecation.py:323] From /home/allisonrmcalister/anaconda3/lib/python3.7/site-packages/tensorflow_estimator/python/estimator/canned/linear.py:308: to_float (from tensorflow.python.ops.math_ops) is deprecated and will be removed in a future version.\n",
      "Instructions for updating:\n",
      "Use `tf.cast` instead.\n",
      "INFO:tensorflow:Done calling model_fn.\n",
      "I1021 11:06:47.964638 133823426000256 estimator.py:1147] Done calling model_fn.\n",
      "INFO:tensorflow:Create CheckpointSaverHook.\n",
      "I1021 11:06:47.970366 133823426000256 basic_session_run_hooks.py:541] Create CheckpointSaverHook.\n"
     ]
    },
    {
     "name": "stdout",
     "output_type": "stream",
     "text": [
      "INFO:tensorflow:Graph was finalized.\n",
      "I1021 11:06:49.915116 133823426000256 monitored_session.py:240] Graph was finalized.\n",
      "2019-10-21 11:06:49.916692: I tensorflow/core/platform/cpu_feature_guard.cc:145] This TensorFlow binary is optimized with Intel(R) MKL-DNN to use the following CPU instructions in performance critical operations:  SSE4.1 SSE4.2\n",
      "To enable them in non-MKL-DNN operations, rebuild TensorFlow with the appropriate compiler flags.\n",
      "2019-10-21 11:06:49.947817: I tensorflow/core/platform/profile_utils/cpu_utils.cc:94] CPU Frequency: 1094385000 Hz\n",
      "2019-10-21 11:06:49.949215: I tensorflow/compiler/xla/service/service.cc:168] XLA service 0x55eb63b07b50 executing computations on platform Host. Devices:\n",
      "2019-10-21 11:06:49.949677: I tensorflow/compiler/xla/service/service.cc:175]   StreamExecutor device (0): <undefined>, <undefined>\n",
      "OMP: Info #212: KMP_AFFINITY: decoding x2APIC ids.\n",
      "OMP: Info #213: KMP_AFFINITY: x2APIC ids not unique - decoding legacy APIC ids.\n",
      "OMP: Info #149: KMP_AFFINITY: Affinity capable, using global cpuid info\n",
      "OMP: Info #154: KMP_AFFINITY: Initial OS proc set respected: 0,1\n",
      "OMP: Info #156: KMP_AFFINITY: 2 available OS procs\n",
      "OMP: Info #157: KMP_AFFINITY: Uniform topology\n",
      "OMP: Info #159: KMP_AFFINITY: 1 packages x 1 cores/pkg x 2 threads/core (1 total cores)\n",
      "OMP: Info #214: KMP_AFFINITY: OS proc to physical thread map:\n",
      "OMP: Info #171: KMP_AFFINITY: OS proc 0 maps to package 0 thread 0 \n",
      "OMP: Info #171: KMP_AFFINITY: OS proc 1 maps to package 0 thread 1 \n",
      "OMP: Info #250: KMP_AFFINITY: pid 6219 tid 6219 thread 0 bound to OS proc set 0\n",
      "2019-10-21 11:06:49.956031: I tensorflow/core/common_runtime/process_util.cc:115] Creating new thread pool with default inter op setting: 2. Tune using inter_op_parallelism_threads for best performance.\n",
      "WARNING:tensorflow:From /home/allisonrmcalister/anaconda3/lib/python3.7/site-packages/tensorflow/python/training/saver.py:1276: checkpoint_exists (from tensorflow.python.training.checkpoint_management) is deprecated and will be removed in a future version.\n",
      "Instructions for updating:\n",
      "Use standard file APIs to check for files with this prefix.\n",
      "W1021 11:06:49.965659 133823426000256 deprecation.py:323] From /home/allisonrmcalister/anaconda3/lib/python3.7/site-packages/tensorflow/python/training/saver.py:1276: checkpoint_exists (from tensorflow.python.training.checkpoint_management) is deprecated and will be removed in a future version.\n",
      "Instructions for updating:\n",
      "Use standard file APIs to check for files with this prefix.\n",
      "INFO:tensorflow:Restoring parameters from /tmp/census_model/model.ckpt-1629\n",
      "I1021 11:06:49.971279 133823426000256 saver.py:1280] Restoring parameters from /tmp/census_model/model.ckpt-1629\n",
      "2019-10-21 11:06:50.389372: W tensorflow/compiler/jit/mark_for_compilation_pass.cc:1412] (One-time warning): Not using XLA:CPU for cluster because envvar TF_XLA_FLAGS=--tf_xla_cpu_global_jit was not set.  If you want XLA:CPU, either set that envvar, or use experimental_jit_scope to enable XLA:CPU.  To confirm that XLA is active, pass --vmodule=xla_compilation_cache=1 (as a proper command-line flag, not via TF_XLA_FLAGS) or set the envvar XLA_FLAGS=--xla_hlo_profile.\n",
      "WARNING:tensorflow:From /home/allisonrmcalister/anaconda3/lib/python3.7/site-packages/tensorflow/python/training/saver.py:1066: get_checkpoint_mtimes (from tensorflow.python.training.checkpoint_management) is deprecated and will be removed in a future version.\n",
      "Instructions for updating:\n",
      "Use standard file utilities to get mtimes.\n",
      "W1021 11:06:50.484495 133823426000256 deprecation.py:323] From /home/allisonrmcalister/anaconda3/lib/python3.7/site-packages/tensorflow/python/training/saver.py:1066: get_checkpoint_mtimes (from tensorflow.python.training.checkpoint_management) is deprecated and will be removed in a future version.\n",
      "Instructions for updating:\n",
      "Use standard file utilities to get mtimes.\n",
      "INFO:tensorflow:Running local_init_op.\n",
      "I1021 11:06:50.787059 133823426000256 session_manager.py:500] Running local_init_op.\n",
      "INFO:tensorflow:Done running local_init_op.\n",
      "I1021 11:06:50.902624 133823426000256 session_manager.py:502] Done running local_init_op.\n",
      "INFO:tensorflow:Saving checkpoints for 1629 into /tmp/census_model/model.ckpt.\n",
      "I1021 11:06:54.018320 133823426000256 basic_session_run_hooks.py:606] Saving checkpoints for 1629 into /tmp/census_model/model.ckpt.\n",
      "OMP: Info #250: KMP_AFFINITY: pid 6219 tid 6233 thread 1 bound to OS proc set 1\n",
      "OMP: Info #250: KMP_AFFINITY: pid 6219 tid 6234 thread 2 bound to OS proc set 0\n",
      "OMP: Info #250: KMP_AFFINITY: pid 6219 tid 6280 thread 3 bound to OS proc set 1\n",
      "INFO:tensorflow:average_loss = 0.37954062, loss = 15.181624\n",
      "I1021 11:07:02.704177 133823426000256 basic_session_run_hooks.py:262] average_loss = 0.37954062, loss = 15.181624\n",
      "INFO:tensorflow:loss = 15.181624, step = 1630\n",
      "I1021 11:07:02.708471 133823426000256 basic_session_run_hooks.py:262] loss = 15.181624, step = 1630\n",
      "INFO:tensorflow:global_step/sec: 11.6619\n",
      "I1021 11:07:11.278138 133823426000256 basic_session_run_hooks.py:692] global_step/sec: 11.6619\n",
      "INFO:tensorflow:average_loss = 0.37577397, loss = 15.030958 (8.586 sec)\n",
      "I1021 11:07:11.289810 133823426000256 basic_session_run_hooks.py:260] average_loss = 0.37577397, loss = 15.030958 (8.586 sec)\n",
      "INFO:tensorflow:loss = 15.030958, step = 1730 (8.598 sec)\n",
      "I1021 11:07:11.306776 133823426000256 basic_session_run_hooks.py:260] loss = 15.030958, step = 1730 (8.598 sec)\n",
      "INFO:tensorflow:global_step/sec: 51.9599\n",
      "I1021 11:07:13.202197 133823426000256 basic_session_run_hooks.py:692] global_step/sec: 51.9599\n",
      "INFO:tensorflow:average_loss = 0.362034, loss = 14.4813595 (1.916 sec)\n",
      "I1021 11:07:13.205752 133823426000256 basic_session_run_hooks.py:260] average_loss = 0.362034, loss = 14.4813595 (1.916 sec)\n",
      "INFO:tensorflow:loss = 14.4813595, step = 1830 (1.902 sec)\n",
      "I1021 11:07:13.208429 133823426000256 basic_session_run_hooks.py:260] loss = 14.4813595, step = 1830 (1.902 sec)\n",
      "INFO:tensorflow:global_step/sec: 50.3366\n",
      "I1021 11:07:15.188995 133823426000256 basic_session_run_hooks.py:692] global_step/sec: 50.3366\n",
      "INFO:tensorflow:average_loss = 0.45498237, loss = 18.199295 (1.985 sec)\n",
      "I1021 11:07:15.191144 133823426000256 basic_session_run_hooks.py:260] average_loss = 0.45498237, loss = 18.199295 (1.985 sec)\n",
      "INFO:tensorflow:loss = 18.199295, step = 1930 (1.986 sec)\n",
      "I1021 11:07:15.194418 133823426000256 basic_session_run_hooks.py:260] loss = 18.199295, step = 1930 (1.986 sec)\n",
      "INFO:tensorflow:global_step/sec: 60.0867\n",
      "I1021 11:07:16.853148 133823426000256 basic_session_run_hooks.py:692] global_step/sec: 60.0867\n",
      "INFO:tensorflow:average_loss = 0.24466248, loss = 9.786499 (1.666 sec)\n",
      "I1021 11:07:16.857301 133823426000256 basic_session_run_hooks.py:260] average_loss = 0.24466248, loss = 9.786499 (1.666 sec)\n",
      "INFO:tensorflow:loss = 9.786499, step = 2030 (1.664 sec)\n",
      "I1021 11:07:16.858109 133823426000256 basic_session_run_hooks.py:260] loss = 9.786499, step = 2030 (1.664 sec)\n",
      "INFO:tensorflow:global_step/sec: 63.8496\n",
      "I1021 11:07:18.419309 133823426000256 basic_session_run_hooks.py:692] global_step/sec: 63.8496\n",
      "INFO:tensorflow:average_loss = 0.31055877, loss = 12.422351 (1.564 sec)\n",
      "I1021 11:07:18.421778 133823426000256 basic_session_run_hooks.py:260] average_loss = 0.31055877, loss = 12.422351 (1.564 sec)\n",
      "INFO:tensorflow:loss = 12.422351, step = 2130 (1.564 sec)\n",
      "I1021 11:07:18.422599 133823426000256 basic_session_run_hooks.py:260] loss = 12.422351, step = 2130 (1.564 sec)\n",
      "INFO:tensorflow:global_step/sec: 68.1334\n",
      "I1021 11:07:19.887019 133823426000256 basic_session_run_hooks.py:692] global_step/sec: 68.1334\n",
      "INFO:tensorflow:average_loss = 0.30028, loss = 12.0112 (1.468 sec)\n",
      "I1021 11:07:19.890225 133823426000256 basic_session_run_hooks.py:260] average_loss = 0.30028, loss = 12.0112 (1.468 sec)\n",
      "INFO:tensorflow:loss = 12.0112, step = 2230 (1.469 sec)\n",
      "I1021 11:07:19.891059 133823426000256 basic_session_run_hooks.py:260] loss = 12.0112, step = 2230 (1.469 sec)\n",
      "INFO:tensorflow:global_step/sec: 72.5656\n",
      "I1021 11:07:21.265051 133823426000256 basic_session_run_hooks.py:692] global_step/sec: 72.5656\n",
      "INFO:tensorflow:average_loss = 0.33544442, loss = 13.417777 (1.377 sec)\n",
      "I1021 11:07:21.266915 133823426000256 basic_session_run_hooks.py:260] average_loss = 0.33544442, loss = 13.417777 (1.377 sec)\n",
      "INFO:tensorflow:loss = 13.417777, step = 2330 (1.382 sec)\n",
      "I1021 11:07:21.273086 133823426000256 basic_session_run_hooks.py:260] loss = 13.417777, step = 2330 (1.382 sec)\n"
     ]
    },
    {
     "name": "stdout",
     "output_type": "stream",
     "text": [
      "INFO:tensorflow:global_step/sec: 78.5575\n",
      "I1021 11:07:22.538075 133823426000256 basic_session_run_hooks.py:692] global_step/sec: 78.5575\n",
      "INFO:tensorflow:average_loss = 0.2811783, loss = 11.247132 (1.273 sec)\n",
      "I1021 11:07:22.540088 133823426000256 basic_session_run_hooks.py:260] average_loss = 0.2811783, loss = 11.247132 (1.273 sec)\n",
      "INFO:tensorflow:loss = 11.247132, step = 2430 (1.268 sec)\n",
      "I1021 11:07:22.540816 133823426000256 basic_session_run_hooks.py:260] loss = 11.247132, step = 2430 (1.268 sec)\n",
      "INFO:tensorflow:global_step/sec: 48.7932\n",
      "I1021 11:07:24.587469 133823426000256 basic_session_run_hooks.py:692] global_step/sec: 48.7932\n",
      "INFO:tensorflow:average_loss = 0.3694593, loss = 14.778372 (2.051 sec)\n",
      "I1021 11:07:24.591063 133823426000256 basic_session_run_hooks.py:260] average_loss = 0.3694593, loss = 14.778372 (2.051 sec)\n",
      "INFO:tensorflow:loss = 14.778372, step = 2530 (2.051 sec)\n",
      "I1021 11:07:24.591835 133823426000256 basic_session_run_hooks.py:260] loss = 14.778372, step = 2530 (2.051 sec)\n",
      "INFO:tensorflow:global_step/sec: 68.9888\n",
      "I1021 11:07:26.037027 133823426000256 basic_session_run_hooks.py:692] global_step/sec: 68.9888\n",
      "INFO:tensorflow:average_loss = 0.2760961, loss = 11.043844 (1.448 sec)\n",
      "I1021 11:07:26.039493 133823426000256 basic_session_run_hooks.py:260] average_loss = 0.2760961, loss = 11.043844 (1.448 sec)\n",
      "INFO:tensorflow:loss = 11.043844, step = 2630 (1.448 sec)\n",
      "I1021 11:07:26.040221 133823426000256 basic_session_run_hooks.py:260] loss = 11.043844, step = 2630 (1.448 sec)\n",
      "INFO:tensorflow:global_step/sec: 77.2085\n",
      "I1021 11:07:27.332191 133823426000256 basic_session_run_hooks.py:692] global_step/sec: 77.2085\n",
      "INFO:tensorflow:average_loss = 0.21593456, loss = 8.6373825 (1.295 sec)\n",
      "I1021 11:07:27.334258 133823426000256 basic_session_run_hooks.py:260] average_loss = 0.21593456, loss = 8.6373825 (1.295 sec)\n",
      "INFO:tensorflow:loss = 8.6373825, step = 2730 (1.295 sec)\n",
      "I1021 11:07:27.335014 133823426000256 basic_session_run_hooks.py:260] loss = 8.6373825, step = 2730 (1.295 sec)\n",
      "INFO:tensorflow:global_step/sec: 78.1123\n",
      "I1021 11:07:28.612444 133823426000256 basic_session_run_hooks.py:692] global_step/sec: 78.1123\n",
      "INFO:tensorflow:average_loss = 0.42456228, loss = 16.98249 (1.281 sec)\n",
      "I1021 11:07:28.615601 133823426000256 basic_session_run_hooks.py:260] average_loss = 0.42456228, loss = 16.98249 (1.281 sec)\n",
      "INFO:tensorflow:loss = 16.98249, step = 2830 (1.281 sec)\n",
      "I1021 11:07:28.616338 133823426000256 basic_session_run_hooks.py:260] loss = 16.98249, step = 2830 (1.281 sec)\n",
      "INFO:tensorflow:global_step/sec: 70.134\n",
      "I1021 11:07:30.038271 133823426000256 basic_session_run_hooks.py:692] global_step/sec: 70.134\n",
      "INFO:tensorflow:average_loss = 0.51524276, loss = 20.60971 (1.426 sec)\n",
      "I1021 11:07:30.041295 133823426000256 basic_session_run_hooks.py:260] average_loss = 0.51524276, loss = 20.60971 (1.426 sec)\n",
      "INFO:tensorflow:loss = 20.60971, step = 2930 (1.426 sec)\n",
      "I1021 11:07:30.042073 133823426000256 basic_session_run_hooks.py:260] loss = 20.60971, step = 2930 (1.426 sec)\n",
      "INFO:tensorflow:global_step/sec: 78.6825\n",
      "I1021 11:07:31.309216 133823426000256 basic_session_run_hooks.py:692] global_step/sec: 78.6825\n",
      "INFO:tensorflow:average_loss = 0.4001855, loss = 16.00742 (1.270 sec)\n",
      "I1021 11:07:31.311350 133823426000256 basic_session_run_hooks.py:260] average_loss = 0.4001855, loss = 16.00742 (1.270 sec)\n",
      "INFO:tensorflow:loss = 16.00742, step = 3030 (1.270 sec)\n",
      "I1021 11:07:31.312124 133823426000256 basic_session_run_hooks.py:260] loss = 16.00742, step = 3030 (1.270 sec)\n",
      "INFO:tensorflow:global_step/sec: 74.292\n",
      "I1021 11:07:32.655257 133823426000256 basic_session_run_hooks.py:692] global_step/sec: 74.292\n",
      "INFO:tensorflow:average_loss = 0.30818242, loss = 12.327297 (1.346 sec)\n",
      "I1021 11:07:32.657164 133823426000256 basic_session_run_hooks.py:260] average_loss = 0.30818242, loss = 12.327297 (1.346 sec)\n",
      "INFO:tensorflow:loss = 12.327297, step = 3130 (1.346 sec)\n",
      "I1021 11:07:32.657944 133823426000256 basic_session_run_hooks.py:260] loss = 12.327297, step = 3130 (1.346 sec)\n",
      "INFO:tensorflow:global_step/sec: 72.4599\n",
      "I1021 11:07:34.035327 133823426000256 basic_session_run_hooks.py:692] global_step/sec: 72.4599\n",
      "INFO:tensorflow:average_loss = 0.21348032, loss = 8.539213 (1.380 sec)\n",
      "I1021 11:07:34.037595 133823426000256 basic_session_run_hooks.py:260] average_loss = 0.21348032, loss = 8.539213 (1.380 sec)\n",
      "INFO:tensorflow:loss = 8.539213, step = 3230 (1.380 sec)\n",
      "I1021 11:07:34.038283 133823426000256 basic_session_run_hooks.py:260] loss = 8.539213, step = 3230 (1.380 sec)\n",
      "INFO:tensorflow:Saving checkpoints for 3258 into /tmp/census_model/model.ckpt.\n",
      "I1021 11:07:34.491039 133823426000256 basic_session_run_hooks.py:606] Saving checkpoints for 3258 into /tmp/census_model/model.ckpt.\n",
      "INFO:tensorflow:Loss for final step: 0.401448.\n",
      "I1021 11:07:34.989251 133823426000256 estimator.py:368] Loss for final step: 0.401448.\n",
      "INFO:tensorflow:Parsing /tmp/census_data/adult.test\n",
      "I1021 11:07:35.087732 133823426000256 census_dataset.py:168] Parsing /tmp/census_data/adult.test\n",
      "INFO:tensorflow:Calling model_fn.\n",
      "I1021 11:07:35.249305 133823426000256 estimator.py:1145] Calling model_fn.\n",
      "WARNING:tensorflow:From /home/allisonrmcalister/anaconda3/lib/python3.7/site-packages/tensorflow/python/ops/metrics_impl.py:2027: div (from tensorflow.python.ops.math_ops) is deprecated and will be removed in a future version.\n",
      "Instructions for updating:\n",
      "Deprecated in favor of operator or tf.math.divide.\n",
      "W1021 11:07:40.012577 133823426000256 deprecation.py:323] From /home/allisonrmcalister/anaconda3/lib/python3.7/site-packages/tensorflow/python/ops/metrics_impl.py:2027: div (from tensorflow.python.ops.math_ops) is deprecated and will be removed in a future version.\n",
      "Instructions for updating:\n",
      "Deprecated in favor of operator or tf.math.divide.\n",
      "WARNING:tensorflow:Trapezoidal rule is known to produce incorrect PR-AUCs; please switch to \"careful_interpolation\" instead.\n",
      "W1021 11:07:42.246923 133823426000256 metrics_impl.py:804] Trapezoidal rule is known to produce incorrect PR-AUCs; please switch to \"careful_interpolation\" instead.\n",
      "WARNING:tensorflow:Trapezoidal rule is known to produce incorrect PR-AUCs; please switch to \"careful_interpolation\" instead.\n",
      "W1021 11:07:42.368243 133823426000256 metrics_impl.py:804] Trapezoidal rule is known to produce incorrect PR-AUCs; please switch to \"careful_interpolation\" instead.\n",
      "INFO:tensorflow:Done calling model_fn.\n",
      "I1021 11:07:42.513275 133823426000256 estimator.py:1147] Done calling model_fn.\n",
      "INFO:tensorflow:Starting evaluation at 2019-10-21T11:07:42Z\n",
      "I1021 11:07:42.623462 133823426000256 evaluation.py:255] Starting evaluation at 2019-10-21T11:07:42Z\n",
      "INFO:tensorflow:Graph was finalized.\n",
      "I1021 11:07:43.399054 133823426000256 monitored_session.py:240] Graph was finalized.\n",
      "INFO:tensorflow:Restoring parameters from /tmp/census_model/model.ckpt-3258\n",
      "I1021 11:07:43.403857 133823426000256 saver.py:1280] Restoring parameters from /tmp/census_model/model.ckpt-3258\n",
      "INFO:tensorflow:Running local_init_op.\n",
      "I1021 11:07:43.855246 133823426000256 session_manager.py:500] Running local_init_op.\n",
      "INFO:tensorflow:Done running local_init_op.\n",
      "I1021 11:07:44.328689 133823426000256 session_manager.py:502] Done running local_init_op.\n",
      "INFO:tensorflow:Finished evaluation at 2019-10-21-11:07:58\n",
      "I1021 11:07:58.729592 133823426000256 evaluation.py:275] Finished evaluation at 2019-10-21-11:07:58\n",
      "INFO:tensorflow:Saving dict for global step 3258: accuracy = 0.83668077, accuracy_baseline = 0.76377374, auc = 0.88377047, auc_precision_recall = 0.69446605, average_loss = 0.3516598, global_step = 3258, label/mean = 0.23622628, loss = 14.032777, precision = 0.6832356, prediction/mean = 0.24145862, recall = 0.57540303\n",
      "I1021 11:07:58.730248 133823426000256 estimator.py:2039] Saving dict for global step 3258: accuracy = 0.83668077, accuracy_baseline = 0.76377374, auc = 0.88377047, auc_precision_recall = 0.69446605, average_loss = 0.3516598, global_step = 3258, label/mean = 0.23622628, loss = 14.032777, precision = 0.6832356, prediction/mean = 0.24145862, recall = 0.57540303\n",
      "INFO:tensorflow:Saving 'checkpoint_path' summary for global step 3258: /tmp/census_model/model.ckpt-3258\n",
      "I1021 11:07:59.607321 133823426000256 estimator.py:2099] Saving 'checkpoint_path' summary for global step 3258: /tmp/census_model/model.ckpt-3258\n",
      "INFO:tensorflow:Results at epoch 2 / 2\n",
      "I1021 11:07:59.609371 133823426000256 wide_deep_run_loop.py:118] Results at epoch 2 / 2\n",
      "INFO:tensorflow:------------------------------------------------------------\n",
      "I1021 11:07:59.609922 133823426000256 wide_deep_run_loop.py:119] ------------------------------------------------------------\n",
      "INFO:tensorflow:accuracy: 0.83668077\n",
      "I1021 11:07:59.610173 133823426000256 wide_deep_run_loop.py:122] accuracy: 0.83668077\n",
      "INFO:tensorflow:accuracy_baseline: 0.76377374\n",
      "I1021 11:07:59.610391 133823426000256 wide_deep_run_loop.py:122] accuracy_baseline: 0.76377374\n",
      "INFO:tensorflow:auc: 0.88377047\n",
      "I1021 11:07:59.610652 133823426000256 wide_deep_run_loop.py:122] auc: 0.88377047\n",
      "INFO:tensorflow:auc_precision_recall: 0.69446605\n",
      "I1021 11:07:59.610938 133823426000256 wide_deep_run_loop.py:122] auc_precision_recall: 0.69446605\n",
      "INFO:tensorflow:average_loss: 0.3516598\n",
      "I1021 11:07:59.611179 133823426000256 wide_deep_run_loop.py:122] average_loss: 0.3516598\n",
      "INFO:tensorflow:global_step: 3258\n",
      "I1021 11:07:59.611418 133823426000256 wide_deep_run_loop.py:122] global_step: 3258\n",
      "INFO:tensorflow:label/mean: 0.23622628\n",
      "I1021 11:07:59.611681 133823426000256 wide_deep_run_loop.py:122] label/mean: 0.23622628\n",
      "INFO:tensorflow:loss: 14.032777\n",
      "I1021 11:07:59.611923 133823426000256 wide_deep_run_loop.py:122] loss: 14.032777\n",
      "INFO:tensorflow:precision: 0.6832356\n",
      "I1021 11:07:59.612138 133823426000256 wide_deep_run_loop.py:122] precision: 0.6832356\n",
      "INFO:tensorflow:prediction/mean: 0.24145862\n",
      "I1021 11:07:59.612342 133823426000256 wide_deep_run_loop.py:122] prediction/mean: 0.24145862\n",
      "INFO:tensorflow:recall: 0.57540303\n",
      "I1021 11:07:59.612597 133823426000256 wide_deep_run_loop.py:122] recall: 0.57540303\n",
      "INFO:tensorflow:Benchmark metric: {'name': 'accuracy', 'value': 0.8366807699203491, 'unit': None, 'global_step': 3258, 'timestamp': '2019-10-21T15:07:59.612937Z', 'extras': []}\n",
      "I1021 11:07:59.613110 133823426000256 logger.py:147] Benchmark metric: {'name': 'accuracy', 'value': 0.8366807699203491, 'unit': None, 'global_step': 3258, 'timestamp': '2019-10-21T15:07:59.612937Z', 'extras': []}\n",
      "INFO:tensorflow:Benchmark metric: {'name': 'accuracy_baseline', 'value': 0.7637737393379211, 'unit': None, 'global_step': 3258, 'timestamp': '2019-10-21T15:07:59.613643Z', 'extras': []}\n",
      "I1021 11:07:59.613739 133823426000256 logger.py:147] Benchmark metric: {'name': 'accuracy_baseline', 'value': 0.7637737393379211, 'unit': None, 'global_step': 3258, 'timestamp': '2019-10-21T15:07:59.613643Z', 'extras': []}\n",
      "INFO:tensorflow:Benchmark metric: {'name': 'auc', 'value': 0.8837704658508301, 'unit': None, 'global_step': 3258, 'timestamp': '2019-10-21T15:07:59.614130Z', 'extras': []}\n",
      "I1021 11:07:59.614211 133823426000256 logger.py:147] Benchmark metric: {'name': 'auc', 'value': 0.8837704658508301, 'unit': None, 'global_step': 3258, 'timestamp': '2019-10-21T15:07:59.614130Z', 'extras': []}\n",
      "INFO:tensorflow:Benchmark metric: {'name': 'auc_precision_recall', 'value': 0.6944660544395447, 'unit': None, 'global_step': 3258, 'timestamp': '2019-10-21T15:07:59.614577Z', 'extras': []}\n",
      "I1021 11:07:59.614665 133823426000256 logger.py:147] Benchmark metric: {'name': 'auc_precision_recall', 'value': 0.6944660544395447, 'unit': None, 'global_step': 3258, 'timestamp': '2019-10-21T15:07:59.614577Z', 'extras': []}\n",
      "INFO:tensorflow:Benchmark metric: {'name': 'average_loss', 'value': 0.3516598045825958, 'unit': None, 'global_step': 3258, 'timestamp': '2019-10-21T15:07:59.615079Z', 'extras': []}\n",
      "I1021 11:07:59.615163 133823426000256 logger.py:147] Benchmark metric: {'name': 'average_loss', 'value': 0.3516598045825958, 'unit': None, 'global_step': 3258, 'timestamp': '2019-10-21T15:07:59.615079Z', 'extras': []}\n",
      "INFO:tensorflow:Benchmark metric: {'name': 'label/mean', 'value': 0.23622627556324005, 'unit': None, 'global_step': 3258, 'timestamp': '2019-10-21T15:07:59.615577Z', 'extras': []}\n",
      "I1021 11:07:59.615667 133823426000256 logger.py:147] Benchmark metric: {'name': 'label/mean', 'value': 0.23622627556324005, 'unit': None, 'global_step': 3258, 'timestamp': '2019-10-21T15:07:59.615577Z', 'extras': []}\n",
      "INFO:tensorflow:Benchmark metric: {'name': 'loss', 'value': 14.032776832580566, 'unit': None, 'global_step': 3258, 'timestamp': '2019-10-21T15:07:59.616060Z', 'extras': []}\n",
      "I1021 11:07:59.616142 133823426000256 logger.py:147] Benchmark metric: {'name': 'loss', 'value': 14.032776832580566, 'unit': None, 'global_step': 3258, 'timestamp': '2019-10-21T15:07:59.616060Z', 'extras': []}\n",
      "INFO:tensorflow:Benchmark metric: {'name': 'precision', 'value': 0.6832355856895447, 'unit': None, 'global_step': 3258, 'timestamp': '2019-10-21T15:07:59.616448Z', 'extras': []}\n",
      "I1021 11:07:59.616574 133823426000256 logger.py:147] Benchmark metric: {'name': 'precision', 'value': 0.6832355856895447, 'unit': None, 'global_step': 3258, 'timestamp': '2019-10-21T15:07:59.616448Z', 'extras': []}\n",
      "INFO:tensorflow:Benchmark metric: {'name': 'prediction/mean', 'value': 0.24145862460136414, 'unit': None, 'global_step': 3258, 'timestamp': '2019-10-21T15:07:59.616967Z', 'extras': []}\n",
      "I1021 11:07:59.617058 133823426000256 logger.py:147] Benchmark metric: {'name': 'prediction/mean', 'value': 0.24145862460136414, 'unit': None, 'global_step': 3258, 'timestamp': '2019-10-21T15:07:59.616967Z', 'extras': []}\n",
      "INFO:tensorflow:Benchmark metric: {'name': 'recall', 'value': 0.5754030346870422, 'unit': None, 'global_step': 3258, 'timestamp': '2019-10-21T15:07:59.617408Z', 'extras': []}\n",
      "I1021 11:07:59.617482 133823426000256 logger.py:147] Benchmark metric: {'name': 'recall', 'value': 0.5754030346870422, 'unit': None, 'global_step': 3258, 'timestamp': '2019-10-21T15:07:59.617408Z', 'extras': []}\n"
     ]
    }
   ],
   "source": [
    "# Run the model\n",
    "!python -m official.r1.wide_deep.census_main --model_type=wide \\\n",
    "--train_epochs=2"
   ]
  },
  {
   "cell_type": "code",
   "execution_count": 17,
   "metadata": {},
   "outputs": [
    {
     "name": "stdout",
     "output_type": "stream",
     "text": [
      "adult.data  adult.test\r\n"
     ]
    }
   ],
   "source": [
    "# Read the U.S. Census data\n",
    "!ls /tmp/census_data/"
   ]
  },
  {
   "cell_type": "code",
   "execution_count": 18,
   "metadata": {},
   "outputs": [],
   "source": [
    "train_file = \"/tmp/census_data/adult.data\"\n",
    "test_file = \"/tmp/census_data/adult.test\""
   ]
  },
  {
   "cell_type": "code",
   "execution_count": 19,
   "metadata": {},
   "outputs": [],
   "source": [
    "import pandas"
   ]
  },
  {
   "cell_type": "code",
   "execution_count": 20,
   "metadata": {},
   "outputs": [],
   "source": [
    "train_df = pandas.read_csv(train_file, header=None,\\\n",
    "                          names=census_dataset._CSV_COLUMNS)"
   ]
  },
  {
   "cell_type": "code",
   "execution_count": 21,
   "metadata": {},
   "outputs": [],
   "source": [
    "test_df = pandas.read_csv(test_file, header=None, \\\n",
    "                         names=census_dataset._CSV_COLUMNS)"
   ]
  },
  {
   "cell_type": "code",
   "execution_count": 22,
   "metadata": {
    "collapsed": true
   },
   "outputs": [
    {
     "data": {
      "text/html": [
       "<div>\n",
       "<style scoped>\n",
       "    .dataframe tbody tr th:only-of-type {\n",
       "        vertical-align: middle;\n",
       "    }\n",
       "\n",
       "    .dataframe tbody tr th {\n",
       "        vertical-align: top;\n",
       "    }\n",
       "\n",
       "    .dataframe thead th {\n",
       "        text-align: right;\n",
       "    }\n",
       "</style>\n",
       "<table border=\"1\" class=\"dataframe\">\n",
       "  <thead>\n",
       "    <tr style=\"text-align: right;\">\n",
       "      <th></th>\n",
       "      <th>age</th>\n",
       "      <th>workclass</th>\n",
       "      <th>fnlwgt</th>\n",
       "      <th>education</th>\n",
       "      <th>education_num</th>\n",
       "      <th>marital_status</th>\n",
       "      <th>occupation</th>\n",
       "      <th>relationship</th>\n",
       "      <th>race</th>\n",
       "      <th>gender</th>\n",
       "      <th>capital_gain</th>\n",
       "      <th>capital_loss</th>\n",
       "      <th>hours_per_week</th>\n",
       "      <th>native_country</th>\n",
       "      <th>income_bracket</th>\n",
       "    </tr>\n",
       "  </thead>\n",
       "  <tbody>\n",
       "    <tr>\n",
       "      <th>0</th>\n",
       "      <td>39</td>\n",
       "      <td>State-gov</td>\n",
       "      <td>77516</td>\n",
       "      <td>Bachelors</td>\n",
       "      <td>13</td>\n",
       "      <td>Never-married</td>\n",
       "      <td>Adm-clerical</td>\n",
       "      <td>Not-in-family</td>\n",
       "      <td>White</td>\n",
       "      <td>Male</td>\n",
       "      <td>2174</td>\n",
       "      <td>0</td>\n",
       "      <td>40</td>\n",
       "      <td>United-States</td>\n",
       "      <td>&lt;=50K</td>\n",
       "    </tr>\n",
       "    <tr>\n",
       "      <th>1</th>\n",
       "      <td>50</td>\n",
       "      <td>Self-emp-not-inc</td>\n",
       "      <td>83311</td>\n",
       "      <td>Bachelors</td>\n",
       "      <td>13</td>\n",
       "      <td>Married-civ-spouse</td>\n",
       "      <td>Exec-managerial</td>\n",
       "      <td>Husband</td>\n",
       "      <td>White</td>\n",
       "      <td>Male</td>\n",
       "      <td>0</td>\n",
       "      <td>0</td>\n",
       "      <td>13</td>\n",
       "      <td>United-States</td>\n",
       "      <td>&lt;=50K</td>\n",
       "    </tr>\n",
       "    <tr>\n",
       "      <th>2</th>\n",
       "      <td>38</td>\n",
       "      <td>Private</td>\n",
       "      <td>215646</td>\n",
       "      <td>HS-grad</td>\n",
       "      <td>9</td>\n",
       "      <td>Divorced</td>\n",
       "      <td>Handlers-cleaners</td>\n",
       "      <td>Not-in-family</td>\n",
       "      <td>White</td>\n",
       "      <td>Male</td>\n",
       "      <td>0</td>\n",
       "      <td>0</td>\n",
       "      <td>40</td>\n",
       "      <td>United-States</td>\n",
       "      <td>&lt;=50K</td>\n",
       "    </tr>\n",
       "    <tr>\n",
       "      <th>3</th>\n",
       "      <td>53</td>\n",
       "      <td>Private</td>\n",
       "      <td>234721</td>\n",
       "      <td>11th</td>\n",
       "      <td>7</td>\n",
       "      <td>Married-civ-spouse</td>\n",
       "      <td>Handlers-cleaners</td>\n",
       "      <td>Husband</td>\n",
       "      <td>Black</td>\n",
       "      <td>Male</td>\n",
       "      <td>0</td>\n",
       "      <td>0</td>\n",
       "      <td>40</td>\n",
       "      <td>United-States</td>\n",
       "      <td>&lt;=50K</td>\n",
       "    </tr>\n",
       "    <tr>\n",
       "      <th>4</th>\n",
       "      <td>28</td>\n",
       "      <td>Private</td>\n",
       "      <td>338409</td>\n",
       "      <td>Bachelors</td>\n",
       "      <td>13</td>\n",
       "      <td>Married-civ-spouse</td>\n",
       "      <td>Prof-specialty</td>\n",
       "      <td>Wife</td>\n",
       "      <td>Black</td>\n",
       "      <td>Female</td>\n",
       "      <td>0</td>\n",
       "      <td>0</td>\n",
       "      <td>40</td>\n",
       "      <td>Cuba</td>\n",
       "      <td>&lt;=50K</td>\n",
       "    </tr>\n",
       "  </tbody>\n",
       "</table>\n",
       "</div>"
      ],
      "text/plain": [
       "   age         workclass  fnlwgt  education  education_num  \\\n",
       "0   39         State-gov   77516  Bachelors             13   \n",
       "1   50  Self-emp-not-inc   83311  Bachelors             13   \n",
       "2   38           Private  215646    HS-grad              9   \n",
       "3   53           Private  234721       11th              7   \n",
       "4   28           Private  338409  Bachelors             13   \n",
       "\n",
       "       marital_status         occupation   relationship   race  gender  \\\n",
       "0       Never-married       Adm-clerical  Not-in-family  White    Male   \n",
       "1  Married-civ-spouse    Exec-managerial        Husband  White    Male   \n",
       "2            Divorced  Handlers-cleaners  Not-in-family  White    Male   \n",
       "3  Married-civ-spouse  Handlers-cleaners        Husband  Black    Male   \n",
       "4  Married-civ-spouse     Prof-specialty           Wife  Black  Female   \n",
       "\n",
       "   capital_gain  capital_loss  hours_per_week native_country income_bracket  \n",
       "0          2174             0              40  United-States          <=50K  \n",
       "1             0             0              13  United-States          <=50K  \n",
       "2             0             0              40  United-States          <=50K  \n",
       "3             0             0              40  United-States          <=50K  \n",
       "4             0             0              40           Cuba          <=50K  "
      ]
     },
     "execution_count": 22,
     "metadata": {},
     "output_type": "execute_result"
    }
   ],
   "source": [
    "train_df.head()"
   ]
  },
  {
   "cell_type": "code",
   "execution_count": 23,
   "metadata": {},
   "outputs": [],
   "source": [
    "# Columns are grouped into two types, categorical and continuous."
   ]
  },
  {
   "cell_type": "code",
   "execution_count": 24,
   "metadata": {},
   "outputs": [],
   "source": [
    "# Converting data into tensors\n",
    "# The input builder function returns the following pair:\n",
    "# (features, labels)\n",
    "def easy_input_function(df, label_key, num_epochs, shuffle, \\\n",
    "                        batch_size):\n",
    "    label = df[label_key]\n",
    "    ds = tf.data.Dataset.from_tensor_slices((dict(df), label))\n",
    "    if shuffle:\n",
    "        ds = ds.shuffle(10000)\n",
    "    ds = ds.batch(batch_size).repeat(num_epochs)\n",
    "    return ds"
   ]
  },
  {
   "cell_type": "code",
   "execution_count": 25,
   "metadata": {},
   "outputs": [],
   "source": [
    "# Inspect the resulting dataset.\n",
    "ds = easy_input_function(train_df, label_key='income_bracket',\\\n",
    "        num_epochs=5, shuffle=True, batch_size=10)"
   ]
  },
  {
   "cell_type": "code",
   "execution_count": 26,
   "metadata": {},
   "outputs": [
    {
     "name": "stdout",
     "output_type": "stream",
     "text": [
      "Some feature keys: ['age', 'workclass', 'fnlwgt', 'education', 'education_num']\n",
      "\n",
      "A batch of Ages:  tf.Tensor([28 63 33 43 35 25 51 21 55 49], shape=(10,), dtype=int32)\n",
      "\n",
      "A batch of Labels:  tf.Tensor(\n",
      "[b'<=50K' b'>50K' b'>50K' b'>50K' b'<=50K' b'<=50K' b'>50K' b'<=50K'\n",
      " b'<=50K' b'>50K'], shape=(10,), dtype=string)\n"
     ]
    }
   ],
   "source": [
    "for feature_batch, label_batch in ds.take(1):\n",
    "    print('Some feature keys:', list(feature_batch.keys())[:5])\n",
    "    print()\n",
    "    print('A batch of Ages: ', feature_batch['age'])\n",
    "    print()\n",
    "    print('A batch of Labels: ', label_batch)"
   ]
  },
  {
   "cell_type": "code",
   "execution_count": 27,
   "metadata": {},
   "outputs": [],
   "source": [
    "import inspect"
   ]
  },
  {
   "cell_type": "code",
   "execution_count": 28,
   "metadata": {},
   "outputs": [
    {
     "name": "stdout",
     "output_type": "stream",
     "text": [
      "def input_fn(data_file, num_epochs, shuffle, batch_size):\n",
      "  \"\"\"Generate an input function for the Estimator.\"\"\"\n",
      "  assert tf.gfile.Exists(data_file), (\n",
      "      '%s not found. Please make sure you have run census_dataset.py and '\n",
      "      'set the --data_dir argument to the correct path.' % data_file)\n",
      "\n",
      "  def parse_csv(value):\n",
      "    tf.logging.info('Parsing {}'.format(data_file))\n",
      "    columns = tf.decode_csv(value, record_defaults=_CSV_COLUMN_DEFAULTS)\n",
      "    features = dict(list(zip(_CSV_COLUMNS, columns)))\n",
      "    labels = features.pop('income_bracket')\n",
      "    classes = tf.equal(labels, '>50K')  # binary classification\n",
      "    return features, classes\n",
      "\n",
      "  # Extract lines from input files using the Dataset API.\n",
      "  dataset = tf.data.TextLineDataset(data_file)\n",
      "\n",
      "  if shuffle:\n",
      "    dataset = dataset.shuffle(buffer_size=_NUM_EXAMPLES['train'])\n",
      "\n",
      "  dataset = dataset.map(parse_csv, num_parallel_calls=5)\n",
      "\n",
      "  # We call repeat after shuffling, rather than before, to prevent separate\n",
      "  # epochs from blending together.\n",
      "  dataset = dataset.repeat(num_epochs)\n",
      "  dataset = dataset.batch(batch_size)\n",
      "  return dataset\n",
      "\n"
     ]
    }
   ],
   "source": [
    "print(inspect.getsource(census_dataset.input_fn))"
   ]
  },
  {
   "cell_type": "code",
   "execution_count": 29,
   "metadata": {
    "collapsed": true
   },
   "outputs": [
    {
     "name": "stdout",
     "output_type": "stream",
     "text": [
      "WARNING:tensorflow:From /home/allisonrmcalister/my_tensorflow/models/official/r1/wide_deep/census_dataset.py:168: The name tf.logging.info is deprecated. Please use tf.compat.v1.logging.info instead.\n",
      "\n",
      "INFO:tensorflow:Parsing /tmp/census_data/adult.data\n",
      "WARNING:tensorflow:From /home/allisonrmcalister/my_tensorflow/models/official/r1/wide_deep/census_dataset.py:169: The name tf.decode_csv is deprecated. Please use tf.io.decode_csv instead.\n",
      "\n"
     ]
    }
   ],
   "source": [
    "# This input_fn returns equivalent output\n",
    "ds = census_dataset.input_fn(train_file, num_epochs=5, \\\n",
    "                             shuffle=True, batch_size=10)"
   ]
  },
  {
   "cell_type": "code",
   "execution_count": 30,
   "metadata": {},
   "outputs": [
    {
     "name": "stdout",
     "output_type": "stream",
     "text": [
      "Feature keys:  ['age', 'workclass', 'fnlwgt', 'education', 'education_num']\n",
      "\n",
      "Age batch:  tf.Tensor([28 30 61 27 32 35 57 53 55 59], shape=(10,), dtype=int32)\n",
      "\n",
      "Label batch:  tf.Tensor([ True  True  True False False False  True False False  True], shape=(10,), dtype=bool)\n"
     ]
    }
   ],
   "source": [
    "for feature_batch, label_batch in ds.take(1):\n",
    "    print('Feature keys: ', list(feature_batch.keys())[:5])\n",
    "    print()\n",
    "    print('Age batch: ', feature_batch['age'])\n",
    "    print()\n",
    "    print('Label batch: ', label_batch)"
   ]
  },
  {
   "cell_type": "code",
   "execution_count": 31,
   "metadata": {},
   "outputs": [],
   "source": [
    "# Estimators expect an input_fn that takes no arguments.\n",
    "# Thus, we wrap configurable input function into an object with\n",
    "# the expected signature.\n",
    "# Configure the train_inpf to iterate over the data twice.\n",
    "import functools"
   ]
  },
  {
   "cell_type": "code",
   "execution_count": 32,
   "metadata": {},
   "outputs": [],
   "source": [
    "train_inpf = functools.partial(census_dataset.input_fn, \\\n",
    "                train_file, num_epochs=2, shuffle=True, \\\n",
    "                batch_size=64)\n",
    "test_inpf = functools.partial(census_dataset.input_fn,\\\n",
    "                test_file, num_epochs=1, shuffle=False,\\\n",
    "                batch_size=64)"
   ]
  },
  {
   "cell_type": "code",
   "execution_count": 33,
   "metadata": {},
   "outputs": [],
   "source": [
    "# Selecting and Engineering features for the model\n",
    "# Estimators use a system called feature columns to describe\n",
    "# how the model should interpret each of the raw input features.\n",
    "# An Estimator expects a vector of numeric inputs, and feature\n",
    "# columns describe how the model should convert each feature."
   ]
  },
  {
   "cell_type": "code",
   "execution_count": 34,
   "metadata": {},
   "outputs": [],
   "source": [
    "# Base feature columns"
   ]
  },
  {
   "cell_type": "code",
   "execution_count": 35,
   "metadata": {},
   "outputs": [],
   "source": [
    "# Numeric columns\n",
    "age = fc.numeric_column('age')"
   ]
  },
  {
   "cell_type": "code",
   "execution_count": 36,
   "metadata": {
    "collapsed": true
   },
   "outputs": [
    {
     "name": "stdout",
     "output_type": "stream",
     "text": [
      "WARNING:tensorflow:From /home/allisonrmcalister/anaconda3/lib/python3.7/site-packages/tensorflow/python/feature_column/feature_column.py:205: NumericColumn._get_dense_tensor (from tensorflow.python.feature_column.feature_column_v2) is deprecated and will be removed in a future version.\n",
      "Instructions for updating:\n",
      "The old _FeatureColumn APIs are being deprecated. Please use the new FeatureColumn APIs instead.\n",
      "WARNING:tensorflow:From /home/allisonrmcalister/anaconda3/lib/python3.7/site-packages/tensorflow/python/feature_column/feature_column.py:2115: NumericColumn._transform_feature (from tensorflow.python.feature_column.feature_column_v2) is deprecated and will be removed in a future version.\n",
      "Instructions for updating:\n",
      "The old _FeatureColumn APIs are being deprecated. Please use the new FeatureColumn APIs instead.\n",
      "WARNING:tensorflow:From /home/allisonrmcalister/anaconda3/lib/python3.7/site-packages/tensorflow/python/feature_column/feature_column.py:206: NumericColumn._variable_shape (from tensorflow.python.feature_column.feature_column_v2) is deprecated and will be removed in a future version.\n",
      "Instructions for updating:\n",
      "The old _FeatureColumn APIs are being deprecated. Please use the new FeatureColumn APIs instead.\n"
     ]
    },
    {
     "data": {
      "text/plain": [
       "array([[28.],\n",
       "       [30.],\n",
       "       [61.],\n",
       "       [27.],\n",
       "       [32.],\n",
       "       [35.],\n",
       "       [57.],\n",
       "       [53.],\n",
       "       [55.],\n",
       "       [59.]], dtype=float32)"
      ]
     },
     "execution_count": 36,
     "metadata": {},
     "output_type": "execute_result"
    }
   ],
   "source": [
    "fc.input_layer(feature_batch, [age]).numpy()"
   ]
  },
  {
   "cell_type": "code",
   "execution_count": 37,
   "metadata": {
    "collapsed": true
   },
   "outputs": [
    {
     "name": "stdout",
     "output_type": "stream",
     "text": [
      "INFO:tensorflow:Using default config.\n",
      "WARNING:tensorflow:Using temporary folder as model directory: /tmp/tmpdg9srf36\n",
      "INFO:tensorflow:Using config: {'_model_dir': '/tmp/tmpdg9srf36', '_tf_random_seed': None, '_save_summary_steps': 100, '_save_checkpoints_steps': None, '_save_checkpoints_secs': 600, '_session_config': allow_soft_placement: true\n",
      "graph_options {\n",
      "  rewrite_options {\n",
      "    meta_optimizer_iterations: ONE\n",
      "  }\n",
      "}\n",
      ", '_keep_checkpoint_max': 5, '_keep_checkpoint_every_n_hours': 10000, '_log_step_count_steps': 100, '_train_distribute': None, '_device_fn': None, '_protocol': None, '_eval_distribute': None, '_experimental_distribute': None, '_experimental_max_worker_delay_secs': None, '_service': None, '_cluster_spec': <tensorflow.python.training.server_lib.ClusterSpec object at 0x7a64fec56d30>, '_task_type': 'worker', '_task_id': 0, '_global_id_in_cluster': 0, '_master': '', '_evaluation_master': '', '_is_chief': True, '_num_ps_replicas': 0, '_num_worker_replicas': 1}\n"
     ]
    }
   ],
   "source": [
    "# The following will train and evaluate a model using only the\n",
    "# age feature.\n",
    "classifier = tf.estimator.LinearClassifier(feature_columns=[age])"
   ]
  },
  {
   "cell_type": "code",
   "execution_count": 38,
   "metadata": {
    "collapsed": true
   },
   "outputs": [
    {
     "name": "stdout",
     "output_type": "stream",
     "text": [
      "WARNING:tensorflow:From /home/allisonrmcalister/anaconda3/lib/python3.7/site-packages/tensorflow/python/training/training_util.py:236: Variable.initialized_value (from tensorflow.python.ops.variables) is deprecated and will be removed in a future version.\n",
      "Instructions for updating:\n",
      "Use Variable.read_value. Variables in 2.X are initialized automatically both in eager and graph (inside tf.defun) contexts.\n",
      "INFO:tensorflow:Parsing /tmp/census_data/adult.data\n",
      "INFO:tensorflow:Calling model_fn.\n",
      "WARNING:tensorflow:From /home/allisonrmcalister/anaconda3/lib/python3.7/site-packages/tensorflow_estimator/python/estimator/canned/linear.py:308: to_float (from tensorflow.python.ops.math_ops) is deprecated and will be removed in a future version.\n",
      "Instructions for updating:\n",
      "Use `tf.cast` instead.\n",
      "WARNING:tensorflow:From /home/allisonrmcalister/anaconda3/lib/python3.7/site-packages/tensorflow/python/ops/nn_impl.py:180: add_dispatch_support.<locals>.wrapper (from tensorflow.python.ops.array_ops) is deprecated and will be removed in a future version.\n",
      "Instructions for updating:\n",
      "Use tf.where in 2.0, which has the same broadcast rule as np.where\n",
      "INFO:tensorflow:Done calling model_fn.\n",
      "INFO:tensorflow:Create CheckpointSaverHook.\n",
      "INFO:tensorflow:Graph was finalized.\n",
      "INFO:tensorflow:Running local_init_op.\n",
      "INFO:tensorflow:Done running local_init_op.\n",
      "INFO:tensorflow:Saving checkpoints for 0 into /tmp/tmpdg9srf36/model.ckpt.\n",
      "INFO:tensorflow:loss = 44.361427, step = 1\n",
      "INFO:tensorflow:global_step/sec: 31.9622\n",
      "INFO:tensorflow:loss = 35.545483, step = 101 (3.146 sec)\n",
      "INFO:tensorflow:global_step/sec: 69.9861\n",
      "INFO:tensorflow:loss = 35.65708, step = 201 (1.414 sec)\n",
      "INFO:tensorflow:global_step/sec: 67.6257\n",
      "INFO:tensorflow:loss = 34.818638, step = 301 (1.492 sec)\n",
      "INFO:tensorflow:global_step/sec: 61.8964\n",
      "INFO:tensorflow:loss = 33.83117, step = 401 (1.607 sec)\n",
      "INFO:tensorflow:global_step/sec: 59.4167\n",
      "INFO:tensorflow:loss = 36.947018, step = 501 (1.702 sec)\n",
      "INFO:tensorflow:global_step/sec: 59.4561\n",
      "INFO:tensorflow:loss = 39.56935, step = 601 (1.660 sec)\n",
      "INFO:tensorflow:global_step/sec: 80.346\n",
      "INFO:tensorflow:loss = 35.53685, step = 701 (1.244 sec)\n",
      "INFO:tensorflow:global_step/sec: 67.4896\n",
      "INFO:tensorflow:loss = 35.446877, step = 801 (1.481 sec)\n",
      "INFO:tensorflow:global_step/sec: 72.9385\n",
      "INFO:tensorflow:loss = 30.801382, step = 901 (1.371 sec)\n",
      "INFO:tensorflow:global_step/sec: 74.8508\n",
      "INFO:tensorflow:loss = 34.61844, step = 1001 (1.339 sec)\n",
      "INFO:tensorflow:Saving checkpoints for 1018 into /tmp/tmpdg9srf36/model.ckpt.\n",
      "INFO:tensorflow:Loss for final step: 22.268318.\n"
     ]
    },
    {
     "data": {
      "text/plain": [
       "<tensorflow_estimator.python.estimator.canned.linear.LinearClassifier at 0x7a64fec49d30>"
      ]
     },
     "execution_count": 38,
     "metadata": {},
     "output_type": "execute_result"
    }
   ],
   "source": [
    "classifier.train(train_inpf)"
   ]
  },
  {
   "cell_type": "code",
   "execution_count": 39,
   "metadata": {
    "collapsed": true
   },
   "outputs": [
    {
     "name": "stdout",
     "output_type": "stream",
     "text": [
      "INFO:tensorflow:Parsing /tmp/census_data/adult.test\n",
      "INFO:tensorflow:Calling model_fn.\n",
      "WARNING:tensorflow:From /home/allisonrmcalister/anaconda3/lib/python3.7/site-packages/tensorflow/python/ops/metrics_impl.py:2027: div (from tensorflow.python.ops.math_ops) is deprecated and will be removed in a future version.\n",
      "Instructions for updating:\n",
      "Deprecated in favor of operator or tf.math.divide.\n",
      "WARNING:tensorflow:Trapezoidal rule is known to produce incorrect PR-AUCs; please switch to \"careful_interpolation\" instead.\n",
      "WARNING:tensorflow:Trapezoidal rule is known to produce incorrect PR-AUCs; please switch to \"careful_interpolation\" instead.\n",
      "INFO:tensorflow:Done calling model_fn.\n",
      "INFO:tensorflow:Starting evaluation at 2019-10-21T11:09:58Z\n",
      "INFO:tensorflow:Graph was finalized.\n",
      "WARNING:tensorflow:From /home/allisonrmcalister/anaconda3/lib/python3.7/site-packages/tensorflow/python/training/saver.py:1276: checkpoint_exists (from tensorflow.python.training.checkpoint_management) is deprecated and will be removed in a future version.\n",
      "Instructions for updating:\n",
      "Use standard file APIs to check for files with this prefix.\n",
      "INFO:tensorflow:Restoring parameters from /tmp/tmpdg9srf36/model.ckpt-1018\n",
      "INFO:tensorflow:Running local_init_op.\n",
      "INFO:tensorflow:Done running local_init_op.\n",
      "INFO:tensorflow:Finished evaluation at 2019-10-21-11:10:07\n",
      "INFO:tensorflow:Saving dict for global step 1018: accuracy = 0.7421534, accuracy_baseline = 0.76377374, auc = 0.67835236, auc_precision_recall = 0.31139085, average_loss = 0.52771264, global_step = 1018, label/mean = 0.23622628, loss = 33.6929, precision = 0.1845878, prediction/mean = 0.28068155, recall = 0.026781071\n",
      "INFO:tensorflow:Saving 'checkpoint_path' summary for global step 1018: /tmp/tmpdg9srf36/model.ckpt-1018\n"
     ]
    }
   ],
   "source": [
    "result = classifier.evaluate(test_inpf)"
   ]
  },
  {
   "cell_type": "code",
   "execution_count": 40,
   "metadata": {},
   "outputs": [],
   "source": [
    "# Used for display in notebook\n",
    "clear_output()"
   ]
  },
  {
   "cell_type": "code",
   "execution_count": 41,
   "metadata": {},
   "outputs": [
    {
     "name": "stdout",
     "output_type": "stream",
     "text": [
      "{'accuracy': 0.7421534, 'accuracy_baseline': 0.76377374, 'auc': 0.67835236, 'auc_precision_recall': 0.31139085, 'average_loss': 0.52771264, 'label/mean': 0.23622628, 'loss': 33.6929, 'precision': 0.1845878, 'prediction/mean': 0.28068155, 'recall': 0.026781071, 'global_step': 1018}\n"
     ]
    }
   ],
   "source": [
    "print(result)"
   ]
  },
  {
   "cell_type": "code",
   "execution_count": 42,
   "metadata": {},
   "outputs": [],
   "source": [
    "# Similarly, define a NumericColumn for each continuous\n",
    "# feature column that we want to use in the model\n",
    "education_num = tf.feature_column.numeric_column('education_num')\n",
    "capital_gain = tf.feature_column.numeric_column('capital_gain')\n",
    "capital_loss = tf.feature_column.numeric_column('capital_loss')\n",
    "hours_per_week = tf.feature_column.numeric_column(\\\n",
    "                                    'hours_per_week')"
   ]
  },
  {
   "cell_type": "code",
   "execution_count": 43,
   "metadata": {},
   "outputs": [],
   "source": [
    "my_numeric_columns = [age, education_num, capital_gain, \\\n",
    "                      capital_loss, hours_per_week]"
   ]
  },
  {
   "cell_type": "code",
   "execution_count": 44,
   "metadata": {},
   "outputs": [
    {
     "data": {
      "text/plain": [
       "array([[2.800e+01, 5.178e+03, 0.000e+00, 1.300e+01, 4.000e+01],\n",
       "       [3.000e+01, 0.000e+00, 0.000e+00, 1.300e+01, 4.000e+01],\n",
       "       [6.100e+01, 0.000e+00, 0.000e+00, 9.000e+00, 5.000e+01],\n",
       "       [2.700e+01, 0.000e+00, 0.000e+00, 1.000e+01, 4.000e+01],\n",
       "       [3.200e+01, 0.000e+00, 0.000e+00, 1.000e+01, 3.500e+01],\n",
       "       [3.500e+01, 0.000e+00, 0.000e+00, 9.000e+00, 2.500e+01],\n",
       "       [5.700e+01, 0.000e+00, 0.000e+00, 9.000e+00, 8.400e+01],\n",
       "       [5.300e+01, 0.000e+00, 0.000e+00, 9.000e+00, 4.800e+01],\n",
       "       [5.500e+01, 0.000e+00, 0.000e+00, 3.000e+00, 4.000e+01],\n",
       "       [5.900e+01, 0.000e+00, 0.000e+00, 9.000e+00, 6.000e+01]],\n",
       "      dtype=float32)"
      ]
     },
     "execution_count": 44,
     "metadata": {},
     "output_type": "execute_result"
    }
   ],
   "source": [
    "fc.input_layer(feature_batch, my_numeric_columns).numpy()"
   ]
  },
  {
   "cell_type": "code",
   "execution_count": 45,
   "metadata": {
    "collapsed": true
   },
   "outputs": [
    {
     "name": "stdout",
     "output_type": "stream",
     "text": [
      "INFO:tensorflow:Using default config.\n",
      "WARNING:tensorflow:Using temporary folder as model directory: /tmp/tmpi0yt8v3m\n",
      "INFO:tensorflow:Using config: {'_model_dir': '/tmp/tmpi0yt8v3m', '_tf_random_seed': None, '_save_summary_steps': 100, '_save_checkpoints_steps': None, '_save_checkpoints_secs': 600, '_session_config': allow_soft_placement: true\n",
      "graph_options {\n",
      "  rewrite_options {\n",
      "    meta_optimizer_iterations: ONE\n",
      "  }\n",
      "}\n",
      ", '_keep_checkpoint_max': 5, '_keep_checkpoint_every_n_hours': 10000, '_log_step_count_steps': 100, '_train_distribute': None, '_device_fn': None, '_protocol': None, '_eval_distribute': None, '_experimental_distribute': None, '_experimental_max_worker_delay_secs': None, '_service': None, '_cluster_spec': <tensorflow.python.training.server_lib.ClusterSpec object at 0x7a64ec167da0>, '_task_type': 'worker', '_task_id': 0, '_global_id_in_cluster': 0, '_master': '', '_evaluation_master': '', '_is_chief': True, '_num_ps_replicas': 0, '_num_worker_replicas': 1}\n"
     ]
    }
   ],
   "source": [
    "# Can retrain a model on these features by changing the\n",
    "# feature_columns argument to the constructor\n",
    "classifier = tf.estimator.LinearClassifier(\\\n",
    "                    feature_columns=my_numeric_columns)"
   ]
  },
  {
   "cell_type": "code",
   "execution_count": 46,
   "metadata": {
    "collapsed": true
   },
   "outputs": [
    {
     "name": "stdout",
     "output_type": "stream",
     "text": [
      "INFO:tensorflow:Parsing /tmp/census_data/adult.data\n",
      "INFO:tensorflow:Calling model_fn.\n",
      "INFO:tensorflow:Done calling model_fn.\n",
      "INFO:tensorflow:Create CheckpointSaverHook.\n",
      "INFO:tensorflow:Graph was finalized.\n",
      "INFO:tensorflow:Running local_init_op.\n",
      "INFO:tensorflow:Done running local_init_op.\n",
      "INFO:tensorflow:Saving checkpoints for 0 into /tmp/tmpi0yt8v3m/model.ckpt.\n",
      "INFO:tensorflow:loss = 44.361427, step = 1\n",
      "INFO:tensorflow:global_step/sec: 32.8253\n",
      "INFO:tensorflow:loss = 340.19464, step = 101 (3.056 sec)\n",
      "INFO:tensorflow:global_step/sec: 83.4548\n",
      "INFO:tensorflow:loss = 114.646866, step = 201 (1.192 sec)\n",
      "INFO:tensorflow:global_step/sec: 55.4374\n",
      "INFO:tensorflow:loss = 226.56622, step = 301 (1.805 sec)\n",
      "INFO:tensorflow:global_step/sec: 77.6547\n",
      "INFO:tensorflow:loss = 96.96765, step = 401 (1.289 sec)\n",
      "INFO:tensorflow:global_step/sec: 62.4144\n",
      "INFO:tensorflow:loss = 208.70374, step = 501 (1.600 sec)\n",
      "INFO:tensorflow:global_step/sec: 64.1953\n",
      "INFO:tensorflow:loss = 180.11867, step = 601 (1.557 sec)\n",
      "INFO:tensorflow:global_step/sec: 92.6603\n",
      "INFO:tensorflow:loss = 125.2981, step = 701 (1.079 sec)\n",
      "INFO:tensorflow:global_step/sec: 88.0623\n",
      "INFO:tensorflow:loss = 68.946724, step = 801 (1.154 sec)\n",
      "INFO:tensorflow:global_step/sec: 65.9706\n",
      "INFO:tensorflow:loss = 64.27968, step = 901 (1.498 sec)\n",
      "INFO:tensorflow:global_step/sec: 53.9275\n",
      "INFO:tensorflow:loss = 158.56339, step = 1001 (1.860 sec)\n",
      "INFO:tensorflow:Saving checkpoints for 1018 into /tmp/tmpi0yt8v3m/model.ckpt.\n",
      "INFO:tensorflow:Loss for final step: 35.539143.\n"
     ]
    },
    {
     "data": {
      "text/plain": [
       "<tensorflow_estimator.python.estimator.canned.linear.LinearClassifier at 0x7a64ec10e4a8>"
      ]
     },
     "execution_count": 46,
     "metadata": {},
     "output_type": "execute_result"
    }
   ],
   "source": [
    "# train the classifier on the training data\n",
    "classifier.train(train_inpf)"
   ]
  },
  {
   "cell_type": "code",
   "execution_count": 47,
   "metadata": {
    "collapsed": true
   },
   "outputs": [
    {
     "name": "stdout",
     "output_type": "stream",
     "text": [
      "INFO:tensorflow:Parsing /tmp/census_data/adult.test\n",
      "INFO:tensorflow:Calling model_fn.\n",
      "WARNING:tensorflow:Trapezoidal rule is known to produce incorrect PR-AUCs; please switch to \"careful_interpolation\" instead.\n",
      "WARNING:tensorflow:Trapezoidal rule is known to produce incorrect PR-AUCs; please switch to \"careful_interpolation\" instead.\n",
      "INFO:tensorflow:Done calling model_fn.\n",
      "INFO:tensorflow:Starting evaluation at 2019-10-21T11:15:07Z\n",
      "INFO:tensorflow:Graph was finalized.\n",
      "INFO:tensorflow:Restoring parameters from /tmp/tmpi0yt8v3m/model.ckpt-1018\n",
      "INFO:tensorflow:Running local_init_op.\n",
      "INFO:tensorflow:Done running local_init_op.\n",
      "INFO:tensorflow:Finished evaluation at 2019-10-21-11:15:17\n",
      "INFO:tensorflow:Saving dict for global step 1018: accuracy = 0.7826301, accuracy_baseline = 0.76377374, auc = 0.55260354, auc_precision_recall = 0.38721228, average_loss = 1.5634376, global_step = 1018, label/mean = 0.23622628, loss = 99.82089, precision = 0.61619985, prediction/mean = 0.16162592, recall = 0.21164846\n",
      "INFO:tensorflow:Saving 'checkpoint_path' summary for global step 1018: /tmp/tmpi0yt8v3m/model.ckpt-1018\n"
     ]
    }
   ],
   "source": [
    "# Evaluate the classifier on the test data\n",
    "result = classifier.evaluate(test_inpf)"
   ]
  },
  {
   "cell_type": "code",
   "execution_count": 48,
   "metadata": {},
   "outputs": [],
   "source": [
    "clear_output()"
   ]
  },
  {
   "cell_type": "code",
   "execution_count": 49,
   "metadata": {
    "collapsed": true
   },
   "outputs": [
    {
     "name": "stdout",
     "output_type": "stream",
     "text": [
      "accuracy: 0.7826301\n",
      "accuracy_baseline: 0.76377374\n",
      "auc: 0.55260354\n",
      "auc_precision_recall: 0.38721228\n",
      "average_loss: 1.5634376\n",
      "global_step: 1018\n",
      "label/mean: 0.23622628\n",
      "loss: 99.82089\n",
      "precision: 0.61619985\n",
      "prediction/mean: 0.16162592\n",
      "recall: 0.21164846\n"
     ]
    }
   ],
   "source": [
    "for key, value in sorted(result.items()):\n",
    "    print('%s: %s' % (key, value))"
   ]
  },
  {
   "cell_type": "code",
   "execution_count": 51,
   "metadata": {},
   "outputs": [],
   "source": [
    "# Categorical columns\n",
    "# Define feature columns for categorical features.\n",
    "# This creates a sparse one-hot vector from the raw input feature\n",
    "relationship = fc.categorical_column_with_vocabulary_list(\\\n",
    "                    'relationship',\\\n",
    "                    ['Husband', 'Not-in-family', 'Wife',\\\n",
    "                    'Own-child', 'Unmarried', 'Other-relative'])"
   ]
  },
  {
   "cell_type": "code",
   "execution_count": 52,
   "metadata": {},
   "outputs": [],
   "source": [
    "# The input_layer function we're using is designed for DNN models\n",
    "# and expects dense inputs.\n",
    "# To demonstrate the categorical column, wrap it in a\n",
    "# tf.feature_column.indicator_column to create the dense\n",
    "# one-hot output. (Linear Estimators can often skip this dense\n",
    "# step).\n",
    "# Note: The other sparse-to-dense option is \n",
    "# tf.feature_column.embedding_column"
   ]
  },
  {
   "cell_type": "code",
   "execution_count": 53,
   "metadata": {
    "scrolled": true
   },
   "outputs": [
    {
     "name": "stdout",
     "output_type": "stream",
     "text": [
      "WARNING:tensorflow:From /home/allisonrmcalister/anaconda3/lib/python3.7/site-packages/tensorflow/python/feature_column/feature_column.py:205: IndicatorColumn._get_dense_tensor (from tensorflow.python.feature_column.feature_column_v2) is deprecated and will be removed in a future version.\n",
      "Instructions for updating:\n",
      "The old _FeatureColumn APIs are being deprecated. Please use the new FeatureColumn APIs instead.\n",
      "WARNING:tensorflow:From /home/allisonrmcalister/anaconda3/lib/python3.7/site-packages/tensorflow/python/feature_column/feature_column.py:2115: IndicatorColumn._transform_feature (from tensorflow.python.feature_column.feature_column_v2) is deprecated and will be removed in a future version.\n",
      "Instructions for updating:\n",
      "The old _FeatureColumn APIs are being deprecated. Please use the new FeatureColumn APIs instead.\n",
      "WARNING:tensorflow:From /home/allisonrmcalister/anaconda3/lib/python3.7/site-packages/tensorflow/python/feature_column/feature_column_v2.py:4236: VocabularyListCategoricalColumn._get_sparse_tensors (from tensorflow.python.feature_column.feature_column_v2) is deprecated and will be removed in a future version.\n",
      "Instructions for updating:\n",
      "The old _FeatureColumn APIs are being deprecated. Please use the new FeatureColumn APIs instead.\n",
      "WARNING:tensorflow:From /home/allisonrmcalister/anaconda3/lib/python3.7/site-packages/tensorflow/python/feature_column/feature_column.py:2115: VocabularyListCategoricalColumn._transform_feature (from tensorflow.python.feature_column.feature_column_v2) is deprecated and will be removed in a future version.\n",
      "Instructions for updating:\n",
      "The old _FeatureColumn APIs are being deprecated. Please use the new FeatureColumn APIs instead.\n",
      "WARNING:tensorflow:From /home/allisonrmcalister/anaconda3/lib/python3.7/site-packages/tensorflow/python/feature_column/feature_column_v2.py:4207: IndicatorColumn._variable_shape (from tensorflow.python.feature_column.feature_column_v2) is deprecated and will be removed in a future version.\n",
      "Instructions for updating:\n",
      "The old _FeatureColumn APIs are being deprecated. Please use the new FeatureColumn APIs instead.\n",
      "WARNING:tensorflow:From /home/allisonrmcalister/anaconda3/lib/python3.7/site-packages/tensorflow/python/feature_column/feature_column_v2.py:4262: VocabularyListCategoricalColumn._num_buckets (from tensorflow.python.feature_column.feature_column_v2) is deprecated and will be removed in a future version.\n",
      "Instructions for updating:\n",
      "The old _FeatureColumn APIs are being deprecated. Please use the new FeatureColumn APIs instead.\n"
     ]
    },
    {
     "data": {
      "text/plain": [
       "<tf.Tensor: id=5099, shape=(10, 7), dtype=float32, numpy=\n",
       "array([[28.,  1.,  0.,  0.,  0.,  0.,  0.],\n",
       "       [30.,  0.,  1.,  0.,  0.,  0.,  0.],\n",
       "       [61.,  1.,  0.,  0.,  0.,  0.,  0.],\n",
       "       [27.,  1.,  0.,  0.,  0.,  0.,  0.],\n",
       "       [32.,  0.,  1.,  0.,  0.,  0.,  0.],\n",
       "       [35.,  0.,  0.,  0.,  0.,  0.,  1.],\n",
       "       [57.,  1.,  0.,  0.,  0.,  0.,  0.],\n",
       "       [53.,  0.,  0.,  0.,  0.,  1.,  0.],\n",
       "       [55.,  1.,  0.,  0.,  0.,  0.,  0.],\n",
       "       [59.,  1.,  0.,  0.,  0.,  0.,  0.]], dtype=float32)>"
      ]
     },
     "execution_count": 53,
     "metadata": {},
     "output_type": "execute_result"
    }
   ],
   "source": [
    "# Run the input layer, configured with both the age and \n",
    "# relationship columns.\n",
    "fc.input_layer(feature_batch, [age, \\\n",
    "                        fc.indicator_column(relationship)])"
   ]
  },
  {
   "cell_type": "code",
   "execution_count": 54,
   "metadata": {},
   "outputs": [],
   "source": [
    "# If we don't know the set of possible values in advance,\n",
    "# use the categorical_column_with_hash_bucket instead.\n",
    "occupation = tf.feature_column.\\\n",
    "    categorical_column_with_hash_bucket(\\\n",
    "        'occupation', hash_bucket_size=1000)"
   ]
  },
  {
   "cell_type": "code",
   "execution_count": 56,
   "metadata": {},
   "outputs": [
    {
     "name": "stdout",
     "output_type": "stream",
     "text": [
      "Exec-managerial\n",
      "Prof-specialty\n",
      "Exec-managerial\n",
      "Other-service\n",
      "Other-service\n",
      "?\n",
      "Craft-repair\n",
      "Craft-repair\n",
      "Machine-op-inspct\n",
      "Sales\n"
     ]
    }
   ],
   "source": [
    "# Each possible value in the feature column occupation is hashed\n",
    "# to an integer ID as we encounter them in training.\n",
    "for item in feature_batch['occupation'].numpy():\n",
    "    print(item.decode())"
   ]
  },
  {
   "cell_type": "code",
   "execution_count": 57,
   "metadata": {
    "collapsed": true
   },
   "outputs": [
    {
     "name": "stdout",
     "output_type": "stream",
     "text": [
      "WARNING:tensorflow:From /home/allisonrmcalister/anaconda3/lib/python3.7/site-packages/tensorflow/python/feature_column/feature_column_v2.py:4236: HashedCategoricalColumn._get_sparse_tensors (from tensorflow.python.feature_column.feature_column_v2) is deprecated and will be removed in a future version.\n",
      "Instructions for updating:\n",
      "The old _FeatureColumn APIs are being deprecated. Please use the new FeatureColumn APIs instead.\n",
      "WARNING:tensorflow:From /home/allisonrmcalister/anaconda3/lib/python3.7/site-packages/tensorflow/python/feature_column/feature_column.py:2115: HashedCategoricalColumn._transform_feature (from tensorflow.python.feature_column.feature_column_v2) is deprecated and will be removed in a future version.\n",
      "Instructions for updating:\n",
      "The old _FeatureColumn APIs are being deprecated. Please use the new FeatureColumn APIs instead.\n",
      "WARNING:tensorflow:From /home/allisonrmcalister/anaconda3/lib/python3.7/site-packages/tensorflow/python/feature_column/feature_column_v2.py:4262: HashedCategoricalColumn._num_buckets (from tensorflow.python.feature_column.feature_column_v2) is deprecated and will be removed in a future version.\n",
      "Instructions for updating:\n",
      "The old _FeatureColumn APIs are being deprecated. Please use the new FeatureColumn APIs instead.\n"
     ]
    }
   ],
   "source": [
    "# Run input_layer with the hashed column.\n",
    "# Note that the output shape is (batch_size, hash_bucket_size)\n",
    "occupation_result = fc.input_layer(feature_batch,\\\n",
    "        [fc.indicator_column(occupation)])"
   ]
  },
  {
   "cell_type": "code",
   "execution_count": 58,
   "metadata": {},
   "outputs": [
    {
     "data": {
      "text/plain": [
       "(10, 1000)"
      ]
     },
     "execution_count": 58,
     "metadata": {},
     "output_type": "execute_result"
    }
   ],
   "source": [
    "occupation_result.numpy().shape"
   ]
  },
  {
   "cell_type": "code",
   "execution_count": 59,
   "metadata": {},
   "outputs": [
    {
     "data": {
      "text/plain": [
       "array([800, 979, 800, 527, 527,  65, 466, 466, 911, 631])"
      ]
     },
     "execution_count": 59,
     "metadata": {},
     "output_type": "execute_result"
    }
   ],
   "source": [
    "# It's easier to see the actual results if we take the tf.argmax\n",
    "# over the hash_bucket_size dimension. Any duplicate occupations\n",
    "# are mapped to the same pseudo-random index.\n",
    "tf.argmax(occupation_result, axis=1).numpy()"
   ]
  },
  {
   "cell_type": "code",
   "execution_count": 60,
   "metadata": {},
   "outputs": [],
   "source": [
    "# Hash collisions are unavoidable, but they often have minimal\n",
    "# impact on model quality. The effect may be noticeable if the\n",
    "# hash buckets are being used to copress the input space.\n",
    "# In a SparseColumn: each feature string is mapped into an \n",
    "# integer ID by looking up a fixed mapping or by hashing.\n",
    "# Under the hood, the LinearModel class is responsible for \n",
    "# managing the mapping and creating tf.Variable to store the\n",
    "# model parameters for each feature ID. These parameters are\n",
    "# learned through the model training process."
   ]
  },
  {
   "cell_type": "code",
   "execution_count": 61,
   "metadata": {},
   "outputs": [],
   "source": [
    "# Let's define the other categorical features.\n",
    "education = tf.feature_column.\\\n",
    "    categorical_column_with_vocabulary_list(\\\n",
    "        'education', [\\\n",
    "            'Bachelors', 'HS-grad', '11th', 'Masters', '9th',\\\n",
    "            'Some-college', 'Assoc-acdm', 'Assoc-voc', \\\n",
    "            '7th-8th', 'Doctorate', 'Prof-school', '5th-6th', \\\n",
    "            '10th', '1st-4th', 'Preschool', '12th'])"
   ]
  },
  {
   "cell_type": "code",
   "execution_count": 62,
   "metadata": {},
   "outputs": [],
   "source": [
    "marital_status = tf.feature_column.\\\n",
    "    categorical_column_with_vocabulary_list(\\\n",
    "        'marital_status', [\\\n",
    "            'Married-civ-spouse', 'Divorced', \\\n",
    "            'Married-spouse-absent', 'Never-married', \\\n",
    "            'Separated', 'Married-AF-spouse', 'Widowed'])"
   ]
  },
  {
   "cell_type": "code",
   "execution_count": 63,
   "metadata": {},
   "outputs": [],
   "source": [
    "workclass = tf.feature_column.\\\n",
    "    categorical_column_with_vocabulary_list(\\\n",
    "        'workclass', [\\\n",
    "            'Self-emp-not-inc', 'Private', 'State-gov',\\\n",
    "            'Federal-gov', 'Local-gov', '?', 'Self-emp-inc',\\\n",
    "            'Without-pay', 'Never-worked'])"
   ]
  },
  {
   "cell_type": "code",
   "execution_count": 64,
   "metadata": {},
   "outputs": [],
   "source": [
    "my_categorical_columns = [relationship, occupation, education,\\\n",
    "                         marital_status, workclass]"
   ]
  },
  {
   "cell_type": "code",
   "execution_count": 65,
   "metadata": {
    "collapsed": true
   },
   "outputs": [
    {
     "name": "stdout",
     "output_type": "stream",
     "text": [
      "INFO:tensorflow:Using default config.\n",
      "WARNING:tensorflow:Using temporary folder as model directory: /tmp/tmpm_uvq8ik\n",
      "INFO:tensorflow:Using config: {'_model_dir': '/tmp/tmpm_uvq8ik', '_tf_random_seed': None, '_save_summary_steps': 100, '_save_checkpoints_steps': None, '_save_checkpoints_secs': 600, '_session_config': allow_soft_placement: true\n",
      "graph_options {\n",
      "  rewrite_options {\n",
      "    meta_optimizer_iterations: ONE\n",
      "  }\n",
      "}\n",
      ", '_keep_checkpoint_max': 5, '_keep_checkpoint_every_n_hours': 10000, '_log_step_count_steps': 100, '_train_distribute': None, '_device_fn': None, '_protocol': None, '_eval_distribute': None, '_experimental_distribute': None, '_experimental_max_worker_delay_secs': None, '_service': None, '_cluster_spec': <tensorflow.python.training.server_lib.ClusterSpec object at 0x7a64d9eb2ef0>, '_task_type': 'worker', '_task_id': 0, '_global_id_in_cluster': 0, '_master': '', '_evaluation_master': '', '_is_chief': True, '_num_ps_replicas': 0, '_num_worker_replicas': 1}\n"
     ]
    }
   ],
   "source": [
    "# Use both sets of columns to configure a model that uses all \n",
    "# these features.\n",
    "classifier = tf.estimator.LinearClassifier(feature_columns=\\\n",
    "                my_numeric_columns+my_categorical_columns)"
   ]
  },
  {
   "cell_type": "code",
   "execution_count": 66,
   "metadata": {
    "collapsed": true
   },
   "outputs": [
    {
     "name": "stdout",
     "output_type": "stream",
     "text": [
      "INFO:tensorflow:Parsing /tmp/census_data/adult.data\n",
      "INFO:tensorflow:Calling model_fn.\n",
      "INFO:tensorflow:Done calling model_fn.\n",
      "INFO:tensorflow:Create CheckpointSaverHook.\n",
      "INFO:tensorflow:Graph was finalized.\n",
      "INFO:tensorflow:Running local_init_op.\n",
      "INFO:tensorflow:Done running local_init_op.\n",
      "INFO:tensorflow:Saving checkpoints for 0 into /tmp/tmpm_uvq8ik/model.ckpt.\n",
      "INFO:tensorflow:loss = 44.361427, step = 1\n",
      "INFO:tensorflow:global_step/sec: 15.7524\n",
      "INFO:tensorflow:loss = 126.40102, step = 101 (6.351 sec)\n",
      "INFO:tensorflow:global_step/sec: 74.8529\n",
      "INFO:tensorflow:loss = 20.836552, step = 201 (1.335 sec)\n",
      "INFO:tensorflow:global_step/sec: 75.2146\n",
      "INFO:tensorflow:loss = 310.34763, step = 301 (1.330 sec)\n",
      "INFO:tensorflow:global_step/sec: 61.1475\n",
      "INFO:tensorflow:loss = 273.40576, step = 401 (1.636 sec)\n",
      "INFO:tensorflow:global_step/sec: 74.3817\n",
      "INFO:tensorflow:loss = 32.962845, step = 501 (1.344 sec)\n",
      "INFO:tensorflow:global_step/sec: 64.5477\n",
      "INFO:tensorflow:loss = 63.259445, step = 601 (1.549 sec)\n",
      "INFO:tensorflow:global_step/sec: 59.9069\n",
      "INFO:tensorflow:loss = 105.968315, step = 701 (1.669 sec)\n",
      "INFO:tensorflow:global_step/sec: 58.8388\n",
      "INFO:tensorflow:loss = 36.063828, step = 801 (1.704 sec)\n",
      "INFO:tensorflow:global_step/sec: 65.0305\n",
      "INFO:tensorflow:loss = 60.106434, step = 901 (1.534 sec)\n",
      "INFO:tensorflow:global_step/sec: 72.0252\n",
      "INFO:tensorflow:loss = 35.229225, step = 1001 (1.388 sec)\n",
      "INFO:tensorflow:Saving checkpoints for 1018 into /tmp/tmpm_uvq8ik/model.ckpt.\n",
      "INFO:tensorflow:Loss for final step: 21.209026.\n"
     ]
    },
    {
     "data": {
      "text/plain": [
       "<tensorflow_estimator.python.estimator.canned.linear.LinearClassifier at 0x7a64d9eb2518>"
      ]
     },
     "execution_count": 66,
     "metadata": {},
     "output_type": "execute_result"
    }
   ],
   "source": [
    "# Train the model.\n",
    "classifier.train(train_inpf)"
   ]
  },
  {
   "cell_type": "code",
   "execution_count": 67,
   "metadata": {
    "collapsed": true
   },
   "outputs": [
    {
     "name": "stdout",
     "output_type": "stream",
     "text": [
      "INFO:tensorflow:Parsing /tmp/census_data/adult.test\n",
      "INFO:tensorflow:Calling model_fn.\n",
      "WARNING:tensorflow:Trapezoidal rule is known to produce incorrect PR-AUCs; please switch to \"careful_interpolation\" instead.\n",
      "WARNING:tensorflow:Trapezoidal rule is known to produce incorrect PR-AUCs; please switch to \"careful_interpolation\" instead.\n",
      "INFO:tensorflow:Done calling model_fn.\n",
      "INFO:tensorflow:Starting evaluation at 2019-10-21T11:33:51Z\n",
      "INFO:tensorflow:Graph was finalized.\n",
      "INFO:tensorflow:Restoring parameters from /tmp/tmpm_uvq8ik/model.ckpt-1018\n",
      "INFO:tensorflow:Running local_init_op.\n",
      "INFO:tensorflow:Done running local_init_op.\n",
      "INFO:tensorflow:Finished evaluation at 2019-10-21-11:34:03\n",
      "INFO:tensorflow:Saving dict for global step 1018: accuracy = 0.8259321, accuracy_baseline = 0.76377374, auc = 0.8727909, auc_precision_recall = 0.6489683, average_loss = 0.86279136, global_step = 1018, label/mean = 0.23622628, loss = 55.086693, precision = 0.6719918, prediction/mean = 0.20966749, recall = 0.5140406\n",
      "INFO:tensorflow:Saving 'checkpoint_path' summary for global step 1018: /tmp/tmpm_uvq8ik/model.ckpt-1018\n"
     ]
    }
   ],
   "source": [
    "# Evaluate on the test data.\n",
    "result = classifier.evaluate(test_inpf)"
   ]
  },
  {
   "cell_type": "code",
   "execution_count": 68,
   "metadata": {},
   "outputs": [],
   "source": [
    "clear_output()"
   ]
  },
  {
   "cell_type": "code",
   "execution_count": 69,
   "metadata": {},
   "outputs": [
    {
     "name": "stdout",
     "output_type": "stream",
     "text": [
      "accuracy: 0.8259321\n",
      "accuracy_baseline: 0.76377374\n",
      "auc: 0.8727909\n",
      "auc_precision_recall: 0.6489683\n",
      "average_loss: 0.86279136\n",
      "global_step: 1018\n",
      "label/mean: 0.23622628\n",
      "loss: 55.086693\n",
      "precision: 0.6719918\n",
      "prediction/mean: 0.20966749\n",
      "recall: 0.5140406\n"
     ]
    }
   ],
   "source": [
    "for key, value in sorted(result.items()):\n",
    "    print('%s: %s' % (key, value))"
   ]
  },
  {
   "cell_type": "code",
   "execution_count": 70,
   "metadata": {},
   "outputs": [],
   "source": [
    "# Derived Feature Columns\n",
    "# Make Continuous Features Categorical through Bucketization"
   ]
  },
  {
   "cell_type": "code",
   "execution_count": 71,
   "metadata": {},
   "outputs": [],
   "source": [
    "# Define a bucketized_column over age as:\n",
    "age_buckets = tf.feature_column.bucketized_column(\\\n",
    "    age, boundaries=[18,25,30,35,40,45,50,55,60,65])"
   ]
  },
  {
   "cell_type": "code",
   "execution_count": 72,
   "metadata": {
    "collapsed": true
   },
   "outputs": [
    {
     "name": "stdout",
     "output_type": "stream",
     "text": [
      "WARNING:tensorflow:From /home/allisonrmcalister/anaconda3/lib/python3.7/site-packages/tensorflow/python/feature_column/feature_column.py:205: BucketizedColumn._get_dense_tensor (from tensorflow.python.feature_column.feature_column_v2) is deprecated and will be removed in a future version.\n",
      "Instructions for updating:\n",
      "The old _FeatureColumn APIs are being deprecated. Please use the new FeatureColumn APIs instead.\n",
      "WARNING:tensorflow:From /home/allisonrmcalister/anaconda3/lib/python3.7/site-packages/tensorflow/python/feature_column/feature_column.py:2115: BucketizedColumn._transform_feature (from tensorflow.python.feature_column.feature_column_v2) is deprecated and will be removed in a future version.\n",
      "Instructions for updating:\n",
      "The old _FeatureColumn APIs are being deprecated. Please use the new FeatureColumn APIs instead.\n",
      "WARNING:tensorflow:From /home/allisonrmcalister/anaconda3/lib/python3.7/site-packages/tensorflow/python/feature_column/feature_column.py:206: BucketizedColumn._variable_shape (from tensorflow.python.feature_column.feature_column_v2) is deprecated and will be removed in a future version.\n",
      "Instructions for updating:\n",
      "The old _FeatureColumn APIs are being deprecated. Please use the new FeatureColumn APIs instead.\n"
     ]
    },
    {
     "data": {
      "text/plain": [
       "array([[28.,  0.,  0.,  1.,  0.,  0.,  0.,  0.,  0.,  0.,  0.,  0.],\n",
       "       [30.,  0.,  0.,  0.,  1.,  0.,  0.,  0.,  0.,  0.,  0.,  0.],\n",
       "       [61.,  0.,  0.,  0.,  0.,  0.,  0.,  0.,  0.,  0.,  1.,  0.],\n",
       "       [27.,  0.,  0.,  1.,  0.,  0.,  0.,  0.,  0.,  0.,  0.,  0.],\n",
       "       [32.,  0.,  0.,  0.,  1.,  0.,  0.,  0.,  0.,  0.,  0.,  0.],\n",
       "       [35.,  0.,  0.,  0.,  0.,  1.,  0.,  0.,  0.,  0.,  0.,  0.],\n",
       "       [57.,  0.,  0.,  0.,  0.,  0.,  0.,  0.,  0.,  1.,  0.,  0.],\n",
       "       [53.,  0.,  0.,  0.,  0.,  0.,  0.,  0.,  1.,  0.,  0.,  0.],\n",
       "       [55.,  0.,  0.,  0.,  0.,  0.,  0.,  0.,  0.,  1.,  0.,  0.],\n",
       "       [59.,  0.,  0.,  0.,  0.,  0.,  0.,  0.,  0.,  1.,  0.,  0.]],\n",
       "      dtype=float32)"
      ]
     },
     "execution_count": 72,
     "metadata": {},
     "output_type": "execute_result"
    }
   ],
   "source": [
    "# With bucketing, the model sees each bucket as a one-hot\n",
    "# feature.\n",
    "fc.input_layer(feature_batch, [age, age_buckets]).numpy()"
   ]
  },
  {
   "cell_type": "code",
   "execution_count": 73,
   "metadata": {},
   "outputs": [],
   "source": [
    "# Learn complex relationships with crossed column\n",
    "# Learn the differences between different feature combinations\n",
    "# by adding crossed feature columns to the model.\n",
    "education_x_occupation = tf.feature_column.crossed_column(\\\n",
    "    ['education','occupation'], hash_bucket_size=1000\n",
    ")"
   ]
  },
  {
   "cell_type": "code",
   "execution_count": 74,
   "metadata": {},
   "outputs": [
    {
     "data": {
      "text/plain": [
       "CrossedColumn(keys=('education', 'occupation'), hash_bucket_size=1000, hash_key=None)"
      ]
     },
     "execution_count": 74,
     "metadata": {},
     "output_type": "execute_result"
    }
   ],
   "source": [
    "education_x_occupation"
   ]
  },
  {
   "cell_type": "code",
   "execution_count": 75,
   "metadata": {},
   "outputs": [],
   "source": [
    "# Can create a crossed_column over more than 2 columns.\n",
    "age_buckets_x_education_x_occupation = tf.feature_column.\\\n",
    "    crossed_column([age_buckets, 'education', 'occupation'], \\\n",
    "        hash_bucket_size=1000)"
   ]
  },
  {
   "cell_type": "code",
   "execution_count": 76,
   "metadata": {},
   "outputs": [],
   "source": [
    "# Define the logistic regression model\n",
    "import tempfile"
   ]
  },
  {
   "cell_type": "code",
   "execution_count": 77,
   "metadata": {},
   "outputs": [],
   "source": [
    "base_columns = [education, marital_status, relationship,\\\n",
    "               workclass, occupation, age_buckets,]"
   ]
  },
  {
   "cell_type": "code",
   "execution_count": 78,
   "metadata": {},
   "outputs": [],
   "source": [
    "crossed_columns = [\\\n",
    "    tf.feature_column.crossed_column(['education', \\\n",
    "        'occupation'], hash_bucket_size=1000), \\\n",
    "    tf.feature_column.crossed_column([age_buckets, 'education',\\\n",
    "        'occupation'], hash_bucket_size=1000),\n",
    "]"
   ]
  },
  {
   "cell_type": "code",
   "execution_count": 79,
   "metadata": {
    "collapsed": true
   },
   "outputs": [
    {
     "name": "stdout",
     "output_type": "stream",
     "text": [
      "INFO:tensorflow:Using default config.\n",
      "INFO:tensorflow:Using config: {'_model_dir': '/tmp/tmp8pe6xbru', '_tf_random_seed': None, '_save_summary_steps': 100, '_save_checkpoints_steps': None, '_save_checkpoints_secs': 600, '_session_config': allow_soft_placement: true\n",
      "graph_options {\n",
      "  rewrite_options {\n",
      "    meta_optimizer_iterations: ONE\n",
      "  }\n",
      "}\n",
      ", '_keep_checkpoint_max': 5, '_keep_checkpoint_every_n_hours': 10000, '_log_step_count_steps': 100, '_train_distribute': None, '_device_fn': None, '_protocol': None, '_eval_distribute': None, '_experimental_distribute': None, '_experimental_max_worker_delay_secs': None, '_service': None, '_cluster_spec': <tensorflow.python.training.server_lib.ClusterSpec object at 0x7a64d1dc2748>, '_task_type': 'worker', '_task_id': 0, '_global_id_in_cluster': 0, '_master': '', '_evaluation_master': '', '_is_chief': True, '_num_ps_replicas': 0, '_num_worker_replicas': 1}\n"
     ]
    }
   ],
   "source": [
    "model = tf.estimator.LinearClassifier(\\\n",
    "            model_dir=tempfile.mkdtemp(),\\\n",
    "            feature_columns=base_columns + crossed_columns, \\\n",
    "            optimizer=tf.train.FtrlOptimizer(learning_rate=0.1))"
   ]
  },
  {
   "cell_type": "code",
   "execution_count": 80,
   "metadata": {},
   "outputs": [],
   "source": [
    "# The model automatically learns a bias term. The learned \n",
    "# model files are stored in model_dir."
   ]
  },
  {
   "cell_type": "code",
   "execution_count": 81,
   "metadata": {},
   "outputs": [],
   "source": [
    "# train and evaluate the model\n",
    "train_inpf = functools.partial(census_dataset.input_fn, \\\n",
    "                train_file, num_epochs=40, shuffle=True,\\\n",
    "                batch_size=64)"
   ]
  },
  {
   "cell_type": "code",
   "execution_count": 82,
   "metadata": {
    "collapsed": true
   },
   "outputs": [
    {
     "name": "stdout",
     "output_type": "stream",
     "text": [
      "INFO:tensorflow:Parsing /tmp/census_data/adult.data\n",
      "INFO:tensorflow:Calling model_fn.\n",
      "INFO:tensorflow:Done calling model_fn.\n",
      "INFO:tensorflow:Create CheckpointSaverHook.\n",
      "INFO:tensorflow:Graph was finalized.\n",
      "INFO:tensorflow:Running local_init_op.\n",
      "INFO:tensorflow:Done running local_init_op.\n",
      "INFO:tensorflow:Saving checkpoints for 0 into /tmp/tmp8pe6xbru/model.ckpt.\n",
      "INFO:tensorflow:loss = 44.361427, step = 1\n",
      "INFO:tensorflow:global_step/sec: 12.2669\n",
      "INFO:tensorflow:loss = 22.143618, step = 101 (8.155 sec)\n",
      "INFO:tensorflow:global_step/sec: 55.9093\n",
      "INFO:tensorflow:loss = 21.926872, step = 201 (1.788 sec)\n",
      "INFO:tensorflow:global_step/sec: 61.2236\n",
      "INFO:tensorflow:loss = 18.140121, step = 301 (1.638 sec)\n",
      "INFO:tensorflow:global_step/sec: 60.5248\n",
      "INFO:tensorflow:loss = 35.78372, step = 401 (1.648 sec)\n",
      "INFO:tensorflow:global_step/sec: 61.4963\n",
      "INFO:tensorflow:loss = 26.052338, step = 501 (1.626 sec)\n",
      "INFO:tensorflow:global_step/sec: 58.4288\n",
      "INFO:tensorflow:loss = 21.324524, step = 601 (1.711 sec)\n",
      "INFO:tensorflow:global_step/sec: 60.9328\n",
      "INFO:tensorflow:loss = 18.418734, step = 701 (1.641 sec)\n",
      "INFO:tensorflow:global_step/sec: 58.6856\n",
      "INFO:tensorflow:loss = 23.48889, step = 801 (1.711 sec)\n",
      "INFO:tensorflow:global_step/sec: 59.6677\n",
      "INFO:tensorflow:loss = 22.441597, step = 901 (1.676 sec)\n",
      "INFO:tensorflow:global_step/sec: 58.1745\n",
      "INFO:tensorflow:loss = 23.339691, step = 1001 (1.712 sec)\n",
      "INFO:tensorflow:global_step/sec: 36.9445\n",
      "INFO:tensorflow:loss = 25.74415, step = 1101 (2.715 sec)\n",
      "INFO:tensorflow:global_step/sec: 54.7327\n",
      "INFO:tensorflow:loss = 15.936182, step = 1201 (1.819 sec)\n",
      "INFO:tensorflow:global_step/sec: 63.5707\n",
      "INFO:tensorflow:loss = 20.38366, step = 1301 (1.580 sec)\n",
      "INFO:tensorflow:global_step/sec: 55.8407\n",
      "INFO:tensorflow:loss = 17.314396, step = 1401 (1.788 sec)\n",
      "INFO:tensorflow:global_step/sec: 63.1466\n",
      "INFO:tensorflow:loss = 18.42121, step = 1501 (1.579 sec)\n",
      "INFO:tensorflow:global_step/sec: 45.7955\n",
      "INFO:tensorflow:loss = 23.761724, step = 1601 (2.183 sec)\n",
      "INFO:tensorflow:global_step/sec: 62.5649\n",
      "INFO:tensorflow:loss = 19.293657, step = 1701 (1.598 sec)\n",
      "INFO:tensorflow:global_step/sec: 56.6902\n",
      "INFO:tensorflow:loss = 15.073339, step = 1801 (1.768 sec)\n",
      "INFO:tensorflow:global_step/sec: 57.4447\n",
      "INFO:tensorflow:loss = 18.932148, step = 1901 (1.737 sec)\n",
      "INFO:tensorflow:global_step/sec: 66.7186\n",
      "INFO:tensorflow:loss = 23.574411, step = 2001 (1.499 sec)\n",
      "INFO:tensorflow:global_step/sec: 46.1032\n",
      "INFO:tensorflow:loss = 19.581097, step = 2101 (2.169 sec)\n",
      "INFO:tensorflow:global_step/sec: 54.9248\n",
      "INFO:tensorflow:loss = 23.90205, step = 2201 (1.820 sec)\n",
      "INFO:tensorflow:global_step/sec: 42.3891\n",
      "INFO:tensorflow:loss = 15.149546, step = 2301 (2.362 sec)\n",
      "INFO:tensorflow:global_step/sec: 51.3812\n",
      "INFO:tensorflow:loss = 26.633049, step = 2401 (1.943 sec)\n",
      "INFO:tensorflow:global_step/sec: 68.3326\n",
      "INFO:tensorflow:loss = 21.870827, step = 2501 (1.463 sec)\n",
      "INFO:tensorflow:global_step/sec: 54.9298\n",
      "INFO:tensorflow:loss = 23.999174, step = 2601 (1.838 sec)\n",
      "INFO:tensorflow:global_step/sec: 67.9872\n",
      "INFO:tensorflow:loss = 15.104359, step = 2701 (1.454 sec)\n",
      "INFO:tensorflow:global_step/sec: 68.1125\n",
      "INFO:tensorflow:loss = 29.825077, step = 2801 (1.467 sec)\n",
      "INFO:tensorflow:global_step/sec: 67.4383\n",
      "INFO:tensorflow:loss = 26.632395, step = 2901 (1.483 sec)\n",
      "INFO:tensorflow:global_step/sec: 65.6426\n",
      "INFO:tensorflow:loss = 14.058706, step = 3001 (1.524 sec)\n",
      "INFO:tensorflow:global_step/sec: 62.9112\n",
      "INFO:tensorflow:loss = 18.922588, step = 3101 (1.589 sec)\n",
      "INFO:tensorflow:global_step/sec: 69.3011\n",
      "INFO:tensorflow:loss = 22.119427, step = 3201 (1.443 sec)\n",
      "INFO:tensorflow:global_step/sec: 57.5557\n",
      "INFO:tensorflow:loss = 19.730293, step = 3301 (1.737 sec)\n",
      "INFO:tensorflow:global_step/sec: 63.651\n",
      "INFO:tensorflow:loss = 19.22382, step = 3401 (1.571 sec)\n",
      "INFO:tensorflow:global_step/sec: 58.4089\n",
      "INFO:tensorflow:loss = 29.191086, step = 3501 (1.712 sec)\n",
      "INFO:tensorflow:global_step/sec: 62.6868\n",
      "INFO:tensorflow:loss = 24.71611, step = 3601 (1.595 sec)\n",
      "INFO:tensorflow:global_step/sec: 55.2309\n",
      "INFO:tensorflow:loss = 17.552044, step = 3701 (1.811 sec)\n",
      "INFO:tensorflow:global_step/sec: 68.3445\n",
      "INFO:tensorflow:loss = 14.283455, step = 3801 (1.463 sec)\n",
      "INFO:tensorflow:global_step/sec: 65.9904\n",
      "INFO:tensorflow:loss = 15.253781, step = 3901 (1.515 sec)\n",
      "INFO:tensorflow:global_step/sec: 58.8491\n",
      "INFO:tensorflow:loss = 25.267632, step = 4001 (1.706 sec)\n",
      "INFO:tensorflow:global_step/sec: 45.044\n",
      "INFO:tensorflow:loss = 18.737343, step = 4101 (2.213 sec)\n",
      "INFO:tensorflow:global_step/sec: 51.6902\n",
      "INFO:tensorflow:loss = 18.520805, step = 4201 (1.935 sec)\n",
      "INFO:tensorflow:global_step/sec: 68.7383\n",
      "INFO:tensorflow:loss = 25.158031, step = 4301 (1.455 sec)\n",
      "INFO:tensorflow:global_step/sec: 58.7885\n",
      "INFO:tensorflow:loss = 20.281963, step = 4401 (1.706 sec)\n",
      "INFO:tensorflow:global_step/sec: 66.7632\n",
      "INFO:tensorflow:loss = 29.623505, step = 4501 (1.492 sec)\n",
      "INFO:tensorflow:global_step/sec: 49.1467\n",
      "INFO:tensorflow:loss = 23.498932, step = 4601 (2.035 sec)\n",
      "INFO:tensorflow:global_step/sec: 58.2821\n",
      "INFO:tensorflow:loss = 23.91126, step = 4701 (1.716 sec)\n",
      "INFO:tensorflow:global_step/sec: 55.9294\n",
      "INFO:tensorflow:loss = 28.431194, step = 4801 (1.794 sec)\n",
      "INFO:tensorflow:global_step/sec: 56.7877\n",
      "INFO:tensorflow:loss = 22.079998, step = 4901 (1.755 sec)\n",
      "INFO:tensorflow:global_step/sec: 41.7497\n",
      "INFO:tensorflow:loss = 18.573563, step = 5001 (2.395 sec)\n",
      "INFO:tensorflow:global_step/sec: 48.2069\n",
      "INFO:tensorflow:loss = 17.213509, step = 5101 (2.080 sec)\n",
      "INFO:tensorflow:global_step/sec: 47.7262\n",
      "INFO:tensorflow:loss = 26.627758, step = 5201 (2.092 sec)\n",
      "INFO:tensorflow:global_step/sec: 45.3364\n",
      "INFO:tensorflow:loss = 25.686977, step = 5301 (2.204 sec)\n",
      "INFO:tensorflow:global_step/sec: 45.8919\n",
      "INFO:tensorflow:loss = 17.159565, step = 5401 (2.179 sec)\n",
      "INFO:tensorflow:global_step/sec: 59.9195\n",
      "INFO:tensorflow:loss = 18.668623, step = 5501 (1.670 sec)\n",
      "INFO:tensorflow:global_step/sec: 51.7428\n",
      "INFO:tensorflow:loss = 24.150589, step = 5601 (1.932 sec)\n",
      "INFO:tensorflow:global_step/sec: 49.2664\n",
      "INFO:tensorflow:loss = 19.551907, step = 5701 (2.029 sec)\n",
      "INFO:tensorflow:global_step/sec: 43.2842\n",
      "INFO:tensorflow:loss = 37.071587, step = 5801 (2.310 sec)\n",
      "INFO:tensorflow:global_step/sec: 57.0525\n",
      "INFO:tensorflow:loss = 19.867382, step = 5901 (1.752 sec)\n",
      "INFO:tensorflow:global_step/sec: 54.6797\n",
      "INFO:tensorflow:loss = 20.17508, step = 6001 (1.829 sec)\n",
      "INFO:tensorflow:global_step/sec: 53.8056\n",
      "INFO:tensorflow:loss = 20.799957, step = 6101 (1.866 sec)\n",
      "INFO:tensorflow:global_step/sec: 59.7363\n",
      "INFO:tensorflow:loss = 20.914131, step = 6201 (1.666 sec)\n",
      "INFO:tensorflow:global_step/sec: 67.2419\n",
      "INFO:tensorflow:loss = 12.541841, step = 6301 (1.487 sec)\n",
      "INFO:tensorflow:global_step/sec: 60.0416\n",
      "INFO:tensorflow:loss = 22.339891, step = 6401 (1.666 sec)\n",
      "INFO:tensorflow:global_step/sec: 63.8535\n",
      "INFO:tensorflow:loss = 25.49834, step = 6501 (1.569 sec)\n",
      "INFO:tensorflow:global_step/sec: 58.9109\n",
      "INFO:tensorflow:loss = 19.326447, step = 6601 (1.694 sec)\n",
      "INFO:tensorflow:global_step/sec: 56.4525\n",
      "INFO:tensorflow:loss = 17.99629, step = 6701 (1.772 sec)\n",
      "INFO:tensorflow:global_step/sec: 59.5454\n",
      "INFO:tensorflow:loss = 19.799822, step = 6801 (1.679 sec)\n",
      "INFO:tensorflow:global_step/sec: 66.5319\n",
      "INFO:tensorflow:loss = 29.71744, step = 6901 (1.503 sec)\n",
      "INFO:tensorflow:global_step/sec: 67.2817\n",
      "INFO:tensorflow:loss = 28.811573, step = 7001 (1.486 sec)\n",
      "INFO:tensorflow:global_step/sec: 67.1154\n",
      "INFO:tensorflow:loss = 16.632027, step = 7101 (1.490 sec)\n",
      "INFO:tensorflow:global_step/sec: 62.2938\n",
      "INFO:tensorflow:loss = 23.312342, step = 7201 (1.608 sec)\n",
      "INFO:tensorflow:global_step/sec: 65.7452\n",
      "INFO:tensorflow:loss = 17.164902, step = 7301 (1.519 sec)\n",
      "INFO:tensorflow:global_step/sec: 54.7823\n",
      "INFO:tensorflow:loss = 27.53267, step = 7401 (1.830 sec)\n",
      "INFO:tensorflow:global_step/sec: 55.6737\n",
      "INFO:tensorflow:loss = 22.03717, step = 7501 (1.792 sec)\n",
      "INFO:tensorflow:global_step/sec: 66.9166\n",
      "INFO:tensorflow:loss = 23.650429, step = 7601 (1.494 sec)\n",
      "INFO:tensorflow:global_step/sec: 58.0997\n",
      "INFO:tensorflow:loss = 19.708511, step = 7701 (1.721 sec)\n",
      "INFO:tensorflow:global_step/sec: 63.7596\n",
      "INFO:tensorflow:loss = 21.495035, step = 7801 (1.568 sec)\n",
      "INFO:tensorflow:global_step/sec: 50.8573\n",
      "INFO:tensorflow:loss = 17.746895, step = 7901 (1.966 sec)\n"
     ]
    },
    {
     "name": "stdout",
     "output_type": "stream",
     "text": [
      "INFO:tensorflow:global_step/sec: 65.6959\n",
      "INFO:tensorflow:loss = 26.56285, step = 8001 (1.527 sec)\n",
      "INFO:tensorflow:global_step/sec: 60.8759\n",
      "INFO:tensorflow:loss = 18.095757, step = 8101 (1.638 sec)\n",
      "INFO:tensorflow:global_step/sec: 62.875\n",
      "INFO:tensorflow:loss = 34.16572, step = 8201 (1.590 sec)\n",
      "INFO:tensorflow:global_step/sec: 61.3112\n",
      "INFO:tensorflow:loss = 26.526356, step = 8301 (1.631 sec)\n",
      "INFO:tensorflow:global_step/sec: 55.5332\n",
      "INFO:tensorflow:loss = 24.79319, step = 8401 (1.801 sec)\n",
      "INFO:tensorflow:global_step/sec: 51.9683\n",
      "INFO:tensorflow:loss = 21.923412, step = 8501 (1.933 sec)\n",
      "INFO:tensorflow:global_step/sec: 45.9765\n",
      "INFO:tensorflow:loss = 23.559433, step = 8601 (2.166 sec)\n",
      "INFO:tensorflow:global_step/sec: 26.9936\n",
      "INFO:tensorflow:loss = 24.696884, step = 8701 (3.706 sec)\n",
      "INFO:tensorflow:global_step/sec: 37.901\n",
      "INFO:tensorflow:loss = 16.850243, step = 8801 (2.638 sec)\n",
      "INFO:tensorflow:global_step/sec: 53.9082\n",
      "INFO:tensorflow:loss = 22.620258, step = 8901 (1.855 sec)\n",
      "INFO:tensorflow:global_step/sec: 53.7405\n",
      "INFO:tensorflow:loss = 22.583923, step = 9001 (1.869 sec)\n",
      "INFO:tensorflow:global_step/sec: 52.6337\n",
      "INFO:tensorflow:loss = 16.670013, step = 9101 (1.896 sec)\n",
      "INFO:tensorflow:global_step/sec: 51.772\n",
      "INFO:tensorflow:loss = 24.046642, step = 9201 (1.932 sec)\n",
      "INFO:tensorflow:global_step/sec: 56.7096\n",
      "INFO:tensorflow:loss = 24.498371, step = 9301 (1.760 sec)\n",
      "INFO:tensorflow:global_step/sec: 56.4974\n",
      "INFO:tensorflow:loss = 15.9326, step = 9401 (1.772 sec)\n",
      "INFO:tensorflow:global_step/sec: 55.6601\n",
      "INFO:tensorflow:loss = 25.564548, step = 9501 (1.795 sec)\n",
      "INFO:tensorflow:global_step/sec: 60.1516\n",
      "INFO:tensorflow:loss = 26.554953, step = 9601 (1.662 sec)\n",
      "INFO:tensorflow:global_step/sec: 60.562\n",
      "INFO:tensorflow:loss = 21.609375, step = 9701 (1.651 sec)\n",
      "INFO:tensorflow:global_step/sec: 55.0766\n",
      "INFO:tensorflow:loss = 19.066154, step = 9801 (1.816 sec)\n",
      "INFO:tensorflow:global_step/sec: 56.3571\n",
      "INFO:tensorflow:loss = 21.12495, step = 9901 (1.774 sec)\n",
      "INFO:tensorflow:global_step/sec: 55.503\n",
      "INFO:tensorflow:loss = 21.34385, step = 10001 (1.802 sec)\n",
      "INFO:tensorflow:global_step/sec: 48.9138\n",
      "INFO:tensorflow:loss = 14.145304, step = 10101 (2.046 sec)\n",
      "INFO:tensorflow:global_step/sec: 49.3855\n",
      "INFO:tensorflow:loss = 18.630814, step = 10201 (2.024 sec)\n",
      "INFO:tensorflow:global_step/sec: 55.5914\n",
      "INFO:tensorflow:loss = 23.969086, step = 10301 (1.799 sec)\n",
      "INFO:tensorflow:global_step/sec: 52.5781\n",
      "INFO:tensorflow:loss = 19.361797, step = 10401 (1.909 sec)\n",
      "INFO:tensorflow:global_step/sec: 43.5898\n",
      "INFO:tensorflow:loss = 13.788767, step = 10501 (2.288 sec)\n",
      "INFO:tensorflow:global_step/sec: 58.4428\n",
      "INFO:tensorflow:loss = 18.695726, step = 10601 (1.710 sec)\n",
      "INFO:tensorflow:global_step/sec: 54.8611\n",
      "INFO:tensorflow:loss = 22.496765, step = 10701 (1.824 sec)\n",
      "INFO:tensorflow:global_step/sec: 56.9636\n",
      "INFO:tensorflow:loss = 16.98133, step = 10801 (1.755 sec)\n",
      "INFO:tensorflow:global_step/sec: 33.8576\n",
      "INFO:tensorflow:loss = 12.889784, step = 10901 (2.961 sec)\n",
      "INFO:tensorflow:global_step/sec: 35.1497\n",
      "INFO:tensorflow:loss = 34.273094, step = 11001 (2.846 sec)\n",
      "INFO:tensorflow:global_step/sec: 39.9211\n",
      "INFO:tensorflow:loss = 24.831184, step = 11101 (2.497 sec)\n",
      "INFO:tensorflow:global_step/sec: 47.5719\n",
      "INFO:tensorflow:loss = 20.256731, step = 11201 (2.102 sec)\n",
      "INFO:tensorflow:global_step/sec: 44.0933\n",
      "INFO:tensorflow:loss = 21.000654, step = 11301 (2.272 sec)\n",
      "INFO:tensorflow:global_step/sec: 55.4738\n",
      "INFO:tensorflow:loss = 18.890343, step = 11401 (1.797 sec)\n",
      "INFO:tensorflow:global_step/sec: 42.9289\n",
      "INFO:tensorflow:loss = 20.779333, step = 11501 (2.330 sec)\n",
      "INFO:tensorflow:global_step/sec: 67.0182\n",
      "INFO:tensorflow:loss = 23.03069, step = 11601 (1.492 sec)\n",
      "INFO:tensorflow:global_step/sec: 58.4568\n",
      "INFO:tensorflow:loss = 17.883099, step = 11701 (1.713 sec)\n",
      "INFO:tensorflow:global_step/sec: 25.6638\n",
      "INFO:tensorflow:loss = 17.190655, step = 11801 (3.894 sec)\n",
      "INFO:tensorflow:global_step/sec: 43.2176\n",
      "INFO:tensorflow:loss = 19.643555, step = 11901 (2.314 sec)\n",
      "INFO:tensorflow:global_step/sec: 33.4206\n",
      "INFO:tensorflow:loss = 27.037638, step = 12001 (2.993 sec)\n",
      "INFO:tensorflow:global_step/sec: 22.3691\n",
      "INFO:tensorflow:loss = 22.622322, step = 12101 (4.473 sec)\n",
      "INFO:tensorflow:global_step/sec: 17.693\n",
      "INFO:tensorflow:loss = 22.704796, step = 12201 (5.667 sec)\n",
      "INFO:tensorflow:global_step/sec: 19.9989\n",
      "INFO:tensorflow:loss = 24.278255, step = 12301 (5.004 sec)\n",
      "INFO:tensorflow:global_step/sec: 21.1414\n",
      "INFO:tensorflow:loss = 18.648022, step = 12401 (4.718 sec)\n",
      "INFO:tensorflow:global_step/sec: 27.5735\n",
      "INFO:tensorflow:loss = 21.715504, step = 12501 (3.620 sec)\n",
      "INFO:tensorflow:global_step/sec: 34.4813\n",
      "INFO:tensorflow:loss = 25.91575, step = 12601 (2.907 sec)\n",
      "INFO:tensorflow:global_step/sec: 19.5153\n",
      "INFO:tensorflow:loss = 22.8466, step = 12701 (5.126 sec)\n",
      "INFO:tensorflow:global_step/sec: 23.0494\n",
      "INFO:tensorflow:loss = 19.721247, step = 12801 (4.328 sec)\n",
      "INFO:tensorflow:global_step/sec: 17.8258\n",
      "INFO:tensorflow:loss = 21.95055, step = 12901 (5.644 sec)\n",
      "INFO:tensorflow:global_step/sec: 19.8912\n",
      "INFO:tensorflow:loss = 19.097176, step = 13001 (5.027 sec)\n",
      "INFO:tensorflow:global_step/sec: 37.8092\n",
      "INFO:tensorflow:loss = 20.436111, step = 13101 (2.609 sec)\n",
      "INFO:tensorflow:global_step/sec: 55.0424\n",
      "INFO:tensorflow:loss = 17.306896, step = 13201 (1.823 sec)\n",
      "INFO:tensorflow:global_step/sec: 46.2236\n",
      "INFO:tensorflow:loss = 17.544222, step = 13301 (2.161 sec)\n",
      "INFO:tensorflow:global_step/sec: 50.7512\n",
      "INFO:tensorflow:loss = 20.179478, step = 13401 (1.968 sec)\n",
      "INFO:tensorflow:global_step/sec: 52.4537\n",
      "INFO:tensorflow:loss = 19.344666, step = 13501 (1.906 sec)\n",
      "INFO:tensorflow:global_step/sec: 46.3651\n",
      "INFO:tensorflow:loss = 21.875399, step = 13601 (2.157 sec)\n",
      "INFO:tensorflow:global_step/sec: 33.6641\n",
      "INFO:tensorflow:loss = 25.905003, step = 13701 (2.975 sec)\n",
      "INFO:tensorflow:global_step/sec: 26.7888\n",
      "INFO:tensorflow:loss = 32.2444, step = 13801 (3.731 sec)\n",
      "INFO:tensorflow:global_step/sec: 45.2241\n",
      "INFO:tensorflow:loss = 20.183865, step = 13901 (2.209 sec)\n",
      "INFO:tensorflow:global_step/sec: 52.3133\n",
      "INFO:tensorflow:loss = 25.394907, step = 14001 (1.912 sec)\n",
      "INFO:tensorflow:global_step/sec: 29.2555\n",
      "INFO:tensorflow:loss = 25.478607, step = 14101 (3.421 sec)\n",
      "INFO:tensorflow:global_step/sec: 29.8072\n",
      "INFO:tensorflow:loss = 19.740902, step = 14201 (3.357 sec)\n",
      "INFO:tensorflow:global_step/sec: 31.4002\n",
      "INFO:tensorflow:loss = 22.308157, step = 14301 (3.179 sec)\n",
      "INFO:tensorflow:global_step/sec: 41.6724\n",
      "INFO:tensorflow:loss = 21.188082, step = 14401 (2.399 sec)\n",
      "INFO:tensorflow:global_step/sec: 28.8376\n",
      "INFO:tensorflow:loss = 19.547703, step = 14501 (3.484 sec)\n",
      "INFO:tensorflow:global_step/sec: 29.911\n",
      "INFO:tensorflow:loss = 23.340816, step = 14601 (3.328 sec)\n",
      "INFO:tensorflow:global_step/sec: 44.3532\n",
      "INFO:tensorflow:loss = 19.490974, step = 14701 (2.254 sec)\n",
      "INFO:tensorflow:global_step/sec: 51.2985\n",
      "INFO:tensorflow:loss = 20.513462, step = 14801 (1.950 sec)\n",
      "INFO:tensorflow:global_step/sec: 52.6069\n",
      "INFO:tensorflow:loss = 17.160746, step = 14901 (1.901 sec)\n",
      "INFO:tensorflow:global_step/sec: 36.5216\n",
      "INFO:tensorflow:loss = 25.195229, step = 15001 (2.742 sec)\n",
      "INFO:tensorflow:global_step/sec: 34.2761\n",
      "INFO:tensorflow:loss = 21.790455, step = 15101 (2.923 sec)\n",
      "INFO:tensorflow:global_step/sec: 35.8624\n",
      "INFO:tensorflow:loss = 19.674385, step = 15201 (2.779 sec)\n",
      "INFO:tensorflow:global_step/sec: 30.3578\n",
      "INFO:tensorflow:loss = 15.364971, step = 15301 (3.300 sec)\n",
      "INFO:tensorflow:global_step/sec: 56.6667\n",
      "INFO:tensorflow:loss = 22.20683, step = 15401 (1.759 sec)\n",
      "INFO:tensorflow:global_step/sec: 46.2575\n",
      "INFO:tensorflow:loss = 25.558403, step = 15501 (2.162 sec)\n",
      "INFO:tensorflow:global_step/sec: 42.5515\n",
      "INFO:tensorflow:loss = 30.499716, step = 15601 (2.350 sec)\n",
      "INFO:tensorflow:global_step/sec: 48.7269\n",
      "INFO:tensorflow:loss = 25.185297, step = 15701 (2.052 sec)\n",
      "INFO:tensorflow:global_step/sec: 33.104\n",
      "INFO:tensorflow:loss = 21.125916, step = 15801 (3.036 sec)\n",
      "INFO:tensorflow:global_step/sec: 35.0617\n",
      "INFO:tensorflow:loss = 24.44519, step = 15901 (2.853 sec)\n",
      "INFO:tensorflow:global_step/sec: 23.6593\n",
      "INFO:tensorflow:loss = 23.096228, step = 16001 (4.226 sec)\n",
      "INFO:tensorflow:global_step/sec: 20.6637\n",
      "INFO:tensorflow:loss = 22.56313, step = 16101 (4.846 sec)\n",
      "INFO:tensorflow:global_step/sec: 21.4523\n"
     ]
    },
    {
     "name": "stdout",
     "output_type": "stream",
     "text": [
      "INFO:tensorflow:loss = 20.942245, step = 16201 (4.641 sec)\n",
      "INFO:tensorflow:global_step/sec: 41.2286\n",
      "INFO:tensorflow:loss = 22.117785, step = 16301 (2.425 sec)\n",
      "INFO:tensorflow:global_step/sec: 31.8717\n",
      "INFO:tensorflow:loss = 14.035875, step = 16401 (3.137 sec)\n",
      "INFO:tensorflow:global_step/sec: 34.1383\n",
      "INFO:tensorflow:loss = 26.202158, step = 16501 (2.938 sec)\n",
      "INFO:tensorflow:global_step/sec: 37.219\n",
      "INFO:tensorflow:loss = 23.140028, step = 16601 (2.683 sec)\n",
      "INFO:tensorflow:global_step/sec: 28.5836\n",
      "INFO:tensorflow:loss = 20.84401, step = 16701 (3.493 sec)\n",
      "INFO:tensorflow:global_step/sec: 33.981\n",
      "INFO:tensorflow:loss = 33.904533, step = 16801 (2.952 sec)\n",
      "INFO:tensorflow:global_step/sec: 35.8668\n",
      "INFO:tensorflow:loss = 17.828074, step = 16901 (2.785 sec)\n",
      "INFO:tensorflow:global_step/sec: 36.5124\n",
      "INFO:tensorflow:loss = 25.427305, step = 17001 (2.733 sec)\n",
      "INFO:tensorflow:global_step/sec: 34.8959\n",
      "INFO:tensorflow:loss = 25.495335, step = 17101 (2.866 sec)\n",
      "INFO:tensorflow:global_step/sec: 22.339\n",
      "INFO:tensorflow:loss = 21.167517, step = 17201 (4.508 sec)\n",
      "INFO:tensorflow:global_step/sec: 33.0396\n",
      "INFO:tensorflow:loss = 14.82343, step = 17301 (2.995 sec)\n",
      "INFO:tensorflow:global_step/sec: 48.126\n",
      "INFO:tensorflow:loss = 13.447874, step = 17401 (2.078 sec)\n",
      "INFO:tensorflow:global_step/sec: 52.9326\n",
      "INFO:tensorflow:loss = 22.20214, step = 17501 (1.890 sec)\n",
      "INFO:tensorflow:global_step/sec: 54.4188\n",
      "INFO:tensorflow:loss = 27.804123, step = 17601 (1.841 sec)\n",
      "INFO:tensorflow:global_step/sec: 39.8543\n",
      "INFO:tensorflow:loss = 18.570948, step = 17701 (2.515 sec)\n",
      "INFO:tensorflow:global_step/sec: 47.6787\n",
      "INFO:tensorflow:loss = 22.068123, step = 17801 (2.088 sec)\n",
      "INFO:tensorflow:global_step/sec: 34.2221\n",
      "INFO:tensorflow:loss = 23.52759, step = 17901 (2.932 sec)\n",
      "INFO:tensorflow:global_step/sec: 39.5125\n",
      "INFO:tensorflow:loss = 30.334639, step = 18001 (2.520 sec)\n",
      "INFO:tensorflow:global_step/sec: 35.6494\n",
      "INFO:tensorflow:loss = 23.723955, step = 18101 (2.807 sec)\n",
      "INFO:tensorflow:global_step/sec: 39.9439\n",
      "INFO:tensorflow:loss = 19.375286, step = 18201 (2.503 sec)\n",
      "INFO:tensorflow:global_step/sec: 34.4918\n",
      "INFO:tensorflow:loss = 14.93622, step = 18301 (2.906 sec)\n",
      "INFO:tensorflow:global_step/sec: 27.5635\n",
      "INFO:tensorflow:loss = 17.367771, step = 18401 (3.621 sec)\n",
      "INFO:tensorflow:global_step/sec: 38.2653\n",
      "INFO:tensorflow:loss = 20.252434, step = 18501 (2.617 sec)\n",
      "INFO:tensorflow:global_step/sec: 28.3625\n",
      "INFO:tensorflow:loss = 21.561737, step = 18601 (3.545 sec)\n",
      "INFO:tensorflow:global_step/sec: 32.5374\n",
      "INFO:tensorflow:loss = 23.868275, step = 18701 (3.051 sec)\n",
      "INFO:tensorflow:global_step/sec: 22.9382\n",
      "INFO:tensorflow:loss = 20.176756, step = 18801 (4.397 sec)\n",
      "INFO:tensorflow:global_step/sec: 25.8293\n",
      "INFO:tensorflow:loss = 21.312363, step = 18901 (3.834 sec)\n",
      "INFO:tensorflow:global_step/sec: 54.8972\n",
      "INFO:tensorflow:loss = 21.800266, step = 19001 (1.829 sec)\n",
      "INFO:tensorflow:global_step/sec: 56.5928\n",
      "INFO:tensorflow:loss = 18.36026, step = 19101 (1.760 sec)\n",
      "INFO:tensorflow:global_step/sec: 42.8243\n",
      "INFO:tensorflow:loss = 25.32905, step = 19201 (2.335 sec)\n",
      "INFO:tensorflow:global_step/sec: 39.5687\n",
      "INFO:tensorflow:loss = 14.913296, step = 19301 (2.535 sec)\n",
      "INFO:tensorflow:global_step/sec: 30.1157\n",
      "INFO:tensorflow:loss = 18.963303, step = 19401 (3.313 sec)\n",
      "INFO:tensorflow:global_step/sec: 38.7662\n",
      "INFO:tensorflow:loss = 18.875906, step = 19501 (2.580 sec)\n",
      "INFO:tensorflow:global_step/sec: 41.5615\n",
      "INFO:tensorflow:loss = 22.476923, step = 19601 (2.405 sec)\n",
      "INFO:tensorflow:global_step/sec: 37.9379\n",
      "INFO:tensorflow:loss = 18.731253, step = 19701 (2.635 sec)\n",
      "INFO:tensorflow:global_step/sec: 62.058\n",
      "INFO:tensorflow:loss = 14.55224, step = 19801 (1.612 sec)\n",
      "INFO:tensorflow:global_step/sec: 53.6643\n",
      "INFO:tensorflow:loss = 13.18545, step = 19901 (1.864 sec)\n",
      "INFO:tensorflow:global_step/sec: 61.7285\n",
      "INFO:tensorflow:loss = 25.598042, step = 20001 (1.623 sec)\n",
      "INFO:tensorflow:global_step/sec: 42.0954\n",
      "INFO:tensorflow:loss = 28.558279, step = 20101 (2.371 sec)\n",
      "INFO:tensorflow:global_step/sec: 30.823\n",
      "INFO:tensorflow:loss = 26.351767, step = 20201 (3.274 sec)\n",
      "INFO:tensorflow:global_step/sec: 39.2033\n",
      "INFO:tensorflow:loss = 22.113155, step = 20301 (2.525 sec)\n",
      "INFO:tensorflow:Saving checkpoints for 20351 into /tmp/tmp8pe6xbru/model.ckpt.\n",
      "INFO:tensorflow:Loss for final step: 7.8704767.\n"
     ]
    },
    {
     "data": {
      "text/plain": [
       "<tensorflow_estimator.python.estimator.canned.linear.LinearClassifier at 0x7a64d1ce6470>"
      ]
     },
     "execution_count": 82,
     "metadata": {},
     "output_type": "execute_result"
    }
   ],
   "source": [
    "model.train(train_inpf)"
   ]
  },
  {
   "cell_type": "code",
   "execution_count": 83,
   "metadata": {},
   "outputs": [],
   "source": [
    "clear_output() # used for notebook display"
   ]
  },
  {
   "cell_type": "code",
   "execution_count": 84,
   "metadata": {
    "collapsed": true
   },
   "outputs": [
    {
     "name": "stdout",
     "output_type": "stream",
     "text": [
      "INFO:tensorflow:Parsing /tmp/census_data/adult.test\n",
      "INFO:tensorflow:Calling model_fn.\n",
      "WARNING:tensorflow:Trapezoidal rule is known to produce incorrect PR-AUCs; please switch to \"careful_interpolation\" instead.\n",
      "WARNING:tensorflow:Trapezoidal rule is known to produce incorrect PR-AUCs; please switch to \"careful_interpolation\" instead.\n",
      "INFO:tensorflow:Done calling model_fn.\n",
      "INFO:tensorflow:Starting evaluation at 2019-10-21T11:55:45Z\n",
      "INFO:tensorflow:Graph was finalized.\n",
      "INFO:tensorflow:Restoring parameters from /tmp/tmp8pe6xbru/model.ckpt-20351\n",
      "INFO:tensorflow:Running local_init_op.\n",
      "INFO:tensorflow:Done running local_init_op.\n",
      "INFO:tensorflow:Finished evaluation at 2019-10-21-11:56:03\n",
      "INFO:tensorflow:Saving dict for global step 20351: accuracy = 0.8347153, accuracy_baseline = 0.76377374, auc = 0.88157046, auc_precision_recall = 0.6917119, average_loss = 0.35462317, global_step = 20351, label/mean = 0.23622628, loss = 22.641645, precision = 0.6805252, prediction/mean = 0.24053533, recall = 0.56604266\n",
      "INFO:tensorflow:Saving 'checkpoint_path' summary for global step 20351: /tmp/tmp8pe6xbru/model.ckpt-20351\n"
     ]
    }
   ],
   "source": [
    "results = model.evaluate(test_inpf)"
   ]
  },
  {
   "cell_type": "code",
   "execution_count": 85,
   "metadata": {},
   "outputs": [],
   "source": [
    "clear_output()"
   ]
  },
  {
   "cell_type": "code",
   "execution_count": 86,
   "metadata": {},
   "outputs": [
    {
     "name": "stdout",
     "output_type": "stream",
     "text": [
      "accuracy: 0.83\n",
      "accuracy_baseline: 0.76\n",
      "auc: 0.88\n",
      "auc_precision_recall: 0.69\n",
      "average_loss: 0.35\n",
      "global_step: 20351.00\n",
      "label/mean: 0.24\n",
      "loss: 22.64\n",
      "precision: 0.68\n",
      "prediction/mean: 0.24\n",
      "recall: 0.57\n"
     ]
    }
   ],
   "source": [
    "for key, value in sorted(results.items()):\n",
    "    print('%s: %0.2f' % (key, value))"
   ]
  },
  {
   "cell_type": "code",
   "execution_count": 87,
   "metadata": {},
   "outputs": [],
   "source": [
    "# After the model is evaluated, we can use it to predict whether\n",
    "# an individual has an annual income of > $50000 given info\n",
    "# input."
   ]
  },
  {
   "cell_type": "code",
   "execution_count": 88,
   "metadata": {},
   "outputs": [],
   "source": [
    "import numpy as np"
   ]
  },
  {
   "cell_type": "code",
   "execution_count": 90,
   "metadata": {},
   "outputs": [],
   "source": [
    "predict_df = test_df[:20].copy()"
   ]
  },
  {
   "cell_type": "code",
   "execution_count": 91,
   "metadata": {},
   "outputs": [],
   "source": [
    "pred_iter = model.predict(lambda:easy_input_function(\\\n",
    "                predict_df, label_key='income_bracket', \\\n",
    "                num_epochs=1, shuffle=False, batch_size=10))"
   ]
  },
  {
   "cell_type": "code",
   "execution_count": 92,
   "metadata": {},
   "outputs": [],
   "source": [
    "classes = np.array(['<=50K', '>50K'])"
   ]
  },
  {
   "cell_type": "code",
   "execution_count": 93,
   "metadata": {},
   "outputs": [],
   "source": [
    "pred_class_id = []"
   ]
  },
  {
   "cell_type": "code",
   "execution_count": 94,
   "metadata": {
    "collapsed": true
   },
   "outputs": [
    {
     "name": "stdout",
     "output_type": "stream",
     "text": [
      "INFO:tensorflow:Calling model_fn.\n",
      "INFO:tensorflow:Done calling model_fn.\n",
      "INFO:tensorflow:Graph was finalized.\n",
      "INFO:tensorflow:Restoring parameters from /tmp/tmp8pe6xbru/model.ckpt-20351\n",
      "INFO:tensorflow:Running local_init_op.\n",
      "INFO:tensorflow:Done running local_init_op.\n"
     ]
    }
   ],
   "source": [
    "for pred_dict in pred_iter:\n",
    "    pred_class_id.append(pred_dict['class_ids'])"
   ]
  },
  {
   "cell_type": "code",
   "execution_count": 95,
   "metadata": {},
   "outputs": [],
   "source": [
    "predict_df['predicted_class'] = classes[np.array(pred_class_id)]"
   ]
  },
  {
   "cell_type": "code",
   "execution_count": 96,
   "metadata": {},
   "outputs": [],
   "source": [
    "predict_df['correct'] = predict_df['predicted_class'] == \\\n",
    "                            predict_df['income_bracket']"
   ]
  },
  {
   "cell_type": "code",
   "execution_count": 97,
   "metadata": {},
   "outputs": [],
   "source": [
    "clear_output()"
   ]
  },
  {
   "cell_type": "code",
   "execution_count": 98,
   "metadata": {},
   "outputs": [
    {
     "data": {
      "text/html": [
       "<div>\n",
       "<style scoped>\n",
       "    .dataframe tbody tr th:only-of-type {\n",
       "        vertical-align: middle;\n",
       "    }\n",
       "\n",
       "    .dataframe tbody tr th {\n",
       "        vertical-align: top;\n",
       "    }\n",
       "\n",
       "    .dataframe thead th {\n",
       "        text-align: right;\n",
       "    }\n",
       "</style>\n",
       "<table border=\"1\" class=\"dataframe\">\n",
       "  <thead>\n",
       "    <tr style=\"text-align: right;\">\n",
       "      <th></th>\n",
       "      <th>income_bracket</th>\n",
       "      <th>predicted_class</th>\n",
       "      <th>correct</th>\n",
       "    </tr>\n",
       "  </thead>\n",
       "  <tbody>\n",
       "    <tr>\n",
       "      <th>0</th>\n",
       "      <td>&lt;=50K</td>\n",
       "      <td>&lt;=50K</td>\n",
       "      <td>True</td>\n",
       "    </tr>\n",
       "    <tr>\n",
       "      <th>1</th>\n",
       "      <td>&lt;=50K</td>\n",
       "      <td>&lt;=50K</td>\n",
       "      <td>True</td>\n",
       "    </tr>\n",
       "    <tr>\n",
       "      <th>2</th>\n",
       "      <td>&gt;50K</td>\n",
       "      <td>&lt;=50K</td>\n",
       "      <td>False</td>\n",
       "    </tr>\n",
       "    <tr>\n",
       "      <th>3</th>\n",
       "      <td>&gt;50K</td>\n",
       "      <td>&lt;=50K</td>\n",
       "      <td>False</td>\n",
       "    </tr>\n",
       "    <tr>\n",
       "      <th>4</th>\n",
       "      <td>&lt;=50K</td>\n",
       "      <td>&lt;=50K</td>\n",
       "      <td>True</td>\n",
       "    </tr>\n",
       "    <tr>\n",
       "      <th>5</th>\n",
       "      <td>&lt;=50K</td>\n",
       "      <td>&lt;=50K</td>\n",
       "      <td>True</td>\n",
       "    </tr>\n",
       "    <tr>\n",
       "      <th>6</th>\n",
       "      <td>&lt;=50K</td>\n",
       "      <td>&lt;=50K</td>\n",
       "      <td>True</td>\n",
       "    </tr>\n",
       "    <tr>\n",
       "      <th>7</th>\n",
       "      <td>&gt;50K</td>\n",
       "      <td>&gt;50K</td>\n",
       "      <td>True</td>\n",
       "    </tr>\n",
       "    <tr>\n",
       "      <th>8</th>\n",
       "      <td>&lt;=50K</td>\n",
       "      <td>&lt;=50K</td>\n",
       "      <td>True</td>\n",
       "    </tr>\n",
       "    <tr>\n",
       "      <th>9</th>\n",
       "      <td>&lt;=50K</td>\n",
       "      <td>&lt;=50K</td>\n",
       "      <td>True</td>\n",
       "    </tr>\n",
       "    <tr>\n",
       "      <th>10</th>\n",
       "      <td>&gt;50K</td>\n",
       "      <td>&lt;=50K</td>\n",
       "      <td>False</td>\n",
       "    </tr>\n",
       "    <tr>\n",
       "      <th>11</th>\n",
       "      <td>&lt;=50K</td>\n",
       "      <td>&gt;50K</td>\n",
       "      <td>False</td>\n",
       "    </tr>\n",
       "    <tr>\n",
       "      <th>12</th>\n",
       "      <td>&lt;=50K</td>\n",
       "      <td>&lt;=50K</td>\n",
       "      <td>True</td>\n",
       "    </tr>\n",
       "    <tr>\n",
       "      <th>13</th>\n",
       "      <td>&lt;=50K</td>\n",
       "      <td>&lt;=50K</td>\n",
       "      <td>True</td>\n",
       "    </tr>\n",
       "    <tr>\n",
       "      <th>14</th>\n",
       "      <td>&gt;50K</td>\n",
       "      <td>&lt;=50K</td>\n",
       "      <td>False</td>\n",
       "    </tr>\n",
       "    <tr>\n",
       "      <th>15</th>\n",
       "      <td>&gt;50K</td>\n",
       "      <td>&gt;50K</td>\n",
       "      <td>True</td>\n",
       "    </tr>\n",
       "    <tr>\n",
       "      <th>16</th>\n",
       "      <td>&lt;=50K</td>\n",
       "      <td>&lt;=50K</td>\n",
       "      <td>True</td>\n",
       "    </tr>\n",
       "    <tr>\n",
       "      <th>17</th>\n",
       "      <td>&lt;=50K</td>\n",
       "      <td>&lt;=50K</td>\n",
       "      <td>True</td>\n",
       "    </tr>\n",
       "    <tr>\n",
       "      <th>18</th>\n",
       "      <td>&lt;=50K</td>\n",
       "      <td>&lt;=50K</td>\n",
       "      <td>True</td>\n",
       "    </tr>\n",
       "    <tr>\n",
       "      <th>19</th>\n",
       "      <td>&gt;50K</td>\n",
       "      <td>&gt;50K</td>\n",
       "      <td>True</td>\n",
       "    </tr>\n",
       "  </tbody>\n",
       "</table>\n",
       "</div>"
      ],
      "text/plain": [
       "   income_bracket predicted_class  correct\n",
       "0           <=50K           <=50K     True\n",
       "1           <=50K           <=50K     True\n",
       "2            >50K           <=50K    False\n",
       "3            >50K           <=50K    False\n",
       "4           <=50K           <=50K     True\n",
       "5           <=50K           <=50K     True\n",
       "6           <=50K           <=50K     True\n",
       "7            >50K            >50K     True\n",
       "8           <=50K           <=50K     True\n",
       "9           <=50K           <=50K     True\n",
       "10           >50K           <=50K    False\n",
       "11          <=50K            >50K    False\n",
       "12          <=50K           <=50K     True\n",
       "13          <=50K           <=50K     True\n",
       "14           >50K           <=50K    False\n",
       "15           >50K            >50K     True\n",
       "16          <=50K           <=50K     True\n",
       "17          <=50K           <=50K     True\n",
       "18          <=50K           <=50K     True\n",
       "19           >50K            >50K     True"
      ]
     },
     "execution_count": 98,
     "metadata": {},
     "output_type": "execute_result"
    }
   ],
   "source": [
    "predict_df[['income_bracket','predicted_class','correct']]"
   ]
  },
  {
   "cell_type": "code",
   "execution_count": 99,
   "metadata": {
    "collapsed": true
   },
   "outputs": [
    {
     "name": "stdout",
     "output_type": "stream",
     "text": [
      "INFO:tensorflow:Using default config.\n",
      "WARNING:tensorflow:Using temporary folder as model directory: /tmp/tmpr2qp_1o_\n",
      "INFO:tensorflow:Using config: {'_model_dir': '/tmp/tmpr2qp_1o_', '_tf_random_seed': None, '_save_summary_steps': 100, '_save_checkpoints_steps': None, '_save_checkpoints_secs': 600, '_session_config': allow_soft_placement: true\n",
      "graph_options {\n",
      "  rewrite_options {\n",
      "    meta_optimizer_iterations: ONE\n",
      "  }\n",
      "}\n",
      ", '_keep_checkpoint_max': 5, '_keep_checkpoint_every_n_hours': 10000, '_log_step_count_steps': 100, '_train_distribute': None, '_device_fn': None, '_protocol': None, '_eval_distribute': None, '_experimental_distribute': None, '_experimental_max_worker_delay_secs': None, '_service': None, '_cluster_spec': <tensorflow.python.training.server_lib.ClusterSpec object at 0x7a64c4bd1a90>, '_task_type': 'worker', '_task_id': 0, '_global_id_in_cluster': 0, '_master': '', '_evaluation_master': '', '_is_chief': True, '_num_ps_replicas': 0, '_num_worker_replicas': 1}\n"
     ]
    }
   ],
   "source": [
    "# Add Regularization to Prevent Overfitting\n",
    "# Add L1 and L2 regularizations to the model.\n",
    "model_l1 = tf.estimator.LinearClassifier(\\\n",
    "    feature_columns=base_columns+crossed_columns,\\\n",
    "    optimizer=tf.train.FtrlOptimizer(\\\n",
    "                learning_rate=0.1,\\\n",
    "                l1_regularization_strength=10.0,\\\n",
    "                l2_regularization_strength=0.0))"
   ]
  },
  {
   "cell_type": "code",
   "execution_count": 100,
   "metadata": {
    "collapsed": true
   },
   "outputs": [
    {
     "name": "stdout",
     "output_type": "stream",
     "text": [
      "INFO:tensorflow:Parsing /tmp/census_data/adult.data\n",
      "INFO:tensorflow:Calling model_fn.\n",
      "INFO:tensorflow:Done calling model_fn.\n",
      "INFO:tensorflow:Create CheckpointSaverHook.\n",
      "INFO:tensorflow:Graph was finalized.\n",
      "INFO:tensorflow:Running local_init_op.\n",
      "INFO:tensorflow:Done running local_init_op.\n",
      "INFO:tensorflow:Saving checkpoints for 0 into /tmp/tmpr2qp_1o_/model.ckpt.\n",
      "INFO:tensorflow:loss = 44.361427, step = 1\n",
      "INFO:tensorflow:global_step/sec: 10.3812\n",
      "INFO:tensorflow:loss = 22.892572, step = 101 (9.635 sec)\n",
      "INFO:tensorflow:global_step/sec: 44.0596\n",
      "INFO:tensorflow:loss = 21.65912, step = 201 (2.270 sec)\n",
      "INFO:tensorflow:global_step/sec: 42.5164\n",
      "INFO:tensorflow:loss = 24.648224, step = 301 (2.358 sec)\n",
      "INFO:tensorflow:global_step/sec: 47.2\n",
      "INFO:tensorflow:loss = 25.049541, step = 401 (2.112 sec)\n",
      "INFO:tensorflow:global_step/sec: 21.3486\n",
      "INFO:tensorflow:loss = 18.647076, step = 501 (4.702 sec)\n",
      "INFO:tensorflow:global_step/sec: 56.0859\n",
      "INFO:tensorflow:loss = 22.595654, step = 601 (1.766 sec)\n",
      "INFO:tensorflow:global_step/sec: 39.5998\n",
      "INFO:tensorflow:loss = 25.55067, step = 701 (2.524 sec)\n",
      "INFO:tensorflow:global_step/sec: 29.465\n",
      "INFO:tensorflow:loss = 20.789219, step = 801 (3.397 sec)\n",
      "INFO:tensorflow:global_step/sec: 25.5948\n",
      "INFO:tensorflow:loss = 19.512753, step = 901 (3.912 sec)\n",
      "INFO:tensorflow:global_step/sec: 20.7082\n",
      "INFO:tensorflow:loss = 25.540932, step = 1001 (4.822 sec)\n",
      "INFO:tensorflow:global_step/sec: 46.1828\n",
      "INFO:tensorflow:loss = 22.986046, step = 1101 (2.165 sec)\n",
      "INFO:tensorflow:global_step/sec: 52.7856\n",
      "INFO:tensorflow:loss = 27.421703, step = 1201 (1.895 sec)\n",
      "INFO:tensorflow:global_step/sec: 54.0791\n",
      "INFO:tensorflow:loss = 13.251564, step = 1301 (1.853 sec)\n",
      "INFO:tensorflow:global_step/sec: 54.0578\n",
      "INFO:tensorflow:loss = 20.85472, step = 1401 (1.855 sec)\n",
      "INFO:tensorflow:global_step/sec: 30.5924\n",
      "INFO:tensorflow:loss = 20.090586, step = 1501 (3.261 sec)\n",
      "INFO:tensorflow:global_step/sec: 37.5538\n",
      "INFO:tensorflow:loss = 22.49113, step = 1601 (2.664 sec)\n",
      "INFO:tensorflow:global_step/sec: 33.212\n",
      "INFO:tensorflow:loss = 14.197809, step = 1701 (3.017 sec)\n",
      "INFO:tensorflow:global_step/sec: 42.2908\n",
      "INFO:tensorflow:loss = 19.90148, step = 1801 (2.362 sec)\n",
      "INFO:tensorflow:global_step/sec: 48.2318\n",
      "INFO:tensorflow:loss = 15.0555, step = 1901 (2.070 sec)\n",
      "INFO:tensorflow:global_step/sec: 50.6322\n",
      "INFO:tensorflow:loss = 23.690025, step = 2001 (1.972 sec)\n",
      "INFO:tensorflow:global_step/sec: 34.6856\n",
      "INFO:tensorflow:loss = 23.520233, step = 2101 (2.893 sec)\n",
      "INFO:tensorflow:global_step/sec: 38.2962\n",
      "INFO:tensorflow:loss = 21.49337, step = 2201 (2.604 sec)\n",
      "INFO:tensorflow:global_step/sec: 39.5061\n",
      "INFO:tensorflow:loss = 19.756716, step = 2301 (2.533 sec)\n",
      "INFO:tensorflow:global_step/sec: 33.5366\n",
      "INFO:tensorflow:loss = 23.13388, step = 2401 (2.977 sec)\n",
      "INFO:tensorflow:global_step/sec: 39.3027\n",
      "INFO:tensorflow:loss = 21.490055, step = 2501 (2.549 sec)\n",
      "INFO:tensorflow:global_step/sec: 28.4018\n",
      "INFO:tensorflow:loss = 25.173843, step = 2601 (3.517 sec)\n",
      "INFO:tensorflow:global_step/sec: 38.6779\n",
      "INFO:tensorflow:loss = 23.918194, step = 2701 (2.596 sec)\n",
      "INFO:tensorflow:global_step/sec: 40.988\n",
      "INFO:tensorflow:loss = 24.432333, step = 2801 (2.430 sec)\n",
      "INFO:tensorflow:global_step/sec: 36.5679\n",
      "INFO:tensorflow:loss = 14.351437, step = 2901 (2.734 sec)\n",
      "INFO:tensorflow:global_step/sec: 57.0811\n",
      "INFO:tensorflow:loss = 20.153818, step = 3001 (1.753 sec)\n",
      "INFO:tensorflow:global_step/sec: 52.6264\n",
      "INFO:tensorflow:loss = 22.3703, step = 3101 (1.907 sec)\n",
      "INFO:tensorflow:global_step/sec: 58.3157\n",
      "INFO:tensorflow:loss = 18.891792, step = 3201 (1.707 sec)\n",
      "INFO:tensorflow:global_step/sec: 30.3137\n",
      "INFO:tensorflow:loss = 24.450573, step = 3301 (3.300 sec)\n",
      "INFO:tensorflow:global_step/sec: 38.4633\n",
      "INFO:tensorflow:loss = 20.767807, step = 3401 (2.601 sec)\n",
      "INFO:tensorflow:global_step/sec: 41.6158\n",
      "INFO:tensorflow:loss = 27.556616, step = 3501 (2.400 sec)\n",
      "INFO:tensorflow:global_step/sec: 27.726\n",
      "INFO:tensorflow:loss = 21.58666, step = 3601 (3.624 sec)\n",
      "INFO:tensorflow:global_step/sec: 26.6291\n",
      "INFO:tensorflow:loss = 33.72829, step = 3701 (3.745 sec)\n",
      "INFO:tensorflow:global_step/sec: 36.9859\n",
      "INFO:tensorflow:loss = 24.822018, step = 3801 (2.697 sec)\n",
      "INFO:tensorflow:global_step/sec: 35.1763\n",
      "INFO:tensorflow:loss = 17.037043, step = 3901 (2.856 sec)\n",
      "INFO:tensorflow:global_step/sec: 34.0657\n",
      "INFO:tensorflow:loss = 20.573, step = 4001 (2.927 sec)\n",
      "INFO:tensorflow:global_step/sec: 48.5729\n",
      "INFO:tensorflow:loss = 20.081203, step = 4101 (2.054 sec)\n",
      "INFO:tensorflow:global_step/sec: 42.5622\n",
      "INFO:tensorflow:loss = 19.436537, step = 4201 (2.360 sec)\n",
      "INFO:tensorflow:global_step/sec: 51.458\n",
      "INFO:tensorflow:loss = 24.711288, step = 4301 (1.939 sec)\n",
      "INFO:tensorflow:global_step/sec: 33.6446\n",
      "INFO:tensorflow:loss = 26.689413, step = 4401 (2.967 sec)\n",
      "INFO:tensorflow:global_step/sec: 49.5072\n",
      "INFO:tensorflow:loss = 25.24141, step = 4501 (2.019 sec)\n",
      "INFO:tensorflow:global_step/sec: 31.8654\n",
      "INFO:tensorflow:loss = 23.854303, step = 4601 (3.146 sec)\n",
      "INFO:tensorflow:global_step/sec: 34.3818\n",
      "INFO:tensorflow:loss = 19.38927, step = 4701 (2.899 sec)\n",
      "INFO:tensorflow:global_step/sec: 43.6393\n",
      "INFO:tensorflow:loss = 18.42793, step = 4801 (2.293 sec)\n",
      "INFO:tensorflow:global_step/sec: 38.9884\n",
      "INFO:tensorflow:loss = 25.187428, step = 4901 (2.578 sec)\n",
      "INFO:tensorflow:global_step/sec: 28.9561\n",
      "INFO:tensorflow:loss = 19.16064, step = 5001 (3.447 sec)\n",
      "INFO:tensorflow:global_step/sec: 37.847\n",
      "INFO:tensorflow:loss = 15.962681, step = 5101 (2.641 sec)\n",
      "INFO:tensorflow:global_step/sec: 31.4662\n",
      "INFO:tensorflow:loss = 17.83296, step = 5201 (3.172 sec)\n",
      "INFO:tensorflow:global_step/sec: 36.5627\n",
      "INFO:tensorflow:loss = 20.731028, step = 5301 (2.735 sec)\n",
      "INFO:tensorflow:global_step/sec: 28.8393\n",
      "INFO:tensorflow:loss = 17.957457, step = 5401 (3.468 sec)\n",
      "INFO:tensorflow:global_step/sec: 43.3147\n",
      "INFO:tensorflow:loss = 31.856762, step = 5501 (2.309 sec)\n",
      "INFO:tensorflow:global_step/sec: 53.6983\n",
      "INFO:tensorflow:loss = 20.774233, step = 5601 (1.864 sec)\n",
      "INFO:tensorflow:global_step/sec: 43.1995\n",
      "INFO:tensorflow:loss = 16.890295, step = 5701 (2.312 sec)\n",
      "INFO:tensorflow:global_step/sec: 39.0755\n",
      "INFO:tensorflow:loss = 17.702042, step = 5801 (2.567 sec)\n",
      "INFO:tensorflow:global_step/sec: 40.089\n",
      "INFO:tensorflow:loss = 27.983814, step = 5901 (2.492 sec)\n",
      "INFO:tensorflow:global_step/sec: 33.1526\n",
      "INFO:tensorflow:loss = 28.030891, step = 6001 (3.021 sec)\n",
      "INFO:tensorflow:global_step/sec: 33.213\n",
      "INFO:tensorflow:loss = 17.549248, step = 6101 (3.005 sec)\n",
      "INFO:tensorflow:global_step/sec: 34.1306\n",
      "INFO:tensorflow:loss = 16.26352, step = 6201 (2.926 sec)\n",
      "INFO:tensorflow:global_step/sec: 36.2981\n",
      "INFO:tensorflow:loss = 28.87408, step = 6301 (2.755 sec)\n",
      "INFO:tensorflow:global_step/sec: 35.0065\n",
      "INFO:tensorflow:loss = 26.149242, step = 6401 (2.863 sec)\n",
      "INFO:tensorflow:global_step/sec: 39.7271\n",
      "INFO:tensorflow:loss = 21.591389, step = 6501 (2.511 sec)\n",
      "INFO:tensorflow:global_step/sec: 44.9356\n",
      "INFO:tensorflow:loss = 17.756706, step = 6601 (2.225 sec)\n",
      "INFO:tensorflow:global_step/sec: 34.7895\n",
      "INFO:tensorflow:loss = 26.374691, step = 6701 (2.895 sec)\n",
      "INFO:tensorflow:global_step/sec: 31.882\n",
      "INFO:tensorflow:loss = 18.519417, step = 6801 (3.118 sec)\n",
      "INFO:tensorflow:global_step/sec: 46.4227\n",
      "INFO:tensorflow:loss = 25.757616, step = 6901 (2.159 sec)\n",
      "INFO:tensorflow:global_step/sec: 37.4563\n",
      "INFO:tensorflow:loss = 31.310951, step = 7001 (2.666 sec)\n",
      "INFO:tensorflow:global_step/sec: 38.8876\n",
      "INFO:tensorflow:loss = 18.006657, step = 7101 (2.569 sec)\n",
      "INFO:tensorflow:global_step/sec: 33.6923\n",
      "INFO:tensorflow:loss = 23.583096, step = 7201 (2.970 sec)\n",
      "INFO:tensorflow:global_step/sec: 38.0678\n",
      "INFO:tensorflow:loss = 18.141024, step = 7301 (2.624 sec)\n",
      "INFO:tensorflow:global_step/sec: 31.9204\n",
      "INFO:tensorflow:loss = 19.196156, step = 7401 (3.132 sec)\n",
      "INFO:tensorflow:global_step/sec: 40.0892\n",
      "INFO:tensorflow:loss = 21.358253, step = 7501 (2.497 sec)\n",
      "INFO:tensorflow:global_step/sec: 23.2525\n",
      "INFO:tensorflow:loss = 23.909197, step = 7601 (4.304 sec)\n",
      "INFO:tensorflow:global_step/sec: 33.3718\n",
      "INFO:tensorflow:loss = 24.357315, step = 7701 (2.992 sec)\n",
      "INFO:tensorflow:global_step/sec: 48.6772\n",
      "INFO:tensorflow:loss = 18.834854, step = 7801 (2.054 sec)\n",
      "INFO:tensorflow:global_step/sec: 40.259\n",
      "INFO:tensorflow:loss = 19.63263, step = 7901 (2.484 sec)\n",
      "INFO:tensorflow:global_step/sec: 33.3353\n"
     ]
    },
    {
     "name": "stdout",
     "output_type": "stream",
     "text": [
      "INFO:tensorflow:loss = 21.862007, step = 8001 (3.016 sec)\n",
      "INFO:tensorflow:global_step/sec: 40.344\n",
      "INFO:tensorflow:loss = 26.388714, step = 8101 (2.462 sec)\n",
      "INFO:tensorflow:global_step/sec: 29.524\n",
      "INFO:tensorflow:loss = 25.486734, step = 8201 (3.391 sec)\n",
      "INFO:tensorflow:global_step/sec: 43.0379\n",
      "INFO:tensorflow:loss = 20.81356, step = 8301 (2.322 sec)\n",
      "INFO:tensorflow:global_step/sec: 40.0443\n",
      "INFO:tensorflow:loss = 24.553158, step = 8401 (2.508 sec)\n",
      "INFO:tensorflow:global_step/sec: 40.4129\n",
      "INFO:tensorflow:loss = 26.758255, step = 8501 (2.460 sec)\n",
      "INFO:tensorflow:global_step/sec: 29.2336\n",
      "INFO:tensorflow:loss = 20.62527, step = 8601 (3.421 sec)\n",
      "INFO:tensorflow:global_step/sec: 44.4379\n",
      "INFO:tensorflow:loss = 25.214245, step = 8701 (2.271 sec)\n",
      "INFO:tensorflow:global_step/sec: 36.5531\n",
      "INFO:tensorflow:loss = 25.933235, step = 8801 (2.718 sec)\n",
      "INFO:tensorflow:global_step/sec: 35.8575\n",
      "INFO:tensorflow:loss = 19.88197, step = 8901 (2.788 sec)\n",
      "INFO:tensorflow:global_step/sec: 57.2486\n",
      "INFO:tensorflow:loss = 22.497513, step = 9001 (1.748 sec)\n",
      "INFO:tensorflow:global_step/sec: 36.3038\n",
      "INFO:tensorflow:loss = 21.133348, step = 9101 (2.754 sec)\n",
      "INFO:tensorflow:global_step/sec: 37.0709\n",
      "INFO:tensorflow:loss = 24.947865, step = 9201 (2.697 sec)\n",
      "INFO:tensorflow:global_step/sec: 57.1536\n",
      "INFO:tensorflow:loss = 19.3359, step = 9301 (1.756 sec)\n",
      "INFO:tensorflow:global_step/sec: 41.5462\n",
      "INFO:tensorflow:loss = 15.437229, step = 9401 (2.402 sec)\n",
      "INFO:tensorflow:global_step/sec: 51.2533\n",
      "INFO:tensorflow:loss = 24.51965, step = 9501 (1.948 sec)\n",
      "INFO:tensorflow:global_step/sec: 46.1625\n",
      "INFO:tensorflow:loss = 16.149494, step = 9601 (2.166 sec)\n",
      "INFO:tensorflow:global_step/sec: 25.4638\n",
      "INFO:tensorflow:loss = 21.357067, step = 9701 (3.928 sec)\n",
      "INFO:tensorflow:global_step/sec: 25.9289\n",
      "INFO:tensorflow:loss = 28.309132, step = 9801 (3.871 sec)\n",
      "INFO:tensorflow:global_step/sec: 17.6077\n",
      "INFO:tensorflow:loss = 26.114681, step = 9901 (5.683 sec)\n",
      "INFO:tensorflow:global_step/sec: 23.0949\n",
      "INFO:tensorflow:loss = 27.593157, step = 10001 (4.312 sec)\n",
      "INFO:tensorflow:global_step/sec: 35.9855\n",
      "INFO:tensorflow:loss = 31.404045, step = 10101 (2.787 sec)\n",
      "INFO:tensorflow:global_step/sec: 46.2572\n",
      "INFO:tensorflow:loss = 20.096127, step = 10201 (2.153 sec)\n",
      "INFO:tensorflow:global_step/sec: 37.0618\n",
      "INFO:tensorflow:loss = 23.318426, step = 10301 (2.713 sec)\n",
      "INFO:tensorflow:global_step/sec: 34.0163\n",
      "INFO:tensorflow:loss = 20.06891, step = 10401 (2.932 sec)\n",
      "INFO:tensorflow:global_step/sec: 42.3815\n",
      "INFO:tensorflow:loss = 17.943703, step = 10501 (2.353 sec)\n",
      "INFO:tensorflow:global_step/sec: 43.6452\n",
      "INFO:tensorflow:loss = 20.848194, step = 10601 (2.291 sec)\n",
      "INFO:tensorflow:global_step/sec: 31.3075\n",
      "INFO:tensorflow:loss = 16.423382, step = 10701 (3.193 sec)\n",
      "INFO:tensorflow:global_step/sec: 31.5761\n",
      "INFO:tensorflow:loss = 22.624632, step = 10801 (3.170 sec)\n",
      "INFO:tensorflow:global_step/sec: 33.726\n",
      "INFO:tensorflow:loss = 16.595537, step = 10901 (2.982 sec)\n",
      "INFO:tensorflow:global_step/sec: 45.2622\n",
      "INFO:tensorflow:loss = 21.824738, step = 11001 (2.191 sec)\n",
      "INFO:tensorflow:global_step/sec: 45.8347\n",
      "INFO:tensorflow:loss = 19.061888, step = 11101 (2.182 sec)\n",
      "INFO:tensorflow:global_step/sec: 50.4251\n",
      "INFO:tensorflow:loss = 15.7600565, step = 11201 (1.986 sec)\n",
      "INFO:tensorflow:global_step/sec: 43.5865\n",
      "INFO:tensorflow:loss = 17.83479, step = 11301 (2.291 sec)\n",
      "INFO:tensorflow:global_step/sec: 49.646\n",
      "INFO:tensorflow:loss = 27.29852, step = 11401 (2.017 sec)\n",
      "INFO:tensorflow:global_step/sec: 28.168\n",
      "INFO:tensorflow:loss = 17.19875, step = 11501 (3.547 sec)\n",
      "INFO:tensorflow:global_step/sec: 52.7519\n",
      "INFO:tensorflow:loss = 19.229599, step = 11601 (1.895 sec)\n",
      "INFO:tensorflow:global_step/sec: 41.7249\n",
      "INFO:tensorflow:loss = 24.407946, step = 11701 (2.401 sec)\n",
      "INFO:tensorflow:global_step/sec: 37.5683\n",
      "INFO:tensorflow:loss = 20.030445, step = 11801 (2.658 sec)\n",
      "INFO:tensorflow:global_step/sec: 48.1373\n",
      "INFO:tensorflow:loss = 17.663681, step = 11901 (2.079 sec)\n",
      "INFO:tensorflow:global_step/sec: 41.125\n",
      "INFO:tensorflow:loss = 20.933426, step = 12001 (2.438 sec)\n",
      "INFO:tensorflow:global_step/sec: 33.4007\n",
      "INFO:tensorflow:loss = 19.257961, step = 12101 (2.988 sec)\n",
      "INFO:tensorflow:global_step/sec: 40.5417\n",
      "INFO:tensorflow:loss = 21.696903, step = 12201 (2.468 sec)\n",
      "INFO:tensorflow:global_step/sec: 33.1964\n",
      "INFO:tensorflow:loss = 22.023216, step = 12301 (3.010 sec)\n",
      "INFO:tensorflow:global_step/sec: 33.5691\n",
      "INFO:tensorflow:loss = 16.904108, step = 12401 (2.982 sec)\n",
      "INFO:tensorflow:global_step/sec: 30.4585\n",
      "INFO:tensorflow:loss = 27.178251, step = 12501 (3.288 sec)\n",
      "INFO:tensorflow:global_step/sec: 41.0469\n",
      "INFO:tensorflow:loss = 20.754356, step = 12601 (2.428 sec)\n",
      "INFO:tensorflow:global_step/sec: 33.5272\n",
      "INFO:tensorflow:loss = 24.26639, step = 12701 (2.983 sec)\n",
      "INFO:tensorflow:global_step/sec: 27.7689\n",
      "INFO:tensorflow:loss = 27.423805, step = 12801 (3.601 sec)\n",
      "INFO:tensorflow:global_step/sec: 41.8779\n",
      "INFO:tensorflow:loss = 22.929409, step = 12901 (2.390 sec)\n",
      "INFO:tensorflow:global_step/sec: 34.0585\n",
      "INFO:tensorflow:loss = 19.5251, step = 13001 (2.942 sec)\n",
      "INFO:tensorflow:global_step/sec: 58.1766\n",
      "INFO:tensorflow:loss = 19.415749, step = 13101 (1.716 sec)\n",
      "INFO:tensorflow:global_step/sec: 55\n",
      "INFO:tensorflow:loss = 28.656979, step = 13201 (1.816 sec)\n",
      "INFO:tensorflow:global_step/sec: 50.1845\n",
      "INFO:tensorflow:loss = 21.630465, step = 13301 (1.990 sec)\n",
      "INFO:tensorflow:global_step/sec: 27.0881\n",
      "INFO:tensorflow:loss = 16.27712, step = 13401 (3.706 sec)\n",
      "INFO:tensorflow:global_step/sec: 36.4429\n",
      "INFO:tensorflow:loss = 20.080452, step = 13501 (2.738 sec)\n",
      "INFO:tensorflow:global_step/sec: 33.6657\n",
      "INFO:tensorflow:loss = 23.657906, step = 13601 (2.962 sec)\n",
      "INFO:tensorflow:global_step/sec: 51.489\n",
      "INFO:tensorflow:loss = 19.179607, step = 13701 (1.943 sec)\n",
      "INFO:tensorflow:global_step/sec: 50.364\n",
      "INFO:tensorflow:loss = 21.27517, step = 13801 (1.985 sec)\n",
      "INFO:tensorflow:global_step/sec: 58.5374\n",
      "INFO:tensorflow:loss = 22.96069, step = 13901 (1.708 sec)\n",
      "INFO:tensorflow:global_step/sec: 35.3294\n",
      "INFO:tensorflow:loss = 20.745804, step = 14001 (2.837 sec)\n",
      "INFO:tensorflow:global_step/sec: 43.921\n",
      "INFO:tensorflow:loss = 18.634705, step = 14101 (2.274 sec)\n",
      "INFO:tensorflow:global_step/sec: 56.6359\n",
      "INFO:tensorflow:loss = 19.777674, step = 14201 (1.763 sec)\n",
      "INFO:tensorflow:global_step/sec: 45.2849\n",
      "INFO:tensorflow:loss = 22.31499, step = 14301 (2.208 sec)\n",
      "INFO:tensorflow:global_step/sec: 32.4032\n",
      "INFO:tensorflow:loss = 24.674244, step = 14401 (3.086 sec)\n",
      "INFO:tensorflow:global_step/sec: 40.8369\n",
      "INFO:tensorflow:loss = 17.591026, step = 14501 (2.450 sec)\n",
      "INFO:tensorflow:global_step/sec: 27.1652\n",
      "INFO:tensorflow:loss = 22.398201, step = 14601 (3.680 sec)\n",
      "INFO:tensorflow:global_step/sec: 43.7415\n",
      "INFO:tensorflow:loss = 22.682922, step = 14701 (2.286 sec)\n",
      "INFO:tensorflow:global_step/sec: 45.7199\n",
      "INFO:tensorflow:loss = 16.415388, step = 14801 (2.187 sec)\n",
      "INFO:tensorflow:global_step/sec: 41.1984\n",
      "INFO:tensorflow:loss = 17.630125, step = 14901 (2.430 sec)\n",
      "INFO:tensorflow:global_step/sec: 37.345\n",
      "INFO:tensorflow:loss = 24.174797, step = 15001 (2.678 sec)\n",
      "INFO:tensorflow:global_step/sec: 38.5795\n",
      "INFO:tensorflow:loss = 17.346527, step = 15101 (2.612 sec)\n",
      "INFO:tensorflow:global_step/sec: 29.448\n",
      "INFO:tensorflow:loss = 20.170101, step = 15201 (3.372 sec)\n",
      "INFO:tensorflow:global_step/sec: 36.959\n",
      "INFO:tensorflow:loss = 23.059696, step = 15301 (2.707 sec)\n",
      "INFO:tensorflow:global_step/sec: 39.6338\n",
      "INFO:tensorflow:loss = 23.010548, step = 15401 (2.523 sec)\n",
      "INFO:tensorflow:global_step/sec: 43.3774\n",
      "INFO:tensorflow:loss = 19.917408, step = 15501 (2.312 sec)\n",
      "INFO:tensorflow:global_step/sec: 37.4245\n",
      "INFO:tensorflow:loss = 23.36663, step = 15601 (2.683 sec)\n",
      "INFO:tensorflow:global_step/sec: 33.408\n",
      "INFO:tensorflow:loss = 23.423626, step = 15701 (2.975 sec)\n",
      "INFO:tensorflow:global_step/sec: 37.0949\n",
      "INFO:tensorflow:loss = 21.59195, step = 15801 (2.700 sec)\n",
      "INFO:tensorflow:global_step/sec: 35.8952\n",
      "INFO:tensorflow:loss = 19.27832, step = 15901 (2.783 sec)\n",
      "INFO:tensorflow:global_step/sec: 45.9525\n",
      "INFO:tensorflow:loss = 15.238075, step = 16001 (2.181 sec)\n",
      "INFO:tensorflow:global_step/sec: 38.6335\n",
      "INFO:tensorflow:loss = 23.732422, step = 16101 (2.582 sec)\n",
      "INFO:tensorflow:global_step/sec: 33.9007\n",
      "INFO:tensorflow:loss = 19.86745, step = 16201 (2.958 sec)\n"
     ]
    },
    {
     "name": "stdout",
     "output_type": "stream",
     "text": [
      "INFO:tensorflow:global_step/sec: 28.7292\n",
      "INFO:tensorflow:loss = 21.166893, step = 16301 (3.473 sec)\n",
      "INFO:tensorflow:global_step/sec: 43.4076\n",
      "INFO:tensorflow:loss = 19.9693, step = 16401 (2.310 sec)\n",
      "INFO:tensorflow:global_step/sec: 34.9943\n",
      "INFO:tensorflow:loss = 26.31799, step = 16501 (2.861 sec)\n",
      "INFO:tensorflow:global_step/sec: 25.2146\n",
      "INFO:tensorflow:loss = 20.343159, step = 16601 (3.955 sec)\n",
      "INFO:tensorflow:global_step/sec: 48.7811\n",
      "INFO:tensorflow:loss = 24.513645, step = 16701 (2.054 sec)\n",
      "INFO:tensorflow:global_step/sec: 52.4692\n",
      "INFO:tensorflow:loss = 22.357773, step = 16801 (1.903 sec)\n",
      "INFO:tensorflow:global_step/sec: 55.0626\n",
      "INFO:tensorflow:loss = 22.713112, step = 16901 (1.815 sec)\n",
      "INFO:tensorflow:global_step/sec: 52.7665\n",
      "INFO:tensorflow:loss = 19.244877, step = 17001 (1.895 sec)\n",
      "INFO:tensorflow:global_step/sec: 57.514\n",
      "INFO:tensorflow:loss = 17.103054, step = 17101 (1.740 sec)\n",
      "INFO:tensorflow:global_step/sec: 53.8905\n",
      "INFO:tensorflow:loss = 21.214241, step = 17201 (1.855 sec)\n",
      "INFO:tensorflow:global_step/sec: 51.7497\n",
      "INFO:tensorflow:loss = 20.634697, step = 17301 (1.933 sec)\n",
      "INFO:tensorflow:global_step/sec: 41.4196\n",
      "INFO:tensorflow:loss = 24.950745, step = 17401 (2.414 sec)\n",
      "INFO:tensorflow:global_step/sec: 58.7648\n",
      "INFO:tensorflow:loss = 24.565924, step = 17501 (1.701 sec)\n",
      "INFO:tensorflow:global_step/sec: 37.213\n",
      "INFO:tensorflow:loss = 16.837446, step = 17601 (2.688 sec)\n",
      "INFO:tensorflow:global_step/sec: 38.628\n",
      "INFO:tensorflow:loss = 16.808128, step = 17701 (2.589 sec)\n",
      "INFO:tensorflow:global_step/sec: 26.252\n",
      "INFO:tensorflow:loss = 25.521257, step = 17801 (3.811 sec)\n",
      "INFO:tensorflow:global_step/sec: 35.604\n",
      "INFO:tensorflow:loss = 21.169128, step = 17901 (2.814 sec)\n",
      "INFO:tensorflow:global_step/sec: 33.5318\n",
      "INFO:tensorflow:loss = 20.312733, step = 18001 (2.973 sec)\n",
      "INFO:tensorflow:global_step/sec: 36.2338\n",
      "INFO:tensorflow:loss = 16.303406, step = 18101 (2.770 sec)\n",
      "INFO:tensorflow:global_step/sec: 27.8504\n",
      "INFO:tensorflow:loss = 24.03264, step = 18201 (3.589 sec)\n",
      "INFO:tensorflow:global_step/sec: 27.3574\n",
      "INFO:tensorflow:loss = 23.905384, step = 18301 (3.663 sec)\n",
      "INFO:tensorflow:global_step/sec: 25.5993\n",
      "INFO:tensorflow:loss = 22.069832, step = 18401 (3.905 sec)\n",
      "INFO:tensorflow:global_step/sec: 37.452\n",
      "INFO:tensorflow:loss = 11.890045, step = 18501 (2.657 sec)\n",
      "INFO:tensorflow:global_step/sec: 52.2096\n",
      "INFO:tensorflow:loss = 23.811646, step = 18601 (1.915 sec)\n",
      "INFO:tensorflow:global_step/sec: 54.8192\n",
      "INFO:tensorflow:loss = 16.613428, step = 18701 (1.824 sec)\n",
      "INFO:tensorflow:global_step/sec: 47.4897\n",
      "INFO:tensorflow:loss = 22.000164, step = 18801 (2.106 sec)\n",
      "INFO:tensorflow:global_step/sec: 51.096\n",
      "INFO:tensorflow:loss = 20.310879, step = 18901 (1.958 sec)\n",
      "INFO:tensorflow:global_step/sec: 35.9474\n",
      "INFO:tensorflow:loss = 16.074055, step = 19001 (2.783 sec)\n",
      "INFO:tensorflow:global_step/sec: 50.3433\n",
      "INFO:tensorflow:loss = 22.67138, step = 19101 (1.985 sec)\n",
      "INFO:tensorflow:global_step/sec: 56.2457\n",
      "INFO:tensorflow:loss = 21.401114, step = 19201 (1.778 sec)\n",
      "INFO:tensorflow:global_step/sec: 56.8386\n",
      "INFO:tensorflow:loss = 28.054382, step = 19301 (1.759 sec)\n",
      "INFO:tensorflow:global_step/sec: 53.9546\n",
      "INFO:tensorflow:loss = 21.684315, step = 19401 (1.853 sec)\n",
      "INFO:tensorflow:global_step/sec: 56.7416\n",
      "INFO:tensorflow:loss = 24.09985, step = 19501 (1.763 sec)\n",
      "INFO:tensorflow:global_step/sec: 49.3369\n",
      "INFO:tensorflow:loss = 13.082031, step = 19601 (2.037 sec)\n",
      "INFO:tensorflow:global_step/sec: 32.9907\n",
      "INFO:tensorflow:loss = 16.5755, step = 19701 (3.023 sec)\n",
      "INFO:tensorflow:global_step/sec: 40.2285\n",
      "INFO:tensorflow:loss = 25.087643, step = 19801 (2.488 sec)\n",
      "INFO:tensorflow:global_step/sec: 53.6734\n",
      "INFO:tensorflow:loss = 21.903248, step = 19901 (1.859 sec)\n",
      "INFO:tensorflow:global_step/sec: 37.1245\n",
      "INFO:tensorflow:loss = 23.239769, step = 20001 (2.694 sec)\n",
      "INFO:tensorflow:global_step/sec: 33.9099\n",
      "INFO:tensorflow:loss = 21.70544, step = 20101 (2.950 sec)\n",
      "INFO:tensorflow:global_step/sec: 23.7011\n",
      "INFO:tensorflow:loss = 20.935406, step = 20201 (4.218 sec)\n",
      "INFO:tensorflow:global_step/sec: 29.6596\n",
      "INFO:tensorflow:loss = 20.903828, step = 20301 (3.381 sec)\n",
      "INFO:tensorflow:Saving checkpoints for 20351 into /tmp/tmpr2qp_1o_/model.ckpt.\n",
      "INFO:tensorflow:Loss for final step: 11.694941.\n"
     ]
    },
    {
     "data": {
      "text/plain": [
       "<tensorflow_estimator.python.estimator.canned.linear.LinearClassifier at 0x7a64c4bd10f0>"
      ]
     },
     "execution_count": 100,
     "metadata": {},
     "output_type": "execute_result"
    }
   ],
   "source": [
    "model_l1.train(train_inpf)"
   ]
  },
  {
   "cell_type": "code",
   "execution_count": 101,
   "metadata": {
    "collapsed": true
   },
   "outputs": [
    {
     "name": "stdout",
     "output_type": "stream",
     "text": [
      "INFO:tensorflow:Parsing /tmp/census_data/adult.test\n",
      "INFO:tensorflow:Calling model_fn.\n",
      "WARNING:tensorflow:Trapezoidal rule is known to produce incorrect PR-AUCs; please switch to \"careful_interpolation\" instead.\n",
      "WARNING:tensorflow:Trapezoidal rule is known to produce incorrect PR-AUCs; please switch to \"careful_interpolation\" instead.\n",
      "INFO:tensorflow:Done calling model_fn.\n",
      "INFO:tensorflow:Starting evaluation at 2019-10-21T12:15:46Z\n",
      "INFO:tensorflow:Graph was finalized.\n",
      "INFO:tensorflow:Restoring parameters from /tmp/tmpr2qp_1o_/model.ckpt-20351\n",
      "INFO:tensorflow:Running local_init_op.\n",
      "INFO:tensorflow:Done running local_init_op.\n",
      "INFO:tensorflow:Finished evaluation at 2019-10-21-12:16:04\n",
      "INFO:tensorflow:Saving dict for global step 20351: accuracy = 0.83625084, accuracy_baseline = 0.76377374, auc = 0.8834158, auc_precision_recall = 0.6942101, average_loss = 0.35189873, global_step = 20351, label/mean = 0.23622628, loss = 22.4677, precision = 0.691186, prediction/mean = 0.23753026, recall = 0.5546022\n",
      "INFO:tensorflow:Saving 'checkpoint_path' summary for global step 20351: /tmp/tmpr2qp_1o_/model.ckpt-20351\n"
     ]
    }
   ],
   "source": [
    "results = model_l1.evaluate(test_inpf)"
   ]
  },
  {
   "cell_type": "code",
   "execution_count": 102,
   "metadata": {},
   "outputs": [],
   "source": [
    "clear_output()"
   ]
  },
  {
   "cell_type": "code",
   "execution_count": 103,
   "metadata": {},
   "outputs": [
    {
     "name": "stdout",
     "output_type": "stream",
     "text": [
      "accuracy: 0.84\n",
      "accuracy_baseline: 0.76\n",
      "auc: 0.88\n",
      "auc_precision_recall: 0.69\n",
      "average_loss: 0.35\n",
      "global_step: 20351.00\n",
      "label/mean: 0.24\n",
      "loss: 22.47\n",
      "precision: 0.69\n",
      "prediction/mean: 0.24\n",
      "recall: 0.55\n"
     ]
    }
   ],
   "source": [
    "for key in sorted(results):\n",
    "    print('%s: %0.2f' % (key, results[key]))"
   ]
  },
  {
   "cell_type": "code",
   "execution_count": 104,
   "metadata": {
    "collapsed": true
   },
   "outputs": [
    {
     "name": "stdout",
     "output_type": "stream",
     "text": [
      "INFO:tensorflow:Using default config.\n",
      "WARNING:tensorflow:Using temporary folder as model directory: /tmp/tmp60a0scbz\n",
      "INFO:tensorflow:Using config: {'_model_dir': '/tmp/tmp60a0scbz', '_tf_random_seed': None, '_save_summary_steps': 100, '_save_checkpoints_steps': None, '_save_checkpoints_secs': 600, '_session_config': allow_soft_placement: true\n",
      "graph_options {\n",
      "  rewrite_options {\n",
      "    meta_optimizer_iterations: ONE\n",
      "  }\n",
      "}\n",
      ", '_keep_checkpoint_max': 5, '_keep_checkpoint_every_n_hours': 10000, '_log_step_count_steps': 100, '_train_distribute': None, '_device_fn': None, '_protocol': None, '_eval_distribute': None, '_experimental_distribute': None, '_experimental_max_worker_delay_secs': None, '_service': None, '_cluster_spec': <tensorflow.python.training.server_lib.ClusterSpec object at 0x7a64c22e97b8>, '_task_type': 'worker', '_task_id': 0, '_global_id_in_cluster': 0, '_master': '', '_evaluation_master': '', '_is_chief': True, '_num_ps_replicas': 0, '_num_worker_replicas': 1}\n"
     ]
    }
   ],
   "source": [
    "model_l2 = tf.estimator.LinearClassifier(\\\n",
    "    feature_columns=base_columns+crossed_columns, \\\n",
    "    optimizer=tf.train.FtrlOptimizer(\\\n",
    "            learning_rate=0.1,\\\n",
    "            l1_regularization_strength=0.0,\\\n",
    "            l2_regularization_strength=10.0))"
   ]
  },
  {
   "cell_type": "code",
   "execution_count": 105,
   "metadata": {
    "collapsed": true
   },
   "outputs": [
    {
     "name": "stdout",
     "output_type": "stream",
     "text": [
      "INFO:tensorflow:Parsing /tmp/census_data/adult.data\n",
      "INFO:tensorflow:Calling model_fn.\n",
      "INFO:tensorflow:Done calling model_fn.\n",
      "INFO:tensorflow:Create CheckpointSaverHook.\n",
      "INFO:tensorflow:Graph was finalized.\n",
      "INFO:tensorflow:Running local_init_op.\n",
      "INFO:tensorflow:Done running local_init_op.\n",
      "INFO:tensorflow:Saving checkpoints for 0 into /tmp/tmp60a0scbz/model.ckpt.\n",
      "INFO:tensorflow:loss = 44.361427, step = 1\n",
      "INFO:tensorflow:global_step/sec: 8.72491\n",
      "INFO:tensorflow:loss = 21.972612, step = 101 (11.468 sec)\n",
      "INFO:tensorflow:global_step/sec: 36.6272\n",
      "INFO:tensorflow:loss = 24.888165, step = 201 (2.726 sec)\n",
      "INFO:tensorflow:global_step/sec: 20.645\n",
      "INFO:tensorflow:loss = 22.745491, step = 301 (4.844 sec)\n",
      "INFO:tensorflow:global_step/sec: 23.2415\n",
      "INFO:tensorflow:loss = 26.423792, step = 401 (4.301 sec)\n",
      "INFO:tensorflow:global_step/sec: 31.8747\n",
      "INFO:tensorflow:loss = 26.324856, step = 501 (3.138 sec)\n",
      "INFO:tensorflow:global_step/sec: 34.8762\n",
      "INFO:tensorflow:loss = 22.109257, step = 601 (2.867 sec)\n",
      "INFO:tensorflow:global_step/sec: 47.9912\n",
      "INFO:tensorflow:loss = 28.012766, step = 701 (2.087 sec)\n",
      "INFO:tensorflow:global_step/sec: 33.0674\n",
      "INFO:tensorflow:loss = 19.476048, step = 801 (3.042 sec)\n",
      "INFO:tensorflow:global_step/sec: 28.5152\n",
      "INFO:tensorflow:loss = 14.444565, step = 901 (3.494 sec)\n",
      "INFO:tensorflow:global_step/sec: 25.8242\n",
      "INFO:tensorflow:loss = 22.52417, step = 1001 (3.882 sec)\n",
      "INFO:tensorflow:global_step/sec: 27.4978\n",
      "INFO:tensorflow:loss = 22.053429, step = 1101 (3.629 sec)\n",
      "INFO:tensorflow:global_step/sec: 30.5225\n",
      "INFO:tensorflow:loss = 28.459188, step = 1201 (3.270 sec)\n",
      "INFO:tensorflow:global_step/sec: 27.3823\n",
      "INFO:tensorflow:loss = 26.690388, step = 1301 (3.649 sec)\n",
      "INFO:tensorflow:global_step/sec: 25.2308\n",
      "INFO:tensorflow:loss = 18.107197, step = 1401 (3.970 sec)\n",
      "INFO:tensorflow:global_step/sec: 33.8389\n",
      "INFO:tensorflow:loss = 24.666832, step = 1501 (2.948 sec)\n",
      "INFO:tensorflow:global_step/sec: 23.8177\n",
      "INFO:tensorflow:loss = 29.400251, step = 1601 (4.201 sec)\n",
      "INFO:tensorflow:global_step/sec: 30.6413\n",
      "INFO:tensorflow:loss = 19.02472, step = 1701 (3.263 sec)\n",
      "INFO:tensorflow:global_step/sec: 26.1627\n",
      "INFO:tensorflow:loss = 23.555635, step = 1801 (3.828 sec)\n",
      "INFO:tensorflow:global_step/sec: 27.035\n",
      "INFO:tensorflow:loss = 18.897467, step = 1901 (3.690 sec)\n",
      "INFO:tensorflow:global_step/sec: 26.9657\n",
      "INFO:tensorflow:loss = 27.30439, step = 2001 (3.732 sec)\n",
      "INFO:tensorflow:global_step/sec: 32.3156\n",
      "INFO:tensorflow:loss = 26.59153, step = 2101 (3.070 sec)\n",
      "INFO:tensorflow:global_step/sec: 30.2251\n",
      "INFO:tensorflow:loss = 19.75935, step = 2201 (3.310 sec)\n",
      "INFO:tensorflow:global_step/sec: 30.2397\n",
      "INFO:tensorflow:loss = 25.245148, step = 2301 (3.317 sec)\n",
      "INFO:tensorflow:global_step/sec: 23.6025\n",
      "INFO:tensorflow:loss = 23.237192, step = 2401 (4.226 sec)\n",
      "INFO:tensorflow:global_step/sec: 31.6747\n",
      "INFO:tensorflow:loss = 21.779856, step = 2501 (3.161 sec)\n",
      "INFO:tensorflow:global_step/sec: 50.6322\n",
      "INFO:tensorflow:loss = 21.823364, step = 2601 (1.971 sec)\n",
      "INFO:tensorflow:global_step/sec: 56.6976\n",
      "INFO:tensorflow:loss = 19.532333, step = 2701 (1.764 sec)\n",
      "INFO:tensorflow:global_step/sec: 27.2918\n",
      "INFO:tensorflow:loss = 28.97138, step = 2801 (3.675 sec)\n",
      "INFO:tensorflow:global_step/sec: 30.009\n",
      "INFO:tensorflow:loss = 21.171005, step = 2901 (3.334 sec)\n",
      "INFO:tensorflow:global_step/sec: 31.761\n",
      "INFO:tensorflow:loss = 26.291157, step = 3001 (3.141 sec)\n",
      "INFO:tensorflow:global_step/sec: 26.9119\n",
      "INFO:tensorflow:loss = 19.033314, step = 3101 (3.715 sec)\n",
      "INFO:tensorflow:global_step/sec: 27.2479\n",
      "INFO:tensorflow:loss = 18.013422, step = 3201 (3.676 sec)\n",
      "INFO:tensorflow:global_step/sec: 32.7382\n",
      "INFO:tensorflow:loss = 24.59484, step = 3301 (3.046 sec)\n",
      "INFO:tensorflow:global_step/sec: 38.8608\n",
      "INFO:tensorflow:loss = 16.529388, step = 3401 (2.573 sec)\n",
      "INFO:tensorflow:global_step/sec: 54.7611\n",
      "INFO:tensorflow:loss = 22.572601, step = 3501 (1.825 sec)\n",
      "INFO:tensorflow:global_step/sec: 48.5244\n",
      "INFO:tensorflow:loss = 24.042652, step = 3601 (2.069 sec)\n",
      "INFO:tensorflow:global_step/sec: 33.9007\n",
      "INFO:tensorflow:loss = 23.603981, step = 3701 (2.952 sec)\n",
      "INFO:tensorflow:global_step/sec: 43.8048\n",
      "INFO:tensorflow:loss = 19.43628, step = 3801 (2.278 sec)\n",
      "INFO:tensorflow:global_step/sec: 30.009\n",
      "INFO:tensorflow:loss = 26.377556, step = 3901 (3.336 sec)\n",
      "INFO:tensorflow:global_step/sec: 28.3263\n",
      "INFO:tensorflow:loss = 15.32641, step = 4001 (3.525 sec)\n",
      "INFO:tensorflow:global_step/sec: 30.7346\n",
      "INFO:tensorflow:loss = 21.26952, step = 4101 (3.260 sec)\n",
      "INFO:tensorflow:global_step/sec: 22.083\n",
      "INFO:tensorflow:loss = 27.478443, step = 4201 (4.527 sec)\n",
      "INFO:tensorflow:global_step/sec: 22.5626\n",
      "INFO:tensorflow:loss = 27.152935, step = 4301 (4.431 sec)\n",
      "INFO:tensorflow:global_step/sec: 29.6639\n",
      "INFO:tensorflow:loss = 25.772398, step = 4401 (3.374 sec)\n",
      "INFO:tensorflow:global_step/sec: 31.8709\n",
      "INFO:tensorflow:loss = 31.000334, step = 4501 (3.132 sec)\n",
      "INFO:tensorflow:global_step/sec: 27.8449\n",
      "INFO:tensorflow:loss = 20.032677, step = 4601 (3.590 sec)\n",
      "INFO:tensorflow:global_step/sec: 29.8604\n",
      "INFO:tensorflow:loss = 17.470177, step = 4701 (3.347 sec)\n",
      "INFO:tensorflow:global_step/sec: 23.737\n",
      "INFO:tensorflow:loss = 17.051647, step = 4801 (4.218 sec)\n",
      "INFO:tensorflow:global_step/sec: 41.8652\n",
      "INFO:tensorflow:loss = 25.773865, step = 4901 (2.384 sec)\n",
      "INFO:tensorflow:global_step/sec: 36.7847\n",
      "INFO:tensorflow:loss = 15.2763405, step = 5001 (2.722 sec)\n",
      "INFO:tensorflow:global_step/sec: 34.513\n",
      "INFO:tensorflow:loss = 28.829514, step = 5101 (2.897 sec)\n",
      "INFO:tensorflow:global_step/sec: 29.6855\n",
      "INFO:tensorflow:loss = 23.552595, step = 5201 (3.366 sec)\n",
      "INFO:tensorflow:global_step/sec: 29.5268\n",
      "INFO:tensorflow:loss = 24.243343, step = 5301 (3.403 sec)\n",
      "INFO:tensorflow:global_step/sec: 29.5572\n",
      "INFO:tensorflow:loss = 25.860533, step = 5401 (3.370 sec)\n",
      "INFO:tensorflow:global_step/sec: 34.2932\n",
      "INFO:tensorflow:loss = 25.084597, step = 5501 (2.917 sec)\n",
      "INFO:tensorflow:global_step/sec: 27.63\n",
      "INFO:tensorflow:loss = 23.826048, step = 5601 (3.619 sec)\n",
      "INFO:tensorflow:global_step/sec: 27.4129\n",
      "INFO:tensorflow:loss = 16.329975, step = 5701 (3.665 sec)\n",
      "INFO:tensorflow:global_step/sec: 27.0629\n",
      "INFO:tensorflow:loss = 25.56763, step = 5801 (3.674 sec)\n",
      "INFO:tensorflow:global_step/sec: 27.4466\n",
      "INFO:tensorflow:loss = 16.747972, step = 5901 (3.644 sec)\n",
      "INFO:tensorflow:global_step/sec: 28.2881\n",
      "INFO:tensorflow:loss = 17.13961, step = 6001 (3.535 sec)\n",
      "INFO:tensorflow:global_step/sec: 22.8975\n",
      "INFO:tensorflow:loss = 22.241653, step = 6101 (4.367 sec)\n",
      "INFO:tensorflow:global_step/sec: 34.827\n",
      "INFO:tensorflow:loss = 14.617679, step = 6201 (2.884 sec)\n",
      "INFO:tensorflow:global_step/sec: 36.6855\n",
      "INFO:tensorflow:loss = 18.337708, step = 6301 (2.714 sec)\n",
      "INFO:tensorflow:global_step/sec: 52.563\n",
      "INFO:tensorflow:loss = 19.122738, step = 6401 (1.902 sec)\n",
      "INFO:tensorflow:global_step/sec: 46.4907\n",
      "INFO:tensorflow:loss = 17.401031, step = 6501 (2.150 sec)\n",
      "INFO:tensorflow:global_step/sec: 37.1289\n",
      "INFO:tensorflow:loss = 16.401741, step = 6601 (2.710 sec)\n",
      "INFO:tensorflow:global_step/sec: 28.6726\n",
      "INFO:tensorflow:loss = 16.727211, step = 6701 (3.491 sec)\n",
      "INFO:tensorflow:global_step/sec: 25.9767\n",
      "INFO:tensorflow:loss = 22.049356, step = 6801 (3.830 sec)\n",
      "INFO:tensorflow:global_step/sec: 39.9042\n",
      "INFO:tensorflow:loss = 16.26284, step = 6901 (2.516 sec)\n",
      "INFO:tensorflow:global_step/sec: 51.0732\n",
      "INFO:tensorflow:loss = 16.408571, step = 7001 (1.947 sec)\n",
      "INFO:tensorflow:global_step/sec: 49.8612\n",
      "INFO:tensorflow:loss = 21.30704, step = 7101 (2.006 sec)\n",
      "INFO:tensorflow:global_step/sec: 53.1858\n",
      "INFO:tensorflow:loss = 18.46094, step = 7201 (1.880 sec)\n",
      "INFO:tensorflow:global_step/sec: 48.9966\n",
      "INFO:tensorflow:loss = 28.145954, step = 7301 (2.041 sec)\n",
      "INFO:tensorflow:global_step/sec: 58.2188\n",
      "INFO:tensorflow:loss = 14.642841, step = 7401 (1.719 sec)\n",
      "INFO:tensorflow:global_step/sec: 54.0953\n",
      "INFO:tensorflow:loss = 16.457434, step = 7501 (1.848 sec)\n",
      "INFO:tensorflow:global_step/sec: 31.8304\n",
      "INFO:tensorflow:loss = 18.117445, step = 7601 (3.141 sec)\n",
      "INFO:tensorflow:global_step/sec: 23.6439\n",
      "INFO:tensorflow:loss = 19.390882, step = 7701 (4.232 sec)\n",
      "INFO:tensorflow:global_step/sec: 23.3898\n",
      "INFO:tensorflow:loss = 23.22527, step = 7801 (4.282 sec)\n",
      "INFO:tensorflow:global_step/sec: 26.3135\n",
      "INFO:tensorflow:loss = 20.345802, step = 7901 (3.791 sec)\n"
     ]
    },
    {
     "name": "stdout",
     "output_type": "stream",
     "text": [
      "INFO:tensorflow:global_step/sec: 24.6188\n",
      "INFO:tensorflow:loss = 26.259502, step = 8001 (4.062 sec)\n",
      "INFO:tensorflow:global_step/sec: 27.2011\n",
      "INFO:tensorflow:loss = 14.9981785, step = 8101 (3.695 sec)\n",
      "INFO:tensorflow:global_step/sec: 28.495\n",
      "INFO:tensorflow:loss = 23.111376, step = 8201 (3.496 sec)\n",
      "INFO:tensorflow:global_step/sec: 29.7196\n",
      "INFO:tensorflow:loss = 26.114553, step = 8301 (3.359 sec)\n",
      "INFO:tensorflow:global_step/sec: 25.6072\n",
      "INFO:tensorflow:loss = 30.621256, step = 8401 (3.911 sec)\n",
      "INFO:tensorflow:global_step/sec: 28.0204\n",
      "INFO:tensorflow:loss = 20.425068, step = 8501 (3.569 sec)\n",
      "INFO:tensorflow:global_step/sec: 28.5873\n",
      "INFO:tensorflow:loss = 32.598915, step = 8601 (3.496 sec)\n",
      "INFO:tensorflow:global_step/sec: 39.2042\n",
      "INFO:tensorflow:loss = 20.82022, step = 8701 (2.558 sec)\n",
      "INFO:tensorflow:global_step/sec: 52.569\n",
      "INFO:tensorflow:loss = 25.531124, step = 8801 (1.904 sec)\n",
      "INFO:tensorflow:global_step/sec: 30.4289\n",
      "INFO:tensorflow:loss = 22.146124, step = 8901 (3.278 sec)\n",
      "INFO:tensorflow:global_step/sec: 28.7873\n",
      "INFO:tensorflow:loss = 21.973232, step = 9001 (3.471 sec)\n",
      "INFO:tensorflow:global_step/sec: 32.2408\n",
      "INFO:tensorflow:loss = 19.951157, step = 9101 (3.101 sec)\n",
      "INFO:tensorflow:global_step/sec: 36.5709\n",
      "INFO:tensorflow:loss = 23.390366, step = 9201 (2.733 sec)\n",
      "INFO:tensorflow:global_step/sec: 37.0415\n",
      "INFO:tensorflow:loss = 19.677803, step = 9301 (2.700 sec)\n",
      "INFO:tensorflow:global_step/sec: 32.4884\n",
      "INFO:tensorflow:loss = 18.223824, step = 9401 (3.085 sec)\n",
      "INFO:tensorflow:global_step/sec: 30.2086\n",
      "INFO:tensorflow:loss = 25.153702, step = 9501 (3.313 sec)\n",
      "INFO:tensorflow:global_step/sec: 54.2976\n",
      "INFO:tensorflow:loss = 15.249489, step = 9601 (1.831 sec)\n",
      "INFO:tensorflow:global_step/sec: 42.4569\n",
      "INFO:tensorflow:loss = 28.949799, step = 9701 (2.359 sec)\n",
      "INFO:tensorflow:global_step/sec: 56.5553\n",
      "INFO:tensorflow:loss = 23.837381, step = 9801 (1.764 sec)\n",
      "INFO:tensorflow:global_step/sec: 53.4881\n",
      "INFO:tensorflow:loss = 22.476711, step = 9901 (1.870 sec)\n",
      "INFO:tensorflow:global_step/sec: 25.8518\n",
      "INFO:tensorflow:loss = 16.884449, step = 10001 (3.882 sec)\n",
      "INFO:tensorflow:global_step/sec: 26.3765\n",
      "INFO:tensorflow:loss = 22.87611, step = 10101 (3.789 sec)\n",
      "INFO:tensorflow:global_step/sec: 23.3861\n",
      "INFO:tensorflow:loss = 23.653093, step = 10201 (4.269 sec)\n",
      "INFO:tensorflow:global_step/sec: 30.3488\n",
      "INFO:tensorflow:loss = 24.294558, step = 10301 (3.295 sec)\n",
      "INFO:tensorflow:global_step/sec: 26.3244\n",
      "INFO:tensorflow:loss = 26.942005, step = 10401 (3.799 sec)\n",
      "INFO:tensorflow:global_step/sec: 38.5927\n",
      "INFO:tensorflow:loss = 27.917637, step = 10501 (2.592 sec)\n",
      "INFO:tensorflow:global_step/sec: 29.9995\n",
      "INFO:tensorflow:loss = 21.316816, step = 10601 (3.329 sec)\n",
      "INFO:tensorflow:global_step/sec: 33.8226\n",
      "INFO:tensorflow:loss = 23.261057, step = 10701 (2.962 sec)\n",
      "INFO:tensorflow:global_step/sec: 36.4068\n",
      "INFO:tensorflow:loss = 17.120256, step = 10801 (2.742 sec)\n",
      "INFO:tensorflow:global_step/sec: 45.6801\n",
      "INFO:tensorflow:loss = 28.947613, step = 10901 (2.190 sec)\n",
      "INFO:tensorflow:global_step/sec: 35.9752\n",
      "INFO:tensorflow:loss = 31.92315, step = 11001 (2.778 sec)\n",
      "INFO:tensorflow:global_step/sec: 26.712\n",
      "INFO:tensorflow:loss = 32.38969, step = 11101 (3.748 sec)\n",
      "INFO:tensorflow:global_step/sec: 28.5129\n",
      "INFO:tensorflow:loss = 20.30575, step = 11201 (3.505 sec)\n",
      "INFO:tensorflow:global_step/sec: 33.3846\n",
      "INFO:tensorflow:loss = 27.609676, step = 11301 (2.992 sec)\n",
      "INFO:tensorflow:global_step/sec: 40.8534\n",
      "INFO:tensorflow:loss = 13.760994, step = 11401 (2.448 sec)\n",
      "INFO:tensorflow:global_step/sec: 31.2349\n",
      "INFO:tensorflow:loss = 21.826515, step = 11501 (3.202 sec)\n",
      "INFO:tensorflow:global_step/sec: 26.2476\n",
      "INFO:tensorflow:loss = 35.130127, step = 11601 (3.811 sec)\n",
      "INFO:tensorflow:global_step/sec: 27.1906\n",
      "INFO:tensorflow:loss = 24.493563, step = 11701 (3.680 sec)\n",
      "INFO:tensorflow:global_step/sec: 43.0224\n",
      "INFO:tensorflow:loss = 15.017839, step = 11801 (2.321 sec)\n",
      "INFO:tensorflow:global_step/sec: 36.1147\n",
      "INFO:tensorflow:loss = 25.223442, step = 11901 (2.769 sec)\n",
      "INFO:tensorflow:global_step/sec: 41.609\n",
      "INFO:tensorflow:loss = 21.835842, step = 12001 (2.413 sec)\n",
      "INFO:tensorflow:global_step/sec: 24.512\n",
      "INFO:tensorflow:loss = 26.003689, step = 12101 (4.078 sec)\n",
      "INFO:tensorflow:global_step/sec: 28.7263\n",
      "INFO:tensorflow:loss = 16.137003, step = 12201 (3.491 sec)\n",
      "INFO:tensorflow:global_step/sec: 24.1555\n",
      "INFO:tensorflow:loss = 18.500488, step = 12301 (4.131 sec)\n",
      "INFO:tensorflow:global_step/sec: 36.3717\n",
      "INFO:tensorflow:loss = 24.695929, step = 12401 (2.740 sec)\n",
      "INFO:tensorflow:global_step/sec: 53.9969\n",
      "INFO:tensorflow:loss = 19.049767, step = 12501 (1.852 sec)\n",
      "INFO:tensorflow:global_step/sec: 52.7911\n",
      "INFO:tensorflow:loss = 19.051537, step = 12601 (1.894 sec)\n",
      "INFO:tensorflow:global_step/sec: 50.1179\n",
      "INFO:tensorflow:loss = 20.355434, step = 12701 (1.996 sec)\n",
      "INFO:tensorflow:global_step/sec: 49.7243\n",
      "INFO:tensorflow:loss = 19.467564, step = 12801 (2.011 sec)\n",
      "INFO:tensorflow:global_step/sec: 49.6383\n",
      "INFO:tensorflow:loss = 21.92108, step = 12901 (2.025 sec)\n",
      "INFO:tensorflow:global_step/sec: 56.0386\n",
      "INFO:tensorflow:loss = 16.971302, step = 13001 (1.775 sec)\n",
      "INFO:tensorflow:global_step/sec: 51.5983\n",
      "INFO:tensorflow:loss = 20.796371, step = 13101 (1.936 sec)\n",
      "INFO:tensorflow:global_step/sec: 52.2185\n",
      "INFO:tensorflow:loss = 11.870103, step = 13201 (1.916 sec)\n",
      "INFO:tensorflow:global_step/sec: 47.7135\n",
      "INFO:tensorflow:loss = 26.908758, step = 13301 (2.095 sec)\n",
      "INFO:tensorflow:global_step/sec: 54.4954\n",
      "INFO:tensorflow:loss = 21.136345, step = 13401 (1.835 sec)\n",
      "INFO:tensorflow:global_step/sec: 36.3622\n",
      "INFO:tensorflow:loss = 27.1645, step = 13501 (2.755 sec)\n",
      "INFO:tensorflow:global_step/sec: 21.9321\n",
      "INFO:tensorflow:loss = 23.4935, step = 13601 (4.555 sec)\n",
      "INFO:tensorflow:global_step/sec: 47.0855\n",
      "INFO:tensorflow:loss = 25.122564, step = 13701 (2.127 sec)\n",
      "INFO:tensorflow:global_step/sec: 50.2381\n",
      "INFO:tensorflow:loss = 25.01225, step = 13801 (1.985 sec)\n",
      "INFO:tensorflow:global_step/sec: 56.7947\n",
      "INFO:tensorflow:loss = 21.209618, step = 13901 (1.764 sec)\n",
      "INFO:tensorflow:global_step/sec: 52.6334\n",
      "INFO:tensorflow:loss = 20.62611, step = 14001 (1.899 sec)\n",
      "INFO:tensorflow:global_step/sec: 49.226\n",
      "INFO:tensorflow:loss = 28.023314, step = 14101 (2.039 sec)\n",
      "INFO:tensorflow:global_step/sec: 54.4219\n",
      "INFO:tensorflow:loss = 18.270412, step = 14201 (1.836 sec)\n",
      "INFO:tensorflow:global_step/sec: 40.9635\n",
      "INFO:tensorflow:loss = 21.786015, step = 14301 (2.474 sec)\n",
      "INFO:tensorflow:global_step/sec: 33.4455\n",
      "INFO:tensorflow:loss = 20.401901, step = 14401 (2.953 sec)\n",
      "INFO:tensorflow:global_step/sec: 55.1805\n",
      "INFO:tensorflow:loss = 19.35786, step = 14501 (1.816 sec)\n",
      "INFO:tensorflow:global_step/sec: 41.732\n",
      "INFO:tensorflow:loss = 21.45081, step = 14601 (2.388 sec)\n",
      "INFO:tensorflow:global_step/sec: 55.123\n",
      "INFO:tensorflow:loss = 18.107363, step = 14701 (1.814 sec)\n",
      "INFO:tensorflow:global_step/sec: 47.8293\n",
      "INFO:tensorflow:loss = 18.991848, step = 14801 (2.092 sec)\n",
      "INFO:tensorflow:global_step/sec: 57.9757\n",
      "INFO:tensorflow:loss = 23.878729, step = 14901 (1.723 sec)\n",
      "INFO:tensorflow:global_step/sec: 50.2109\n",
      "INFO:tensorflow:loss = 21.84842, step = 15001 (1.993 sec)\n",
      "INFO:tensorflow:global_step/sec: 51.1119\n",
      "INFO:tensorflow:loss = 14.908695, step = 15101 (1.955 sec)\n",
      "INFO:tensorflow:global_step/sec: 54.6542\n",
      "INFO:tensorflow:loss = 28.603802, step = 15201 (1.830 sec)\n",
      "INFO:tensorflow:global_step/sec: 21.1388\n",
      "INFO:tensorflow:loss = 18.672852, step = 15301 (4.736 sec)\n",
      "INFO:tensorflow:global_step/sec: 28.8908\n",
      "INFO:tensorflow:loss = 23.252453, step = 15401 (3.460 sec)\n",
      "INFO:tensorflow:global_step/sec: 25.2598\n",
      "INFO:tensorflow:loss = 23.506811, step = 15501 (3.956 sec)\n",
      "INFO:tensorflow:global_step/sec: 31.6026\n",
      "INFO:tensorflow:loss = 23.15407, step = 15601 (3.163 sec)\n",
      "INFO:tensorflow:global_step/sec: 48.9119\n",
      "INFO:tensorflow:loss = 30.226349, step = 15701 (2.045 sec)\n",
      "INFO:tensorflow:global_step/sec: 44.0882\n",
      "INFO:tensorflow:loss = 15.6647415, step = 15801 (2.268 sec)\n",
      "INFO:tensorflow:global_step/sec: 30.5769\n",
      "INFO:tensorflow:loss = 25.555916, step = 15901 (3.276 sec)\n",
      "INFO:tensorflow:global_step/sec: 25.9201\n",
      "INFO:tensorflow:loss = 24.57936, step = 16001 (3.861 sec)\n",
      "INFO:tensorflow:global_step/sec: 29.6793\n",
      "INFO:tensorflow:loss = 26.637276, step = 16101 (3.371 sec)\n",
      "INFO:tensorflow:global_step/sec: 29.3584\n"
     ]
    },
    {
     "name": "stdout",
     "output_type": "stream",
     "text": [
      "INFO:tensorflow:loss = 16.230854, step = 16201 (3.402 sec)\n",
      "INFO:tensorflow:global_step/sec: 27.2283\n",
      "INFO:tensorflow:loss = 18.419064, step = 16301 (3.670 sec)\n",
      "INFO:tensorflow:global_step/sec: 37.1709\n",
      "INFO:tensorflow:loss = 19.92577, step = 16401 (2.688 sec)\n",
      "INFO:tensorflow:global_step/sec: 29.9014\n",
      "INFO:tensorflow:loss = 19.953716, step = 16501 (3.343 sec)\n",
      "INFO:tensorflow:global_step/sec: 38.7254\n",
      "INFO:tensorflow:loss = 18.518345, step = 16601 (2.582 sec)\n",
      "INFO:tensorflow:global_step/sec: 36.2955\n",
      "INFO:tensorflow:loss = 29.606781, step = 16701 (2.756 sec)\n",
      "INFO:tensorflow:global_step/sec: 31.8955\n",
      "INFO:tensorflow:loss = 22.788149, step = 16801 (3.135 sec)\n",
      "INFO:tensorflow:global_step/sec: 46.5859\n",
      "INFO:tensorflow:loss = 24.404568, step = 16901 (2.146 sec)\n",
      "INFO:tensorflow:global_step/sec: 33.7257\n",
      "INFO:tensorflow:loss = 22.808517, step = 17001 (2.965 sec)\n",
      "INFO:tensorflow:global_step/sec: 30.8978\n",
      "INFO:tensorflow:loss = 16.243444, step = 17101 (3.239 sec)\n",
      "INFO:tensorflow:global_step/sec: 32.3165\n",
      "INFO:tensorflow:loss = 23.786148, step = 17201 (3.092 sec)\n",
      "INFO:tensorflow:global_step/sec: 29.0742\n",
      "INFO:tensorflow:loss = 20.524082, step = 17301 (3.441 sec)\n",
      "INFO:tensorflow:global_step/sec: 22.639\n",
      "INFO:tensorflow:loss = 23.619808, step = 17401 (4.419 sec)\n",
      "INFO:tensorflow:global_step/sec: 35.93\n",
      "INFO:tensorflow:loss = 21.795952, step = 17501 (2.787 sec)\n",
      "INFO:tensorflow:global_step/sec: 28.7419\n",
      "INFO:tensorflow:loss = 16.36009, step = 17601 (3.476 sec)\n",
      "INFO:tensorflow:global_step/sec: 24.7694\n",
      "INFO:tensorflow:loss = 20.349068, step = 17701 (4.034 sec)\n",
      "INFO:tensorflow:global_step/sec: 33.6106\n",
      "INFO:tensorflow:loss = 23.357723, step = 17801 (2.984 sec)\n",
      "INFO:tensorflow:global_step/sec: 32.1001\n",
      "INFO:tensorflow:loss = 20.754568, step = 17901 (3.111 sec)\n",
      "INFO:tensorflow:global_step/sec: 32.1869\n",
      "INFO:tensorflow:loss = 18.112892, step = 18001 (3.102 sec)\n",
      "INFO:tensorflow:global_step/sec: 29.874\n",
      "INFO:tensorflow:loss = 24.613495, step = 18101 (3.348 sec)\n",
      "INFO:tensorflow:global_step/sec: 32.5668\n",
      "INFO:tensorflow:loss = 22.49971, step = 18201 (3.073 sec)\n",
      "INFO:tensorflow:global_step/sec: 26.7231\n",
      "INFO:tensorflow:loss = 19.148483, step = 18301 (3.743 sec)\n",
      "INFO:tensorflow:global_step/sec: 33.2384\n",
      "INFO:tensorflow:loss = 23.343113, step = 18401 (3.013 sec)\n",
      "INFO:tensorflow:global_step/sec: 36.3666\n",
      "INFO:tensorflow:loss = 21.656498, step = 18501 (2.753 sec)\n",
      "INFO:tensorflow:global_step/sec: 26.3041\n",
      "INFO:tensorflow:loss = 17.654064, step = 18601 (3.795 sec)\n",
      "INFO:tensorflow:global_step/sec: 30.6502\n",
      "INFO:tensorflow:loss = 15.627471, step = 18701 (3.259 sec)\n",
      "INFO:tensorflow:global_step/sec: 31.7503\n",
      "INFO:tensorflow:loss = 20.414186, step = 18801 (3.150 sec)\n",
      "INFO:tensorflow:global_step/sec: 22.8158\n",
      "INFO:tensorflow:loss = 24.527178, step = 18901 (4.383 sec)\n",
      "INFO:tensorflow:global_step/sec: 32.2769\n",
      "INFO:tensorflow:loss = 18.423565, step = 19001 (3.099 sec)\n",
      "INFO:tensorflow:global_step/sec: 28.5551\n",
      "INFO:tensorflow:loss = 31.793648, step = 19101 (3.502 sec)\n",
      "INFO:tensorflow:Saving checkpoints for 19181 into /tmp/tmp60a0scbz/model.ckpt.\n",
      "INFO:tensorflow:global_step/sec: 21.6065\n",
      "INFO:tensorflow:loss = 18.222523, step = 19201 (4.640 sec)\n",
      "INFO:tensorflow:global_step/sec: 34.8568\n",
      "INFO:tensorflow:loss = 18.96483, step = 19301 (2.858 sec)\n",
      "INFO:tensorflow:global_step/sec: 30.6877\n",
      "INFO:tensorflow:loss = 21.979042, step = 19401 (3.264 sec)\n",
      "INFO:tensorflow:global_step/sec: 30.2769\n",
      "INFO:tensorflow:loss = 23.607231, step = 19501 (3.297 sec)\n",
      "INFO:tensorflow:global_step/sec: 29.0045\n",
      "INFO:tensorflow:loss = 18.08318, step = 19601 (3.451 sec)\n",
      "INFO:tensorflow:global_step/sec: 36.5094\n",
      "INFO:tensorflow:loss = 15.419205, step = 19701 (2.736 sec)\n",
      "INFO:tensorflow:global_step/sec: 48.3501\n",
      "INFO:tensorflow:loss = 21.873587, step = 19801 (2.068 sec)\n",
      "INFO:tensorflow:global_step/sec: 36.0794\n",
      "INFO:tensorflow:loss = 30.417091, step = 19901 (2.777 sec)\n",
      "INFO:tensorflow:global_step/sec: 28.9315\n",
      "INFO:tensorflow:loss = 21.816563, step = 20001 (3.453 sec)\n",
      "INFO:tensorflow:global_step/sec: 32.7142\n",
      "INFO:tensorflow:loss = 13.352633, step = 20101 (3.055 sec)\n",
      "INFO:tensorflow:global_step/sec: 37.1693\n",
      "INFO:tensorflow:loss = 22.242193, step = 20201 (2.694 sec)\n",
      "INFO:tensorflow:global_step/sec: 50.937\n",
      "INFO:tensorflow:loss = 21.25109, step = 20301 (1.959 sec)\n",
      "INFO:tensorflow:Saving checkpoints for 20351 into /tmp/tmp60a0scbz/model.ckpt.\n",
      "INFO:tensorflow:Loss for final step: 13.999365.\n"
     ]
    },
    {
     "data": {
      "text/plain": [
       "<tensorflow_estimator.python.estimator.canned.linear.LinearClassifier at 0x7a64c22e99e8>"
      ]
     },
     "execution_count": 105,
     "metadata": {},
     "output_type": "execute_result"
    }
   ],
   "source": [
    "model_l2.train(train_inpf)"
   ]
  },
  {
   "cell_type": "code",
   "execution_count": 106,
   "metadata": {
    "collapsed": true
   },
   "outputs": [
    {
     "name": "stdout",
     "output_type": "stream",
     "text": [
      "INFO:tensorflow:Parsing /tmp/census_data/adult.test\n",
      "INFO:tensorflow:Calling model_fn.\n",
      "WARNING:tensorflow:Trapezoidal rule is known to produce incorrect PR-AUCs; please switch to \"careful_interpolation\" instead.\n",
      "WARNING:tensorflow:Trapezoidal rule is known to produce incorrect PR-AUCs; please switch to \"careful_interpolation\" instead.\n",
      "INFO:tensorflow:Done calling model_fn.\n",
      "INFO:tensorflow:Starting evaluation at 2019-10-21T12:34:52Z\n",
      "INFO:tensorflow:Graph was finalized.\n",
      "INFO:tensorflow:Restoring parameters from /tmp/tmp60a0scbz/model.ckpt-20351\n",
      "INFO:tensorflow:Running local_init_op.\n",
      "INFO:tensorflow:Done running local_init_op.\n",
      "INFO:tensorflow:Finished evaluation at 2019-10-21-12:35:09\n",
      "INFO:tensorflow:Saving dict for global step 20351: accuracy = 0.8358209, accuracy_baseline = 0.76377374, auc = 0.88348794, auc_precision_recall = 0.6943646, average_loss = 0.35183856, global_step = 20351, label/mean = 0.23622628, loss = 22.463858, precision = 0.6922321, prediction/mean = 0.23453863, recall = 0.54914194\n",
      "INFO:tensorflow:Saving 'checkpoint_path' summary for global step 20351: /tmp/tmp60a0scbz/model.ckpt-20351\n"
     ]
    }
   ],
   "source": [
    "results = model_l2.evaluate(test_inpf)"
   ]
  },
  {
   "cell_type": "code",
   "execution_count": 107,
   "metadata": {},
   "outputs": [],
   "source": [
    "clear_output()"
   ]
  },
  {
   "cell_type": "code",
   "execution_count": 108,
   "metadata": {
    "collapsed": true
   },
   "outputs": [
    {
     "name": "stdout",
     "output_type": "stream",
     "text": [
      "accuracy: 0.84\n",
      "accuracy_baseline: 0.76\n",
      "auc: 0.88\n",
      "auc_precision_recall: 0.69\n",
      "average_loss: 0.35\n",
      "global_step: 20351.00\n",
      "label/mean: 0.24\n",
      "loss: 22.46\n",
      "precision: 0.69\n",
      "prediction/mean: 0.23\n",
      "recall: 0.55\n"
     ]
    }
   ],
   "source": [
    "for key in sorted(results):\n",
    "    print('%s: %0.2f' % (key, results[key]))"
   ]
  },
  {
   "cell_type": "code",
   "execution_count": 109,
   "metadata": {},
   "outputs": [],
   "source": [
    "# Regularized models don't perform much better than the base \n",
    "# model.\n",
    "# Look at model's weight distributions.\n",
    "def get_flat_weights(model):\n",
    "    weight_names = [name for name in model.get_variable_names() \\\n",
    "                   if \"linear_model\" in name and \"Ftrl\" not in\\\n",
    "                   name]\n",
    "    weight_values = [model.get_variable_value(name) for name \\\n",
    "                    in weight_names]\n",
    "    weights_flat = np.concatenate([item.flatten() for item in\\\n",
    "                        weight_values], axis=0)\n",
    "    return weights_flat"
   ]
  },
  {
   "cell_type": "code",
   "execution_count": 110,
   "metadata": {},
   "outputs": [],
   "source": [
    "weights_flat = get_flat_weights(model)"
   ]
  },
  {
   "cell_type": "code",
   "execution_count": 112,
   "metadata": {},
   "outputs": [],
   "source": [
    "weights_flat_l1 = get_flat_weights(model_l1)"
   ]
  },
  {
   "cell_type": "code",
   "execution_count": 113,
   "metadata": {},
   "outputs": [],
   "source": [
    "weights_flat_l2 = get_flat_weights(model_l2)"
   ]
  },
  {
   "cell_type": "code",
   "execution_count": 114,
   "metadata": {},
   "outputs": [
    {
     "data": {
      "text/plain": [
       "(array([-2.579648  , -1.8518926 , -0.91303337, ...,  0.29046994,\n",
       "        -2.0966153 , -0.71069014], dtype=float32),\n",
       " array([-2.099156  , -1.8822755 , -0.9096276 , ...,  0.21386078,\n",
       "        -1.5875126 ,  0.        ], dtype=float32),\n",
       " array([-1.7039373 , -1.8455409 , -0.9021592 , ...,  0.22922218,\n",
       "        -1.3374196 , -0.24642293], dtype=float32))"
      ]
     },
     "execution_count": 114,
     "metadata": {},
     "output_type": "execute_result"
    }
   ],
   "source": [
    "weights_flat, weights_flat_l1, weights_flat_l2"
   ]
  },
  {
   "cell_type": "code",
   "execution_count": 115,
   "metadata": {},
   "outputs": [],
   "source": [
    "# The models have many zero-vaued weights caused by unused hash\n",
    "# bins. Mask these weights when viewing the weight distributions.\n",
    "weight_mask = weights_flat != 0"
   ]
  },
  {
   "cell_type": "code",
   "execution_count": 116,
   "metadata": {},
   "outputs": [],
   "source": [
    "weights_base = weights_flat[weight_mask]"
   ]
  },
  {
   "cell_type": "code",
   "execution_count": 117,
   "metadata": {},
   "outputs": [],
   "source": [
    "weights_l1 = weights_flat_l1[weight_mask]"
   ]
  },
  {
   "cell_type": "code",
   "execution_count": 118,
   "metadata": {},
   "outputs": [],
   "source": [
    "weights_l2 = weights_flat_l2[weight_mask]"
   ]
  },
  {
   "cell_type": "code",
   "execution_count": 119,
   "metadata": {},
   "outputs": [
    {
     "data": {
      "text/plain": [
       "(0, 500)"
      ]
     },
     "execution_count": 119,
     "metadata": {},
     "output_type": "execute_result"
    },
    {
     "data": {
      "image/png": "[encoded data removed]",
      "text/plain": [
       "<Figure size 432x288 with 1 Axes>"
      ]
     },
     "metadata": {
      "needs_background": "light"
     },
     "output_type": "display_data"
    },
    {
     "data": {
      "image/png": "[encoded data removed]",
      "text/plain": [
       "<Figure size 432x288 with 1 Axes>"
      ]
     },
     "metadata": {
      "needs_background": "light"
     },
     "output_type": "display_data"
    },
    {
     "data": {
      "image/png": "[encoded data removed]",
      "text/plain": [
       "<Figure size 432x288 with 1 Axes>"
      ]
     },
     "metadata": {
      "needs_background": "light"
     },
     "output_type": "display_data"
    }
   ],
   "source": [
    "# Plot the distributions\n",
    "plt.figure()\n",
    "_ = plt.hist(weights_base, bins=np.linspace(-3,3,30))\n",
    "plt.title('Base Model')\n",
    "plt.ylim([0,500])\n",
    "\n",
    "plt.figure()\n",
    "_ = plt.hist(weights_l1, bins=np.linspace(-3,3,30))\n",
    "plt.title('L1-Regularization')\n",
    "plt.ylim([0,500])\n",
    "\n",
    "plt.figure()\n",
    "_ = plt.hist(weights_l2, bins=np.linspace(-3,3,30))\n",
    "plt.title('L2-Regularization')\n",
    "plt.ylim([0,500])"
   ]
  },
  {
   "cell_type": "code",
   "execution_count": 120,
   "metadata": {},
   "outputs": [],
   "source": [
    "# Both types of regularization squeeze the distribution \n",
    "# of weights toward 0. L2 regularization has a greater effect\n",
    "# in the tails of the distribution. L1 regularization produces\n",
    "# more exactly-zero values."
   ]
  },
  {
   "cell_type": "code",
   "execution_count": null,
   "metadata": {},
   "outputs": [],
   "source": []
  }
 ],
 "metadata": {
  "kernelspec": {
   "display_name": "Python 3",
   "language": "python",
   "name": "python3"
  },
  "language_info": {
   "codemirror_mode": {
    "name": "ipython",
    "version": 3
   },
   "file_extension": ".py",
   "mimetype": "text/x-python",
   "name": "python",
   "nbconvert_exporter": "python",
   "pygments_lexer": "ipython3",
   "version": "3.7.3"
  }
 },
 "nbformat": 4,
 "nbformat_minor": 2
}
