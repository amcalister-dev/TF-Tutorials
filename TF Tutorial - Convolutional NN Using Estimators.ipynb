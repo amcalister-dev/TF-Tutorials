{
 "cells": [
  {
   "cell_type": "code",
   "execution_count": 1,
   "metadata": {},
   "outputs": [],
   "source": [
    "#@title Licensed under the Apache License, Version 2.0 (the \"License\");\n",
    "# you may not use this file except in compliance with the License.\n",
    "# You may obtain a copy of the License at\n",
    "#\n",
    "# https://www.apache.org/licenses/LICENSE-2.0\n",
    "#\n",
    "# Unless required by applicable law or agreed to in writing, software\n",
    "# distributed under the License is distributed on an \"AS IS\" BASIS,\n",
    "# WITHOUT WARRANTIES OR CONDITIONS OF ANY KIND, either express or implied.\n",
    "# See the License for the specific language governing permissions and\n",
    "# limitations under the License."
   ]
  },
  {
   "cell_type": "code",
   "execution_count": 2,
   "metadata": {},
   "outputs": [],
   "source": [
    "# Build a Convolutional NN Using Estimators"
   ]
  },
  {
   "cell_type": "code",
   "execution_count": 3,
   "metadata": {},
   "outputs": [],
   "source": [
    "from __future__ import absolute_import, division, \\\n",
    "    print_function, unicode_literals\n",
    "import tensorflow as tf\n",
    "import numpy as np"
   ]
  },
  {
   "cell_type": "code",
   "execution_count": 4,
   "metadata": {},
   "outputs": [],
   "source": [
    "tf.logging.set_verbosity(tf.logging.INFO)"
   ]
  },
  {
   "cell_type": "code",
   "execution_count": 5,
   "metadata": {},
   "outputs": [],
   "source": [
    "# Intro to Convolutional NNs\n",
    "# Convolutional layers:\n",
    "# Apply a specified number of convolution filters to the image.\n",
    "# For each subregion, the layer performs a set of mathematical\n",
    "# operations to produce a single value in the output feature map\n",
    "# Then it applies a ReLU activation function to introduce\n",
    "# nonlinearities.\n",
    "# \n",
    "# Pooling layers:\n",
    "# Downsample the image data extracted by the convolutional\n",
    "# layers. This reduces the dimensionality of the feature map.\n",
    "#\n",
    "# Dense (fully connected) layers:\n",
    "# Perform classification on the features extracted by the \n",
    "# convolutional layers and downsamped by the pooling layers.\n",
    "# Every node in the layer is connected to every node in the \n",
    "# preceding layer."
   ]
  },
  {
   "cell_type": "code",
   "execution_count": 6,
   "metadata": {},
   "outputs": [],
   "source": [
    "# Building the CNN MNIST Classifier\n",
    "# 1. Convolutional Layer #1 - Applies 32 5x5 filters with ReLU\n",
    "# activation function.\n",
    "# 2. Pooling Layer #1 - Performs max pooling with a 2x2 filter\n",
    "# and stride of 2 so that pooled regions do not overlap\n",
    "# 3. Convolutional Layer #2 - Applies 64 5x5 filters with ReLU \n",
    "# activation function.\n",
    "# 4. Pooling Layer #2 - Performs max pooling with a 2x2 filter\n",
    "# and stride of 2.\n",
    "# 5. Dense Layer #1 - 1024 neurons, with dropout regularization\n",
    "# rate of 0.4\n",
    "# 6. Dense Layer #2 - 10 neurons, one for each digit target class\n",
    "# 0-9"
   ]
  },
  {
   "cell_type": "code",
   "execution_count": 37,
   "metadata": {},
   "outputs": [],
   "source": [
    "def cnn_model_fn(features, labels, mode):\n",
    "    '''Model function for CNN'''\n",
    "    # Input layer\n",
    "    # Shape: [batch_size, img_height, img_width, channels]\n",
    "    input_layer = tf.reshape(features[\"x\"], [-1,28,28,1])\n",
    "    # Convolutional layer #1\n",
    "    conv1 = tf.layers.conv2d(inputs=input_layer,\\\n",
    "                            filters=32,\\\n",
    "                            kernel_size=[5,5],\\\n",
    "                            padding=\"same\",\\\n",
    "                            activation=tf.nn.relu)\n",
    "    # Pooling layer #1\n",
    "    pool1 = tf.layers.max_pooling2d(inputs=conv1,\\\n",
    "                                   pool_size=[2,2],\\\n",
    "                                   strides=2)\n",
    "    # Convolutional layer #2\n",
    "    conv2 = tf.layers.conv2d(inputs=pool1,\\\n",
    "                            filters=64,\\\n",
    "                            kernel_size=[5,5],\\\n",
    "                            padding=\"same\",\\\n",
    "                            activation=tf.nn.relu)\n",
    "    # Pooling layer #2\n",
    "    pool2 = tf.layers.max_pooling2d(inputs=conv2,\\\n",
    "                                   pool_size=[2,2],\\\n",
    "                                   strides=2)\n",
    "    # Dense layer\n",
    "    pool2_flat = tf.reshape(pool2, [-1,7*7*64])\n",
    "    dense = tf.layers.dense(inputs=pool2_flat, \\\n",
    "                           units=1024, \\\n",
    "                           activation=tf.nn.relu)\n",
    "    dropout = tf.layers.dropout(inputs=dense, rate=0.4, \\\n",
    "                training=mode == tf.estimator.ModeKeys.TRAIN)\n",
    "    # Logits layer\n",
    "    logits = tf.layers.dense(inputs=dropout, units=10)\n",
    "    predictions = {\n",
    "        # Generate predictions (for PREDICT and eVAL mode)\n",
    "        \"classes\": tf.argmax(input=logits, axis=1),\n",
    "        # Add 'softmax_tensor' to the graph. It is used for \n",
    "        # PREDICT and by the 'logging_hook.'\n",
    "        \"probabilities\": tf.nn.softmax(logits, \\\n",
    "                                       name=\"softmax_tensor\")\n",
    "    }\n",
    "    \n",
    "    if mode == tf.estimator.ModeKeys.PREDICT:\n",
    "        return tf.estimator.EstimatorSpec(mode=mode,\\\n",
    "                        predictions=predictions)\n",
    "    # Calculate loss (for both TRAIN and EVAL modes)\n",
    "    loss = tf.losses.sparse_softmax_cross_entropy(\\\n",
    "                labels=labels, logits=logits)\n",
    "    \n",
    "    # Configure the Training Op (for TRAIN mode)\n",
    "    if mode == tf.estimator.ModeKeys.TRAIN:\n",
    "        optimizer = tf.train.GradientDescentOptimizer(\\\n",
    "                        learning_rate=0.001)\n",
    "        train_op = optimizer.minimize(\\\n",
    "                        loss=loss,\\\n",
    "                        global_step=tf.train.get_global_step())\n",
    "        return tf.estimator.EstimatorSpec(mode=mode, loss=loss,\\\n",
    "                            train_op=train_op)\n",
    "    # Add evaluation metrics (for EVAL mode)\n",
    "    eval_metric_ops = {\n",
    "        \"accuracy\": tf.metrics.accuracy(\\\n",
    "            labels=labels, predictions=predictions[\"classes\"])\n",
    "    }\n",
    "    return tf.estimator.EstimatorSpec(\\\n",
    "        mode=mode, loss=loss, eval_metric_ops=eval_metric_ops)"
   ]
  },
  {
   "cell_type": "code",
   "execution_count": 38,
   "metadata": {},
   "outputs": [],
   "source": [
    "# Load training and test data\n",
    "((train_data, train_labels),(eval_data, eval_labels)) = \\\n",
    "    tf.keras.datasets.mnist.load_data()"
   ]
  },
  {
   "cell_type": "code",
   "execution_count": 39,
   "metadata": {},
   "outputs": [],
   "source": [
    "train_data = train_data/np.float32(255)"
   ]
  },
  {
   "cell_type": "code",
   "execution_count": 40,
   "metadata": {},
   "outputs": [],
   "source": [
    "train_labels = train_labels.astype(np.int32)"
   ]
  },
  {
   "cell_type": "code",
   "execution_count": 41,
   "metadata": {},
   "outputs": [],
   "source": [
    "eval_data = eval_data/np.float32(255)\n",
    "eval_labels = eval_labels.astype(np.int32)"
   ]
  },
  {
   "cell_type": "code",
   "execution_count": 42,
   "metadata": {
    "collapsed": true
   },
   "outputs": [
    {
     "name": "stdout",
     "output_type": "stream",
     "text": [
      "INFO:tensorflow:Using default config.\n",
      "INFO:tensorflow:Using config: {'_model_dir': '/tmp/mnist_convnet_model', '_tf_random_seed': None, '_save_summary_steps': 100, '_save_checkpoints_steps': None, '_save_checkpoints_secs': 600, '_session_config': allow_soft_placement: true\n",
      "graph_options {\n",
      "  rewrite_options {\n",
      "    meta_optimizer_iterations: ONE\n",
      "  }\n",
      "}\n",
      ", '_keep_checkpoint_max': 5, '_keep_checkpoint_every_n_hours': 10000, '_log_step_count_steps': 100, '_train_distribute': None, '_device_fn': None, '_protocol': None, '_eval_distribute': None, '_experimental_distribute': None, '_experimental_max_worker_delay_secs': None, '_service': None, '_cluster_spec': <tensorflow.python.training.server_lib.ClusterSpec object at 0x7cbb0968dcc0>, '_task_type': 'worker', '_task_id': 0, '_global_id_in_cluster': 0, '_master': '', '_evaluation_master': '', '_is_chief': True, '_num_ps_replicas': 0, '_num_worker_replicas': 1}\n"
     ]
    }
   ],
   "source": [
    "# Create the Estimator\n",
    "mnist_classifier = tf.estimator.Estimator(\\\n",
    "    model_fn=cnn_model_fn, model_dir=\"/tmp/mnist_convnet_model\")"
   ]
  },
  {
   "cell_type": "code",
   "execution_count": 43,
   "metadata": {},
   "outputs": [],
   "source": [
    "# Set up a logging hook\n",
    "tensors_to_log = {\"probabilities\": \"softmax_tensor\"}"
   ]
  },
  {
   "cell_type": "code",
   "execution_count": 44,
   "metadata": {},
   "outputs": [],
   "source": [
    "logging_hook = tf.train.LoggingTensorHook(\\\n",
    "    tensors=tensors_to_log, every_n_iter=50)"
   ]
  },
  {
   "cell_type": "code",
   "execution_count": 45,
   "metadata": {},
   "outputs": [],
   "source": [
    "# Train the model\n",
    "train_input_fn = tf.estimator.inputs.numpy_input_fn(\\\n",
    "    x={\"x\": train_data},\n",
    "    y=train_labels,\n",
    "    batch_size=100,\n",
    "    num_epochs=None,\n",
    "    shuffle=True)"
   ]
  },
  {
   "cell_type": "code",
   "execution_count": 46,
   "metadata": {
    "collapsed": true
   },
   "outputs": [
    {
     "name": "stdout",
     "output_type": "stream",
     "text": [
      "INFO:tensorflow:Calling model_fn.\n",
      "WARNING:tensorflow:From <ipython-input-37-760241cdb090>:30: dense (from tensorflow.python.layers.core) is deprecated and will be removed in a future version.\n",
      "Instructions for updating:\n",
      "Use keras.layers.dense instead.\n",
      "WARNING:tensorflow:From <ipython-input-37-760241cdb090>:32: dropout (from tensorflow.python.layers.core) is deprecated and will be removed in a future version.\n",
      "Instructions for updating:\n",
      "Use keras.layers.dropout instead.\n",
      "WARNING:tensorflow:From /home/allisonrmcalister/anaconda3/lib/python3.7/site-packages/tensorflow/python/ops/losses/losses_impl.py:121: add_dispatch_support.<locals>.wrapper (from tensorflow.python.ops.array_ops) is deprecated and will be removed in a future version.\n",
      "Instructions for updating:\n",
      "Use tf.where in 2.0, which has the same broadcast rule as np.where\n",
      "INFO:tensorflow:Done calling model_fn.\n",
      "INFO:tensorflow:Create CheckpointSaverHook.\n",
      "INFO:tensorflow:Graph was finalized.\n",
      "INFO:tensorflow:Running local_init_op.\n",
      "INFO:tensorflow:Done running local_init_op.\n",
      "WARNING:tensorflow:From /home/allisonrmcalister/anaconda3/lib/python3.7/site-packages/tensorflow/python/training/monitored_session.py:875: start_queue_runners (from tensorflow.python.training.queue_runner_impl) is deprecated and will be removed in a future version.\n",
      "Instructions for updating:\n",
      "To construct input pipelines, use the `tf.data` module.\n",
      "INFO:tensorflow:Saving checkpoints for 0 into /tmp/mnist_convnet_model/model.ckpt.\n",
      "INFO:tensorflow:probabilities = [[0.08674837 0.10418858 0.10072877 0.11121342 0.1039355  0.10013232\n",
      "  0.10096736 0.10192717 0.09527636 0.09488221]\n",
      " [0.10011754 0.08936473 0.11034227 0.11553523 0.09124382 0.09846262\n",
      "  0.10671841 0.09069131 0.09878695 0.09873712]\n",
      " [0.09264695 0.10603054 0.10237494 0.10240807 0.10785181 0.10498852\n",
      "  0.09048194 0.10029469 0.09591903 0.09700347]\n",
      " [0.08836617 0.0856189  0.10422284 0.11255785 0.10794762 0.09672228\n",
      "  0.09435114 0.1095137  0.09933986 0.10135963]\n",
      " [0.09982339 0.08721529 0.09846333 0.10284191 0.10421187 0.10252477\n",
      "  0.09831192 0.11664334 0.09299603 0.0969681 ]\n",
      " [0.0890277  0.09387385 0.10685084 0.10829759 0.1099489  0.093803\n",
      "  0.09567947 0.10899809 0.10015478 0.09336585]\n",
      " [0.09922041 0.09429876 0.09684689 0.11375556 0.09667233 0.09727657\n",
      "  0.08633494 0.11442367 0.10684238 0.0943285 ]\n",
      " [0.09362876 0.08966181 0.0984829  0.10345378 0.10698804 0.10129251\n",
      "  0.09525229 0.10471185 0.10486235 0.10166576]\n",
      " [0.09646261 0.09366633 0.09409212 0.10153807 0.09364826 0.10183106\n",
      "  0.09954721 0.1108401  0.10085413 0.10752007]\n",
      " [0.09146649 0.08210704 0.10618019 0.1098865  0.10500292 0.10506056\n",
      "  0.09665683 0.09810519 0.10118084 0.10435341]\n",
      " [0.09515502 0.09621712 0.09627909 0.10113201 0.10845561 0.10595799\n",
      "  0.09713764 0.09664342 0.10930436 0.09371762]\n",
      " [0.09818743 0.09449553 0.10039172 0.10163148 0.0989953  0.10400934\n",
      "  0.09167654 0.10690954 0.11086833 0.09283473]\n",
      " [0.09411024 0.0975818  0.10252619 0.09710816 0.09906659 0.10435034\n",
      "  0.10165573 0.10727909 0.09819856 0.09812333]\n",
      " [0.09608184 0.09679005 0.10234296 0.10932088 0.10528056 0.11315688\n",
      "  0.09111314 0.09421865 0.09724291 0.09445221]\n",
      " [0.08509708 0.09590039 0.09730972 0.11163637 0.10288677 0.09754488\n",
      "  0.09525136 0.11680403 0.09981808 0.0977513 ]\n",
      " [0.09818363 0.08779519 0.10594822 0.09589735 0.10515877 0.09118516\n",
      "  0.10920104 0.10664432 0.10525741 0.09472892]\n",
      " [0.08921938 0.10095617 0.09795838 0.10839413 0.0945011  0.09793419\n",
      "  0.09688941 0.11354017 0.09997281 0.10063421]\n",
      " [0.09701457 0.09556992 0.10429002 0.0984053  0.09766515 0.10809226\n",
      "  0.09279778 0.10389123 0.10287067 0.09940308]\n",
      " [0.09546014 0.09737624 0.0944365  0.10836536 0.10558872 0.091455\n",
      "  0.08909097 0.11680847 0.09949824 0.10192034]\n",
      " [0.09678183 0.09373929 0.10369261 0.10611665 0.10370193 0.09498519\n",
      "  0.10089869 0.09916984 0.10591322 0.09500073]\n",
      " [0.09186258 0.09498739 0.0937971  0.11880205 0.10559182 0.09840637\n",
      "  0.09226736 0.11144416 0.10504761 0.08779351]\n",
      " [0.09214842 0.09341303 0.10789243 0.11574849 0.09457221 0.10159887\n",
      "  0.09448065 0.10595021 0.09667887 0.09751689]\n",
      " [0.09900079 0.09014629 0.0921773  0.1073155  0.10166465 0.10438904\n",
      "  0.09072719 0.10473955 0.10913099 0.10070866]\n",
      " [0.07667977 0.09371249 0.09512237 0.10825743 0.10195843 0.10053961\n",
      "  0.10387271 0.12656619 0.10060953 0.09268149]\n",
      " [0.09790882 0.08953471 0.10206096 0.10115646 0.10198978 0.10258011\n",
      "  0.10068016 0.10607424 0.10007471 0.09794   ]\n",
      " [0.09605978 0.08938678 0.10268784 0.10739853 0.0999354  0.10427963\n",
      "  0.09216203 0.11508998 0.10419425 0.08880577]\n",
      " [0.09008364 0.09807284 0.10232311 0.10473921 0.10503738 0.0995849\n",
      "  0.09716724 0.11751793 0.09788997 0.08758373]\n",
      " [0.0997759  0.09693521 0.09723063 0.11517747 0.09834494 0.09948339\n",
      "  0.09630736 0.11016758 0.09525065 0.09132688]\n",
      " [0.08881467 0.09940765 0.11637989 0.1021737  0.10207815 0.10820153\n",
      "  0.09734048 0.09796441 0.09492666 0.09271291]\n",
      " [0.09735346 0.09712216 0.10086641 0.1108801  0.10845992 0.09979197\n",
      "  0.09273847 0.1004117  0.1037843  0.08859153]\n",
      " [0.0968894  0.09228374 0.092686   0.10410076 0.09594825 0.10076873\n",
      "  0.0892144  0.12296587 0.10291175 0.10223103]\n",
      " [0.09113482 0.09140588 0.10245214 0.10353328 0.09804028 0.09798889\n",
      "  0.09788916 0.11726826 0.10321195 0.0970753 ]\n",
      " [0.09882918 0.09966116 0.09552901 0.11030634 0.09833232 0.10107421\n",
      "  0.10093548 0.10408427 0.09047908 0.10076889]\n",
      " [0.08954905 0.09066164 0.09891253 0.10755965 0.09699016 0.10740168\n",
      "  0.09153058 0.1130639  0.11137367 0.09295708]\n",
      " [0.09609703 0.09758825 0.105313   0.1089714  0.10586354 0.09319251\n",
      "  0.09903011 0.09502521 0.10900765 0.08991118]\n",
      " [0.09666345 0.10077696 0.08720631 0.10434356 0.10076113 0.09659775\n",
      "  0.09473769 0.10319534 0.10690922 0.10880859]\n",
      " [0.0899417  0.09301293 0.10259745 0.11259101 0.09964234 0.1041443\n",
      "  0.0970526  0.10139865 0.11017638 0.08944262]\n",
      " [0.09214118 0.08657683 0.1028537  0.10977279 0.10324144 0.10105606\n",
      "  0.10047044 0.11231818 0.09877441 0.09279498]\n",
      " [0.09244744 0.09906835 0.11184388 0.1107032  0.09473839 0.09798189\n",
      "  0.10071399 0.10951556 0.0904661  0.09252118]\n",
      " [0.10007229 0.09837586 0.10304751 0.10188992 0.09984455 0.0967831\n",
      "  0.09032258 0.10833507 0.1066297  0.09469933]\n",
      " [0.09612041 0.09509881 0.0958656  0.10206433 0.10907287 0.10914028\n",
      "  0.09031447 0.10744581 0.10034166 0.09453579]\n",
      " [0.08933011 0.09568715 0.10433057 0.10995519 0.10258279 0.09763116\n",
      "  0.10182568 0.10373837 0.10751481 0.08740424]\n",
      " [0.10338809 0.09442353 0.09567912 0.1020718  0.09987891 0.10442325\n",
      "  0.09047762 0.11594154 0.09617412 0.09754195]\n",
      " [0.10086559 0.09299746 0.10588994 0.10487192 0.09993302 0.10283308\n",
      "  0.08646332 0.10067242 0.10307465 0.10239854]\n",
      " [0.0931031  0.08418854 0.1023617  0.1065199  0.10600802 0.09701402\n",
      "  0.10220895 0.10883924 0.10667723 0.09307929]\n",
      " [0.09782845 0.09190059 0.1026195  0.09954932 0.10967026 0.10093502\n",
      "  0.10596284 0.10850828 0.08345392 0.09957178]\n",
      " [0.09225395 0.09791489 0.10334712 0.10723614 0.1029892  0.09724754\n",
      "  0.09362338 0.10142251 0.1076176  0.09634763]\n",
      " [0.09313057 0.09454906 0.10849252 0.10621969 0.10691366 0.08852581\n",
      "  0.10681763 0.09936655 0.10350673 0.09247787]\n",
      " [0.09031271 0.09302102 0.10644898 0.10105696 0.10901904 0.0977852\n",
      "  0.09816649 0.10241257 0.10327527 0.09850182]\n",
      " [0.10306111 0.08928086 0.10349927 0.09689806 0.10104194 0.10185611\n",
      "  0.09935704 0.107341   0.10456728 0.0930974 ]\n",
      " [0.09996068 0.09944516 0.09843659 0.09954727 0.09794024 0.11574886\n",
      "  0.09664229 0.09562434 0.10304375 0.09361082]\n",
      " [0.09324274 0.09360671 0.10242485 0.10263685 0.10140517 0.09324437\n",
      "  0.0959402  0.10806043 0.11305261 0.09638613]\n",
      " [0.09315241 0.09370437 0.10037077 0.1039594  0.10731745 0.09653187\n",
      "  0.10075548 0.10776201 0.10097226 0.095474  ]\n",
      " [0.08438575 0.10568497 0.09715679 0.11343705 0.09643695 0.10293592\n",
      "  0.09699844 0.10266969 0.10825808 0.09203637]\n",
      " [0.09268796 0.09958041 0.10268511 0.09998957 0.10269732 0.11332808\n",
      "  0.09809688 0.09982074 0.10257048 0.08854339]\n",
      " [0.09990592 0.09608465 0.1201558  0.11018483 0.09797692 0.10241133\n",
      "  0.08901432 0.09970337 0.0895765  0.0949864 ]\n",
      " [0.09860606 0.0825297  0.10755245 0.10290026 0.09613975 0.09629157\n",
      "  0.095589   0.11138105 0.1043224  0.10468768]\n",
      " [0.08625893 0.096085   0.09579577 0.10245937 0.0998513  0.10144518\n",
      "  0.09400897 0.11869585 0.10353389 0.10186564]\n",
      " [0.09783891 0.09642754 0.09381732 0.10776564 0.10613125 0.10260859\n",
      "  0.094878   0.11020235 0.09809967 0.09223076]\n",
      " [0.08859821 0.09327086 0.10055191 0.11188369 0.0994899  0.10401931\n",
      "  0.09593854 0.10311996 0.09929252 0.10383513]\n",
      " [0.09576015 0.08906714 0.10514916 0.11192904 0.09841273 0.1078809\n",
      "  0.09600697 0.09747724 0.10665522 0.09166147]\n",
      " [0.09528952 0.09700939 0.09565243 0.11299872 0.09768084 0.1083038\n",
      "  0.09782071 0.10364237 0.10371021 0.08789201]\n",
      " [0.09466242 0.10336032 0.10868205 0.11485299 0.0954918  0.09388673\n",
      "  0.0939085  0.09210784 0.09757065 0.10547671]\n",
      " [0.08967036 0.10264096 0.09737592 0.11110626 0.10286102 0.10096364\n",
      "  0.09492096 0.10380553 0.10542788 0.09122743]\n",
      " [0.09653296 0.0946922  0.0994036  0.11252882 0.09790105 0.0984972\n",
      "  0.09294791 0.1029226  0.10886404 0.0957096 ]\n",
      " [0.09275647 0.09487282 0.10596725 0.1089032  0.10673227 0.11275577\n",
      "  0.09420821 0.09812712 0.10059174 0.08508512]\n",
      " [0.10080562 0.10053082 0.09648294 0.11251156 0.09712531 0.09660629\n",
      "  0.09055227 0.10416255 0.09762286 0.10359977]\n",
      " [0.09890055 0.09794404 0.10206714 0.10711713 0.09939366 0.09263586\n",
      "  0.09768984 0.10391378 0.0971841  0.10315389]\n",
      " [0.10114461 0.09507044 0.09383053 0.09952277 0.10673849 0.10447116\n",
      "  0.09108014 0.10505439 0.09868453 0.10440291]\n",
      " [0.09066635 0.0954657  0.10860275 0.11088263 0.101385   0.10786656\n",
      "  0.0947655  0.09747832 0.10228634 0.09060088]\n",
      " [0.08750007 0.09339631 0.10119187 0.10936902 0.09773672 0.10188023\n",
      "  0.10065573 0.10893498 0.10377279 0.09556229]\n",
      " [0.09052102 0.09206098 0.1036378  0.10200388 0.09908114 0.09614563\n",
      "  0.10506197 0.10862023 0.1034806  0.09938681]\n",
      " [0.10083874 0.08687842 0.09468278 0.10448733 0.10472725 0.09677623\n",
      "  0.09669457 0.10898845 0.1072423  0.09868399]\n",
      " [0.09131049 0.10347722 0.1076488  0.1111244  0.10782345 0.10155579\n",
      "  0.08498368 0.09988619 0.09666214 0.09552781]\n",
      " [0.09068912 0.09235196 0.10549995 0.10221434 0.10113137 0.10370667\n",
      "  0.10094695 0.10719489 0.09709363 0.09917118]\n",
      " [0.10017204 0.09194444 0.0990913  0.10188605 0.10424999 0.09091526\n",
      "  0.1014559  0.10030434 0.10933194 0.1006488 ]\n",
      " [0.10349239 0.09402513 0.10237358 0.11083134 0.09737351 0.10395382\n",
      "  0.09090826 0.10716274 0.09446379 0.09541546]\n",
      " [0.08612357 0.09408907 0.08773004 0.1078488  0.10604019 0.11121627\n",
      "  0.10455272 0.10163777 0.10072266 0.10003906]\n",
      " [0.09817902 0.09233471 0.11582817 0.09979388 0.10115217 0.08514575\n",
      "  0.10088409 0.10901619 0.09108131 0.10658474]\n",
      " [0.08870456 0.09225341 0.10201161 0.1098381  0.10629383 0.1070425\n",
      "  0.10093635 0.10233557 0.09621301 0.09437111]\n",
      " [0.09138544 0.09509562 0.10698761 0.10847712 0.09300933 0.1029333\n",
      "  0.09547014 0.10622741 0.10278949 0.09762464]\n",
      " [0.08905465 0.09364271 0.09717741 0.10325043 0.10973855 0.100052\n",
      "  0.10672518 0.10799759 0.10524621 0.08711531]\n",
      " [0.09957875 0.10027057 0.09963039 0.10112828 0.09929751 0.09823435\n",
      "  0.10044361 0.10483824 0.10113849 0.09543978]\n",
      " [0.10221146 0.0953854  0.11165244 0.10639879 0.09773801 0.0981473\n",
      "  0.08862861 0.10740769 0.10412509 0.08830523]\n",
      " [0.09264316 0.10274234 0.11134844 0.10130532 0.09897443 0.09569259\n",
      "  0.10663193 0.09844971 0.09594797 0.09626406]\n",
      " [0.0891511  0.10453597 0.09969766 0.11346942 0.09614279 0.10043526\n",
      "  0.09232141 0.10809962 0.10738542 0.08876135]\n",
      " [0.09939083 0.09301844 0.09525583 0.10105366 0.10092691 0.09528641\n",
      "  0.0930725  0.10868821 0.11334264 0.09996448]\n",
      " [0.10147859 0.08898495 0.09726957 0.10803217 0.10319476 0.10480364\n",
      "  0.09056935 0.10493641 0.09874383 0.10198673]\n",
      " [0.0855759  0.0958976  0.09053221 0.104793   0.096405   0.09762752\n",
      "  0.10405961 0.13183922 0.10128697 0.09198299]\n",
      " [0.09181532 0.08650251 0.10418992 0.10796026 0.11234991 0.1005007\n",
      "  0.08813091 0.11037594 0.10012013 0.09805439]\n",
      " [0.09320617 0.09089111 0.10278757 0.10453371 0.11243084 0.100143\n",
      "  0.09276752 0.10556449 0.10718681 0.0904887 ]\n",
      " [0.09675845 0.10099652 0.10389413 0.09819627 0.09923953 0.09183687\n",
      "  0.09640412 0.10970405 0.10526516 0.09770481]\n",
      " [0.09968074 0.09304866 0.10316343 0.11135136 0.10296196 0.08890948\n",
      "  0.10054812 0.10235841 0.09829759 0.0996802 ]\n",
      " [0.08850805 0.10113361 0.10014908 0.1004472  0.11490437 0.0889586\n",
      "  0.10258682 0.11441817 0.10014066 0.08875339]\n",
      " [0.09856513 0.09605565 0.1025352  0.10911927 0.09855707 0.10072318\n",
      "  0.09449092 0.10266284 0.09487454 0.10241617]\n",
      " [0.09930785 0.10443449 0.08643893 0.09946013 0.1083427  0.09774452\n",
      "  0.09707956 0.10934976 0.10152136 0.09632062]\n",
      " [0.09911939 0.09553759 0.10016037 0.1001306  0.10494278 0.0967427\n",
      "  0.08963554 0.10417219 0.11114535 0.09841352]\n",
      " [0.09912463 0.09771918 0.09577066 0.10860431 0.1036352  0.10116183\n",
      "  0.0940355  0.09444964 0.1094981  0.09600104]\n",
      " [0.09334485 0.09159125 0.08866496 0.11273837 0.10485004 0.09712217\n",
      "  0.0982766  0.10964907 0.10475247 0.09901019]\n",
      " [0.089588   0.10679029 0.1053113  0.10968539 0.09504356 0.10374773\n",
      "  0.10204495 0.09841747 0.09496302 0.09440828]]\n"
     ]
    },
    {
     "name": "stdout",
     "output_type": "stream",
     "text": [
      "INFO:tensorflow:loss = 2.3095558, step = 1\n",
      "INFO:tensorflow:Saving checkpoints for 1 into /tmp/mnist_convnet_model/model.ckpt.\n",
      "INFO:tensorflow:Loss for final step: 2.3095558.\n"
     ]
    },
    {
     "data": {
      "text/plain": [
       "<tensorflow_estimator.python.estimator.estimator.Estimator at 0x7cbb0968d828>"
      ]
     },
     "execution_count": 46,
     "metadata": {},
     "output_type": "execute_result"
    }
   ],
   "source": [
    "# Train one step and display the probabilities\n",
    "mnist_classifier.train(input_fn=train_input_fn,\\\n",
    "                      steps=1, hooks=[logging_hook])"
   ]
  },
  {
   "cell_type": "code",
   "execution_count": 47,
   "metadata": {
    "collapsed": true
   },
   "outputs": [
    {
     "name": "stdout",
     "output_type": "stream",
     "text": [
      "INFO:tensorflow:Calling model_fn.\n",
      "INFO:tensorflow:Done calling model_fn.\n",
      "INFO:tensorflow:Create CheckpointSaverHook.\n",
      "INFO:tensorflow:Graph was finalized.\n",
      "WARNING:tensorflow:From /home/allisonrmcalister/anaconda3/lib/python3.7/site-packages/tensorflow/python/training/saver.py:1276: checkpoint_exists (from tensorflow.python.training.checkpoint_management) is deprecated and will be removed in a future version.\n",
      "Instructions for updating:\n",
      "Use standard file APIs to check for files with this prefix.\n",
      "INFO:tensorflow:Restoring parameters from /tmp/mnist_convnet_model/model.ckpt-1\n",
      "WARNING:tensorflow:From /home/allisonrmcalister/anaconda3/lib/python3.7/site-packages/tensorflow/python/training/saver.py:1066: get_checkpoint_mtimes (from tensorflow.python.training.checkpoint_management) is deprecated and will be removed in a future version.\n",
      "Instructions for updating:\n",
      "Use standard file utilities to get mtimes.\n",
      "INFO:tensorflow:Running local_init_op.\n",
      "INFO:tensorflow:Done running local_init_op.\n",
      "INFO:tensorflow:Saving checkpoints for 1 into /tmp/mnist_convnet_model/model.ckpt.\n",
      "INFO:tensorflow:loss = 2.314947, step = 2\n",
      "INFO:tensorflow:global_step/sec: 1.25624\n",
      "INFO:tensorflow:loss = 2.2900202, step = 102 (79.613 sec)\n",
      "INFO:tensorflow:global_step/sec: 1.1334\n",
      "INFO:tensorflow:loss = 2.275901, step = 202 (88.227 sec)\n",
      "INFO:tensorflow:global_step/sec: 1.226\n",
      "INFO:tensorflow:loss = 2.270227, step = 302 (81.563 sec)\n",
      "INFO:tensorflow:global_step/sec: 0.951835\n",
      "INFO:tensorflow:loss = 2.2506065, step = 402 (105.063 sec)\n",
      "INFO:tensorflow:global_step/sec: 1.02289\n",
      "INFO:tensorflow:loss = 2.2450094, step = 502 (97.766 sec)\n",
      "INFO:tensorflow:global_step/sec: 1.16101\n",
      "INFO:tensorflow:loss = 2.2273073, step = 602 (86.132 sec)\n",
      "INFO:tensorflow:Saving checkpoints for 666 into /tmp/mnist_convnet_model/model.ckpt.\n",
      "INFO:tensorflow:global_step/sec: 0.985696\n",
      "INFO:tensorflow:loss = 2.2052832, step = 702 (101.445 sec)\n",
      "INFO:tensorflow:global_step/sec: 0.834336\n",
      "INFO:tensorflow:loss = 2.1540005, step = 802 (119.864 sec)\n",
      "INFO:tensorflow:global_step/sec: 0.699861\n",
      "INFO:tensorflow:loss = 2.1136246, step = 902 (142.891 sec)\n",
      "INFO:tensorflow:Saving checkpoints for 1001 into /tmp/mnist_convnet_model/model.ckpt.\n",
      "INFO:tensorflow:Loss for final step: 2.063433.\n"
     ]
    },
    {
     "data": {
      "text/plain": [
       "<tensorflow_estimator.python.estimator.estimator.Estimator at 0x7cbb0968d828>"
      ]
     },
     "execution_count": 47,
     "metadata": {},
     "output_type": "execute_result"
    }
   ],
   "source": [
    "# Now, without logging each step, set steps=1000 to train the \n",
    "# model longer.\n",
    "mnist_classifier.train(input_fn=train_input_fn, steps=1000)"
   ]
  },
  {
   "cell_type": "code",
   "execution_count": 48,
   "metadata": {},
   "outputs": [],
   "source": [
    "# Evaluate the model\n",
    "eval_input_fn = tf.estimator.inputs.numpy_input_fn(\n",
    "    x={\"x\": eval_data},\n",
    "    y=eval_labels,\n",
    "    num_epochs=1,\n",
    "    shuffle=False)"
   ]
  },
  {
   "cell_type": "code",
   "execution_count": 49,
   "metadata": {
    "collapsed": true
   },
   "outputs": [
    {
     "name": "stdout",
     "output_type": "stream",
     "text": [
      "INFO:tensorflow:Calling model_fn.\n",
      "INFO:tensorflow:Done calling model_fn.\n",
      "INFO:tensorflow:Starting evaluation at 2019-10-21T14:12:36Z\n",
      "INFO:tensorflow:Graph was finalized.\n",
      "INFO:tensorflow:Restoring parameters from /tmp/mnist_convnet_model/model.ckpt-1001\n",
      "INFO:tensorflow:Running local_init_op.\n",
      "INFO:tensorflow:Done running local_init_op.\n",
      "INFO:tensorflow:Finished evaluation at 2019-10-21-14:13:03\n",
      "INFO:tensorflow:Saving dict for global step 1001: accuracy = 0.6717, global_step = 1001, loss = 2.0553105\n",
      "INFO:tensorflow:Saving 'checkpoint_path' summary for global step 1001: /tmp/mnist_convnet_model/model.ckpt-1001\n"
     ]
    }
   ],
   "source": [
    "eval_results = mnist_classifier.evaluate(input_fn=eval_input_fn)"
   ]
  },
  {
   "cell_type": "code",
   "execution_count": 50,
   "metadata": {},
   "outputs": [
    {
     "name": "stdout",
     "output_type": "stream",
     "text": [
      "{'accuracy': 0.6717, 'loss': 2.0553105, 'global_step': 1001}\n"
     ]
    }
   ],
   "source": [
    "print(eval_results)"
   ]
  }
 ],
 "metadata": {
  "kernelspec": {
   "display_name": "Python 3",
   "language": "python",
   "name": "python3"
  },
  "language_info": {
   "codemirror_mode": {
    "name": "ipython",
    "version": 3
   },
   "file_extension": ".py",
   "mimetype": "text/x-python",
   "name": "python",
   "nbconvert_exporter": "python",
   "pygments_lexer": "ipython3",
   "version": "3.7.3"
  }
 },
 "nbformat": 4,
 "nbformat_minor": 2
}
