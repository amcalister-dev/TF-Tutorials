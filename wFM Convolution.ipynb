{
 "cells": [
  {
   "cell_type": "markdown",
   "metadata": {},
   "source": [
    "# Create Custom Convolution Function"
   ]
  },
  {
   "cell_type": "code",
   "execution_count": 1,
   "metadata": {},
   "outputs": [],
   "source": [
    "import numpy as np"
   ]
  },
  {
   "cell_type": "code",
   "execution_count": 2,
   "metadata": {},
   "outputs": [],
   "source": [
    "from imp import reload"
   ]
  },
  {
   "cell_type": "code",
   "execution_count": 3,
   "metadata": {},
   "outputs": [],
   "source": [
    "# Instead of weightedIterativeStatistic, let's just use the \n",
    "# calc_wfm function we created to get a good estimate."
   ]
  },
  {
   "cell_type": "code",
   "execution_count": 4,
   "metadata": {},
   "outputs": [],
   "source": [
    "# Let's try and implement this in numpy/scipy instead."
   ]
  },
  {
   "cell_type": "code",
   "execution_count": 5,
   "metadata": {},
   "outputs": [],
   "source": [
    "import for_upload.wFmConv as wfc"
   ]
  },
  {
   "cell_type": "code",
   "execution_count": 6,
   "metadata": {},
   "outputs": [],
   "source": [
    "import customConv as ccv"
   ]
  },
  {
   "cell_type": "markdown",
   "metadata": {},
   "source": [
    "## Read in Input"
   ]
  },
  {
   "cell_type": "code",
   "execution_count": 7,
   "metadata": {
    "scrolled": true
   },
   "outputs": [],
   "source": [
    "from process_radioML_data import *"
   ]
  },
  {
   "cell_type": "code",
   "execution_count": 8,
   "metadata": {},
   "outputs": [],
   "source": [
    "X, lbl, snrs, classes = read_in_RML()"
   ]
  },
  {
   "cell_type": "code",
   "execution_count": 9,
   "metadata": {},
   "outputs": [],
   "source": [
    "X_train, Y_train, X_test, Y_test = partition_train_test(X, \\\n",
    "                    lbl, classes, maxtrain=1000, maxtest=500)"
   ]
  },
  {
   "cell_type": "code",
   "execution_count": 10,
   "metadata": {
    "scrolled": true
   },
   "outputs": [
    {
     "data": {
      "text/plain": [
       "((1000, 2, 128), (1000, 11), (500, 2, 128), (500, 11))"
      ]
     },
     "execution_count": 10,
     "metadata": {},
     "output_type": "execute_result"
    }
   ],
   "source": [
    "X_train.shape, Y_train.shape, X_test.shape, Y_test.shape"
   ]
  },
  {
   "cell_type": "markdown",
   "metadata": {},
   "source": [
    "## Put something through a convolutional layer"
   ]
  },
  {
   "cell_type": "code",
   "execution_count": 11,
   "metadata": {},
   "outputs": [],
   "source": [
    "point_list = X_train[10]"
   ]
  },
  {
   "cell_type": "code",
   "execution_count": 12,
   "metadata": {},
   "outputs": [],
   "source": [
    "outdim = 126"
   ]
  },
  {
   "cell_type": "code",
   "execution_count": 43,
   "metadata": {},
   "outputs": [],
   "source": [
    "num_channels = 2"
   ]
  },
  {
   "cell_type": "code",
   "execution_count": 44,
   "metadata": {},
   "outputs": [],
   "source": [
    "window_length = 3"
   ]
  },
  {
   "cell_type": "code",
   "execution_count": 65,
   "metadata": {
    "scrolled": true
   },
   "outputs": [],
   "source": [
    "filter_array = ccv.make_filters(outdim, num_channels, window_length)"
   ]
  },
  {
   "cell_type": "code",
   "execution_count": 66,
   "metadata": {},
   "outputs": [
    {
     "data": {
      "text/plain": [
       "(126, 2, 3)"
      ]
     },
     "execution_count": 66,
     "metadata": {},
     "output_type": "execute_result"
    }
   ],
   "source": [
    "filter_array.shape"
   ]
  },
  {
   "cell_type": "code",
   "execution_count": 86,
   "metadata": {
    "scrolled": true
   },
   "outputs": [
    {
     "data": {
      "text/plain": [
       "<module 'customConv' from '/home/allisonrmcalister/customConv.py'>"
      ]
     },
     "execution_count": 86,
     "metadata": {},
     "output_type": "execute_result"
    }
   ],
   "source": [
    "reload(ccv)"
   ]
  },
  {
   "cell_type": "code",
   "execution_count": 87,
   "metadata": {},
   "outputs": [],
   "source": [
    "convolved = ccv.complex_conv(point_list, outdim, filter_array)"
   ]
  },
  {
   "cell_type": "code",
   "execution_count": 88,
   "metadata": {
    "collapsed": true
   },
   "outputs": [
    {
     "data": {
      "text/plain": [
       "array([[ 6.51614780e-03,  2.51579913e-03,  1.71970832e-03,\n",
       "         2.28791990e-03, -1.52091496e-03, -3.44860181e-03,\n",
       "        -6.98360695e-03, -6.47597201e-03, -7.04007549e-03,\n",
       "        -6.70658983e-03, -5.52810729e-03, -3.63644329e-03,\n",
       "        -1.56215337e-03,  1.70624581e-03,  3.90356523e-03,\n",
       "         5.97775262e-03,  7.31090549e-03,  7.88181648e-03,\n",
       "         7.62783224e-03,  6.71994220e-03,  5.36846835e-03,\n",
       "         3.89049016e-03,  4.78643241e-03,  1.63341942e-03,\n",
       "         1.31007470e-03,  1.67436490e-03,  2.29637204e-03,\n",
       "         4.68709340e-03,  5.83816506e-03,  7.51472265e-03,\n",
       "         8.84112716e-03,  1.14084652e-02,  9.70487855e-03,\n",
       "         9.01245512e-03,  7.57436967e-03,  5.57227712e-03,\n",
       "         3.21448897e-03,  2.69793569e-04, -1.52638159e-03,\n",
       "        -3.40897450e-03, -2.43393969e-03, -4.25341214e-03,\n",
       "        -5.42208645e-03, -4.71771547e-03, -3.71283540e-03,\n",
       "        -4.33713905e-03, -2.28347606e-03, -1.74977037e-03,\n",
       "        -1.72306085e-03, -2.17734231e-03, -3.13348859e-03,\n",
       "        -4.43304842e-03, -5.86472079e-03, -1.12149083e-02,\n",
       "        -8.09798576e-03, -8.35860521e-03, -7.80719426e-03,\n",
       "        -7.19787859e-03, -4.24222881e-03, -1.49583560e-03,\n",
       "         1.52297202e-03,  6.15529074e-03,  6.93004020e-03,\n",
       "         8.63726996e-03,  7.71711989e-03,  9.00023244e-03,\n",
       "         6.14268561e-03,  5.39601827e-03,  2.67719175e-03,\n",
       "        -4.70993233e-04, -3.10176570e-03, -4.87937406e-03,\n",
       "        -6.21599518e-03, -6.67875353e-03, -6.34756312e-03,\n",
       "        -5.45047904e-03, -4.00186237e-03, -2.48791836e-03,\n",
       "        -1.12772291e-03, -4.42893943e-05,  5.58520784e-04,\n",
       "         7.38860574e-04,  1.85126620e-03, -6.87222441e-04,\n",
       "        -7.89866142e-04, -1.56468805e-03, -2.31445907e-03,\n",
       "        -2.97034555e-03, -3.58902803e-03, -4.88162699e-03,\n",
       "        -4.67038061e-03, -2.67360368e-03, -5.63442381e-03,\n",
       "        -5.98662999e-03, -6.10079896e-03, -5.84656373e-03,\n",
       "        -5.09511121e-03, -3.82287404e-03, -2.04156293e-03,\n",
       "         1.50770415e-04,  2.54521263e-03,  4.90915868e-03,\n",
       "         7.56232690e-03,  8.28678999e-03,  8.81695747e-03,\n",
       "         8.46863911e-03,  7.21750036e-03,  5.21802856e-03,\n",
       "         2.76838825e-03,  1.40796066e-04, -2.26235786e-03,\n",
       "        -4.76988046e-03, -5.50034828e-03, -6.01995829e-03,\n",
       "        -5.81548456e-03, -5.00810938e-03, -3.83267691e-03,\n",
       "        -2.51318840e-03, -3.85244550e-03,  2.78001607e-03,\n",
       "         2.15738295e-03,  5.31363534e-04,  3.79188918e-04,\n",
       "         1.08188033e-05, -5.21576381e-04,  0.00000000e+00],\n",
       "       [-2.76030728e-03,  1.71970832e-03,  3.07693495e-04,\n",
       "        -2.06400937e-03, -3.44860181e-03, -5.21288533e-03,\n",
       "        -5.71856633e-03, -7.04007549e-03, -6.70658983e-03,\n",
       "        -5.52810729e-03, -3.63644329e-03, -1.18376396e-03,\n",
       "         1.56359856e-03,  3.84272505e-03,  5.97775262e-03,\n",
       "         7.31090549e-03,  7.88181648e-03,  7.62783224e-03,\n",
       "         6.71994220e-03,  5.36846835e-03,  3.89049016e-03,\n",
       "         2.56351684e-03,  5.28533860e-04,  1.31007470e-03,\n",
       "         1.67436490e-03,  2.66451761e-03,  4.36360641e-03,\n",
       "         7.10796081e-03,  7.51472265e-03,  8.84112716e-03,\n",
       "         9.63915419e-03,  1.40486987e-02,  9.01245512e-03,\n",
       "         7.57436967e-03,  5.57227712e-03,  3.21448897e-03,\n",
       "         7.59538321e-04, -1.84275847e-03, -3.40897450e-03,\n",
       "        -4.70729638e-03, -7.00920218e-03, -6.09820182e-03,\n",
       "        -4.94565815e-03, -3.80695277e-03, -1.51693131e-03,\n",
       "        -1.51936084e-03, -1.74977037e-03, -1.72306085e-03,\n",
       "        -2.17734231e-03, -3.13348859e-03, -4.43304842e-03,\n",
       "        -5.86472079e-03, -7.18756486e-03, -1.22949477e-02,\n",
       "        -8.35860521e-03, -7.80719426e-03, -6.41654618e-03,\n",
       "        -2.05016059e-03, -1.49583560e-03,  1.52297202e-03,\n",
       "         4.44755238e-03,  9.10502042e-03,  8.63726996e-03,\n",
       "         9.35832690e-03,  8.80256108e-03,  7.60625117e-03,\n",
       "         5.42582867e-03,  2.67719175e-03, -1.89731945e-04,\n",
       "        -2.82007922e-03, -4.56901935e-03, -6.21599518e-03,\n",
       "        -6.67875353e-03, -6.34756312e-03, -5.37319342e-03,\n",
       "        -3.47596732e-03, -2.48791836e-03, -1.12772291e-03,\n",
       "        -4.42893943e-05,  5.58520784e-04,  7.38860574e-04,\n",
       "         4.82014380e-04, -1.41558653e-03, -2.05098862e-03,\n",
       "        -1.56468805e-03, -2.31445907e-03, -2.97034555e-03,\n",
       "        -3.58902803e-03, -4.14327718e-03, -5.89621058e-03,\n",
       "        -5.17854979e-03, -6.89342965e-03, -5.98662999e-03,\n",
       "        -6.10079896e-03, -5.84656373e-03, -5.09511121e-03,\n",
       "        -3.82287404e-03, -2.04156293e-03,  1.50770415e-04,\n",
       "         2.54521263e-03,  4.90915868e-03,  6.88993745e-03,\n",
       "         8.25709278e-03,  8.81695747e-03,  8.46863911e-03,\n",
       "         7.21750036e-03,  5.21802856e-03,  2.76838825e-03,\n",
       "         1.40796066e-04, -2.26235786e-03, -4.22094576e-03,\n",
       "        -5.73432064e-03, -6.01995829e-03, -5.81548456e-03,\n",
       "        -5.00810938e-03, -3.83267691e-03, -2.51318840e-03,\n",
       "        -1.27340737e-03, -3.32816881e-03,  2.57273344e-03,\n",
       "         2.35712032e-03,  3.79188918e-04,  1.08188033e-05,\n",
       "        -5.21576381e-04, -1.10484893e-03,  0.00000000e+00]])"
      ]
     },
     "execution_count": 88,
     "metadata": {},
     "output_type": "execute_result"
    }
   ],
   "source": [
    "convolved"
   ]
  },
  {
   "cell_type": "code",
   "execution_count": 95,
   "metadata": {},
   "outputs": [],
   "source": [
    "def sigmoid(x):\n",
    "    return 1/(1+np.exp(-x))"
   ]
  },
  {
   "cell_type": "code",
   "execution_count": 96,
   "metadata": {},
   "outputs": [],
   "source": [
    "def relu(x):\n",
    "    x = (x > 0) * x\n",
    "    return x"
   ]
  },
  {
   "cell_type": "code",
   "execution_count": 97,
   "metadata": {},
   "outputs": [],
   "source": [
    "def grad_loss(prediction, labels):\n",
    "    label_reshape = ccv.to_categorical(labels)\n",
    "    grad_loss_out = []\n",
    "    for i in range(len(prediction)):\n",
    "        grad_loss_out.append(2*(prediction[i] - label_reshape[i]))\n",
    "    return np.array(grad_loss_out)"
   ]
  },
  {
   "cell_type": "code",
   "execution_count": null,
   "metadata": {},
   "outputs": [],
   "source": []
  },
  {
   "cell_type": "code",
   "execution_count": 94,
   "metadata": {},
   "outputs": [],
   "source": [
    "def single_layer_backward_propagation(dA_curr, W_curr, b_curr, Z_curr, \\\n",
    "                                     A_prev, activation='relu'):\n",
    "    m = A_prev.shape[1]\n",
    "    \n",
    "    if activation is 'relu':\n",
    "        backward_activation_func = relu_backward\n",
    "    elif activation is 'sigmoid':\n",
    "        backward_activation_func = sigmoid_backward\n",
    "    else:\n",
    "        raise Exception('Non-supported activation function')\n",
    "    \n",
    "    dZ_curr = backward_activation_func(dA_curr, Z_curr)\n",
    "    dW_curr = np.dot(dZ_curr, A_prev.T) / m\n",
    "    db_curr = np.sum(dZ_curr, axis=1, keepdims=True) / m\n",
    "    dA_prev = np.dot(W_curr.T, dZ_curr)\n",
    "    \n",
    "    return dA_prev, dW_curr, db_curr"
   ]
  },
  {
   "cell_type": "code",
   "execution_count": 93,
   "metadata": {},
   "outputs": [],
   "source": [
    "def convolutional_input_backpropagation(actual_layer_outputs, \\\n",
    "    previous_layer_kernel_weights, previous_layer_bias,\\\n",
    "    previous_layer_outputs, grad_loss_outputs):\n",
    "    # Calculating the weight gradients\n",
    "    \n",
    "    # Step 1 - Calculate the gradient of the loss w.r.t. the layers node outputs\n",
    "    # Step 2 - Calculate the gradient of each node w.r.t. each z,\n",
    "    # where output[i] = sigmoid(z[i])\n",
    "    \n",
    "    grad_outputs_z = actual_layer_outputs * (1 - actual_layer_outputs)\n",
    "    \n",
    "    # Step 3 - Calculate the gradient of the loss w.r.t. each\n",
    "    # kernel weight using the chain rule\n",
    "    batches = len(actual_layer_outputs)\n",
    "    n_kernels = previous_layer_kernel_weights.shape[-1]\n",
    "    k_row = previous_layer_kernel_weights.shape[0]\n",
    "    k_col = previous_layer_kernel_weights.shape[1]\n",
    "    \n",
    "    outputs_row = actual_layer_outputs.shape[1]\n",
    "    outputs_col = actual_layer_outputs.shape[2]\n",
    "    \n",
    "    grad_k = np.empty((batches, k_row, k_col, n_kernels))\n",
    "    for batch in range(batches):\n",
    "        for nk in range(n_kernels):\n",
    "            for i in range(k_row):\n",
    "                for j in range(k_col):\n",
    "                    grad_k[batch,i,j] = np.sum(\\\n",
    "                        (grad_loss_outputs[batch][:,:,nk] *\\\n",
    "                        grad_outputs_z[batch][:,:,nk])\\\n",
    "                    * previous_layer_outputs[batch][i:i+outputs_row:j+outputs_col])\n",
    "                                               \n",
    "    # Step 4 - Calculate the average of the gradients\n",
    "    grad_loss_kernel = np.empty((k_row, k_col, n_kernels))\n",
    "    for nk in range(n_kernels):\n",
    "        for i in range(k_row):\n",
    "            for j in range(k_col):\n",
    "                grad_loss_kernel[i,j,nk] = np.mean(grad_k[:,i,j,nk])\n",
    "    return grad_loss_kernel"
   ]
  },
  {
   "cell_type": "code",
   "execution_count": null,
   "metadata": {},
   "outputs": [],
   "source": []
  }
 ],
 "metadata": {
  "kernelspec": {
   "display_name": "Python 3",
   "language": "python",
   "name": "python3"
  },
  "language_info": {
   "codemirror_mode": {
    "name": "ipython",
    "version": 3
   },
   "file_extension": ".py",
   "mimetype": "text/x-python",
   "name": "python",
   "nbconvert_exporter": "python",
   "pygments_lexer": "ipython3",
   "version": "3.7.3"
  }
 },
 "nbformat": 4,
 "nbformat_minor": 2
}
